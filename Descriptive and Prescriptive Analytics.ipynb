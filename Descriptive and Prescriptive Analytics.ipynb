{
 "cells": [
  {
   "cell_type": "markdown",
   "id": "eeba3eea-c805-403e-8202-e6c857820b0c",
   "metadata": {},
   "source": [
    "# PROJECT INSTRUCTIONS AND TEMPLATE"
   ]
  },
  {
   "cell_type": "markdown",
   "id": "69a64e1e-7bd2-4f05-a89b-979cfdc60b6b",
   "metadata": {},
   "source": [
    "You will work with several data files for this project. The goal of the project is to read, clean and transform available data to provide meaningful insights and perform useful computations on the data. You will start with reading and pre-processing climate data and answering some questions using this data. Then you will add demand forecasts (which depend on the climate) to the data and calculate some metrics useful for operations management. \n",
    "\n",
    "Some scaffolding is provided but it is mostly left up to you to figure out the detailed steps to accomplish tasks. Keep in mind though that your work will be evaluated on 1) how accurate it is, 2) whether you have met all assignment specifications, 3) how efficient your code is (for example, did you use a loop for repeated tasks), 4) how well you followed the good coding practices emphasized in the course. \n",
    "\n",
    "The steps required for the project are such that you can accomplish all tasks (except two) using the functionality you have learned in the course. For the two exceptions, instructions mention the libraries / functions that you should use. You can look it up  in the pandas reference and/or find examples on the web. <font color = \"red\"> The scope of this project is all material covered in the course until the lesson on Data Analysis in Python XIII - Conditions and Iteration with Datasets.</font>\n",
    "\n",
    "<font color = \"red\">All academic integrity guidelines specified in the syllabus apply to this project as well. **DO NOT use concepts and functions not previously discussed in the course (even if you learned them elsewhere). The default penalty is zero for the question where such code is used.** If we notice the use of concepts and functions that were not covered in the course or mentioned in the question, or if the code does not appear similar to what your team has turned in before, we will ask you to set up a zoom meeting to explain the code. Failure to explain your submitted code may result in academic integrity violation proceedings. Please **CHECK THE ACADEMIC INTEGRITY SECTION IN THE SYLLABUS** for complete information. It is **your responsibility to review your code to ensure that you have only used concepts and functions covered in the course**.</font>\n",
    "\n",
    "**To complete and submit this project, execute the following steps:**\n",
    "\n",
    "\n",
    "1. Read the instructions in the remainder of this notebook and add your code to accomplish tasks. \n",
    "2. When you encounter questions to answer, write code to answer the question and then copy your answer to the markdown cell provided.\n",
    "3. When you get to the end of the questions, re-execute your code as outlined below\n",
    "    - Select Kernel > Restart Kernel and Run All Cells from the menu bar. \n",
    "    - Look through your code cells to ensure there are no errors. \n",
    "    - Look through all the questions and ensure that your response in the markdown cell matches the result you get from the corresponding code cell. \n",
    "    - Fix and errors/ mismatches that you find. \n",
    "4. After you have fixed all errors/ mismatches, access the Final Project Canvas quiz and submit your answers to all questions. Upload your notebook as a response to the last quiz question. **The quiz will allow 5 attempts and record your highest score**. You will be able to see which of your responses are incorrect after the first attempt. Use this information to fix errors in your notebook to get revised answers to the questions. Note that this may change answers to questions you answered correctly before. That should be a clue that you may still not have arrived at the correct answers. Once you are satisfied with your responses, attempt the Canvas quiz again and enter new responses. Upload the new version of your notebook as well. All your responses should be consistent with the latest version of your notebook (the TAs will verify this when they grade the manual part of the project). The notebook corresponding to the quiz attempt with the highest score will be manually graded to 1) confirm that the answers in the notebook match your quiz responses and 2) to grade other rubric items mentioned above (items and points are listed in the Canvas quiz). "
   ]
  },
  {
   "cell_type": "markdown",
   "id": "c6214188-da9a-4690-85a1-075f80e6d482",
   "metadata": {},
   "source": [
    "<HR/>\n",
    "\n",
    "## <font color='red'/>Student Name</font>\n",
    "\n",
    "#### **Name:** Shweta Kulkarni"
   ]
  },
  {
   "cell_type": "markdown",
   "id": "30ef3341-3923-4438-aa90-990cf4174932",
   "metadata": {},
   "source": [
    "## Data Preparation"
   ]
  },
  {
   "cell_type": "markdown",
   "id": "d2980d57-57fb-4554-a78c-ee58aa2f6f53",
   "metadata": {},
   "source": [
    "The data files for this project are available in the climate_data.zip folder. Download and unzip the folder (extract the files from the zip archive). When you do, you will see three folders named \"total_precipitation\", \"vapor_pressure\" and \"sunshine_duration\". Each folder contains multiple text files. Create three folders in Jupyter lab that have the above mentioned names (exactly). The folders should be at the same location as the project notebook. Then, upload the corresponding files to each folder. Note that Jupyter Lab does not support uploading an entire folder but does support uploading multiple files at once (select and drag-drop the files to upload). If you do this correctly, the pathname for the file total_precipitation_1951.txt will be \"total_precipitation/total_precipitation_1951.txt\". "
   ]
  },
  {
   "cell_type": "markdown",
   "id": "e158f304-47bd-41d1-bb73-037c023f2fc7",
   "metadata": {},
   "source": [
    "Check the contents of the three folders. Each folder contains multiple files. Each file contains data for 12 months of a particular year. The year is identified in the name of the file and is also the first number in the file. The subsequent numbers in each file (after the year) are measurements for a given quantity (total precipiation, vapor pressure or sunshine duration) for the different months of the year. Notice that the column headers, which are included in the file content, are in German."
   ]
  },
  {
   "cell_type": "markdown",
   "id": "0f56f869-3293-4afa-8e0d-f5ba79e62be5",
   "metadata": {},
   "source": [
    "Read the data from all files in the three folders into three dataframes called precipation_data, vaopr_data and sunshine_data that meet the following specifications:\n",
    "\n",
    "* Missing values are denoted by np.NaN\n",
    "* Column names are in English instead of German"
   ]
  },
  {
   "cell_type": "markdown",
   "id": "dc4c8525-644e-4273-97c7-3636bde53f7c",
   "metadata": {},
   "source": [
    "Find an efficient way to perform this task. For example, don't manually type the name of each file to be read. Use the `os` module in Python to retrieve a list of all files in a given folder. It contains a function that provides a list of all files in a folder. Feel free to search the Python documentation or do a web search to find the appropriate funtion from the os module. You may use only this one function from the os module. Do not use any other functions from the os module or other functions you find in your websearch that have not been covered in the course. \n",
    "\n",
    "You may see a file called `'.ipynb_checkpoints'` listed. You can ignore or delete this file since it is not a data file (i.e., don't try to read data from this file).\n",
    "\n",
    "Don't write one or more lines of code for reading each file (i.e, don't write 10 lines of code to read 10 files from the total_precipitation folder, 20 lines of code to read 20 files and so on). Figure out a way to read many files with fewer lines of code. You can create separate code for each folder if you want."
   ]
  },
  {
   "cell_type": "markdown",
   "id": "c9bf34f8-527b-409b-ac5a-77fd5d102265",
   "metadata": {},
   "source": [
    "Perform the necessary checks to ensure that all files have been read, all data has been combined correctly and the data have appropriate data types."
   ]
  },
  {
   "cell_type": "code",
   "execution_count": 1,
   "id": "b0bf2e5d-3282-43cb-982c-b20f74f885c4",
   "metadata": {},
   "outputs": [
    {
     "name": "stdout",
     "output_type": "stream",
     "text": [
      "Precipitation Data:\n",
      "    Year  January  February  March  April   May  June  July  August  \\\n",
      "0   1967     32.0      44.0   30.0   46.0  22.0  24.0  13.0    82.0   \n",
      "0   2011    112.0     101.0   70.0   80.0  28.0  28.0  12.0    37.0   \n",
      "0   1987     66.0      46.0   74.0   90.0  41.0   5.0  34.0    30.0   \n",
      "0   1956     87.0      36.0   35.0   26.0  22.0  25.0  35.0    29.0   \n",
      "0   1951     48.0      49.0   98.0   61.0  23.0  34.0  44.0   146.0   \n",
      "..   ...      ...       ...    ...    ...   ...   ...   ...     ...   \n",
      "0   1959     72.0      92.0  109.0   38.0  36.0  52.0  26.0   107.0   \n",
      "0   1952    100.0      24.0   28.0   23.0  16.0  35.0  25.0    19.0   \n",
      "0   1982     59.0      38.0   76.0   64.0  16.0   9.0  43.0    43.0   \n",
      "0   2002     54.0      32.0   34.0   80.0  49.0  12.0   9.0    63.0   \n",
      "0   2000     51.0      53.0   95.0   18.0  73.0   7.0  16.0    76.0   \n",
      "\n",
      "    September  October  November  December  \n",
      "0        59.0     39.0      50.0      50.0  \n",
      "0       122.0     64.0     157.0      58.0  \n",
      "0        52.0    226.0      63.0      71.0  \n",
      "0        83.0    173.0     131.0      78.0  \n",
      "0        64.0     89.0      47.0      72.0  \n",
      "..        ...      ...       ...       ...  \n",
      "0       100.0    102.0      47.0      74.0  \n",
      "0        59.0    105.0      56.0      80.0  \n",
      "0        70.0     55.0      98.0      55.0  \n",
      "0        44.0     42.0      25.0      73.0  \n",
      "0       103.0    113.0      24.0      36.0  \n",
      "\n",
      "[67 rows x 13 columns]\n",
      "Vapor Data:\n",
      "   Year  January  February  March  April   May  June  July  August  September  \\\n",
      "0  1984     28.1      28.1   28.1   29.8   NaN  29.8  29.8    29.8       29.8   \n",
      "0  2000      NaN       NaN    NaN    NaN   NaN   NaN   NaN     NaN        NaN   \n",
      "0  1982     28.0      28.1    NaN   29.8  29.8  29.8  29.8    29.8       28.1   \n",
      "0  1992      NaN       NaN   29.8   29.8  31.6  29.8  29.8    31.6       29.8   \n",
      "0  1994     29.8      29.8   29.8   29.8  29.8   NaN  29.8    29.8       29.8   \n",
      "0  1990     28.1      29.8   28.1   29.8   NaN  28.2   NaN     NaN       29.8   \n",
      "0  1968     26.4      26.4   28.1   28.1  29.8  29.8  29.8    29.8       29.8   \n",
      "0  1972      NaN       NaN    NaN    NaN   NaN   NaN   NaN    28.1        NaN   \n",
      "0  1975     28.1      28.1   28.1   29.9   NaN  29.9  29.9    29.9       29.9   \n",
      "0  2016     28.0      28.5   28.0   29.9  31.7  29.9  30.7    30.9       30.3   \n",
      "0  1991     28.1      28.1   28.1    NaN  31.6   NaN  31.6    29.8       31.6   \n",
      "0  2007      NaN       NaN    NaN    NaN   NaN   NaN   NaN     NaN       31.6   \n",
      "0  1970     28.1      28.1   28.1   29.9  29.8  29.9  28.1    29.8       29.8   \n",
      "0  2003      NaN       NaN    NaN    NaN   NaN   NaN   NaN     NaN        NaN   \n",
      "0  2002      NaN      28.0    NaN    NaN   NaN   NaN   NaN    29.4        NaN   \n",
      "0  1979     28.1       NaN    NaN   29.8  29.8  29.8  29.8    29.8       29.8   \n",
      "0  1971     26.4      26.1   26.4    NaN  29.8  28.1  29.8    28.1        NaN   \n",
      "0  1988     29.8      29.8   29.8   31.7  29.8  29.8  31.7    29.8       31.7   \n",
      "0  1983     28.1      28.1   29.8   29.8  31.7  31.7  29.8    29.8       29.8   \n",
      "0  2006      NaN       NaN    NaN    NaN   NaN   NaN   NaN    29.8        NaN   \n",
      "0  2009      NaN       NaN    NaN    NaN   NaN   NaN  30.3     NaN        NaN   \n",
      "0  2001      NaN       NaN    NaN    NaN   NaN   NaN  30.3     NaN        NaN   \n",
      "0  1993      NaN       NaN   27.2   29.8  23.8  29.8  29.8    29.8       29.8   \n",
      "0  1976     28.1      28.1   28.1    NaN   NaN   NaN   NaN     NaN        NaN   \n",
      "0  1974     28.1      28.1   28.1    NaN  29.9   NaN   NaN     NaN       29.9   \n",
      "0  2017     29.9      28.0   29.9   30.2  31.7  30.3  30.2    30.6       30.2   \n",
      "0  2013     29.9      29.4   29.9   31.1  31.3  30.8  29.9    30.5       30.5   \n",
      "0  2015     29.8      28.0   28.0   31.7  32.1  32.0  31.7    31.7       31.7   \n",
      "0  1995     28.1       NaN    NaN    NaN   NaN   NaN   NaN     NaN        NaN   \n",
      "0  2011     29.7      29.6   30.5   30.6  31.5  31.3  31.0    30.9       30.7   \n",
      "0  2014     28.0      28.0   29.3   30.9  32.2  32.0  31.9    31.4       31.0   \n",
      "0  1981     28.1      28.1   22.2    NaN  31.7   NaN  29.8     NaN       29.8   \n",
      "0  2012      NaN      30.0    NaN   31.4  31.3  30.9  31.1    31.4       30.9   \n",
      "0  1989     29.8      29.8   29.8   29.8  31.6  29.8  28.1    29.8       29.8   \n",
      "0  1969     26.4      26.4   28.1   29.8  29.8  29.8  29.8     NaN       29.8   \n",
      "0  1986     29.8      28.1   29.8    NaN  29.8   NaN  29.8    29.8       29.8   \n",
      "0  1985      NaN       NaN   29.8    NaN  29.8   NaN  29.8    29.8       29.8   \n",
      "0  2004      NaN      28.0    NaN    NaN   NaN   NaN  27.8     NaN        NaN   \n",
      "0  1997      NaN       NaN   28.1    NaN   NaN   NaN   NaN     NaN        NaN   \n",
      "0  2010      NaN       NaN    NaN    NaN   NaN   NaN  31.4     NaN        NaN   \n",
      "0  2008      NaN       NaN    NaN    NaN   NaN   NaN   NaN    28.9        NaN   \n",
      "0  1987     26.4       NaN   29.8    NaN  31.7  31.7   NaN    29.8        NaN   \n",
      "0  1980      NaN      28.2   28.1   29.8   NaN   NaN  29.8    29.8       29.8   \n",
      "0  1978     28.1       NaN   28.1   26.4   NaN   NaN   NaN     NaN        NaN   \n",
      "\n",
      "   October  November  December  \n",
      "0     29.8      29.8      29.8  \n",
      "0      NaN       NaN      29.9  \n",
      "0     29.8      29.8      29.8  \n",
      "0     29.8      29.8       NaN  \n",
      "0     29.8      29.8      29.8  \n",
      "0     29.8      29.8      26.4  \n",
      "0     29.8      28.1      28.1  \n",
      "0      NaN       NaN      28.0  \n",
      "0     29.9      29.9      29.9  \n",
      "0     30.6      29.9      29.9  \n",
      "0      NaN      31.6      29.8  \n",
      "0      NaN       NaN       NaN  \n",
      "0     29.8      29.8       NaN  \n",
      "0      NaN      28.0       NaN  \n",
      "0      NaN       NaN       NaN  \n",
      "0     29.8      29.8       NaN  \n",
      "0      NaN      28.0       NaN  \n",
      "0     29.8      28.1      29.8  \n",
      "0     31.7      29.8      29.8  \n",
      "0      NaN       NaN       NaN  \n",
      "0      NaN       NaN       NaN  \n",
      "0      NaN       NaN       NaN  \n",
      "0     29.8      29.8      29.8  \n",
      "0      NaN       NaN       NaN  \n",
      "0     29.9       NaN       NaN  \n",
      "0     30.6      30.5      30.3  \n",
      "0     30.3      29.9      30.6  \n",
      "0     31.7      31.7      29.9  \n",
      "0      NaN       NaN       NaN  \n",
      "0     30.6      30.8      31.1  \n",
      "0     31.7      31.4      30.2  \n",
      "0     29.8      29.8      29.8  \n",
      "0     30.7      31.1      29.8  \n",
      "0     29.8       NaN      31.6  \n",
      "0     29.8      29.8      29.8  \n",
      "0      NaN      29.8       NaN  \n",
      "0     29.8      29.8       NaN  \n",
      "0      NaN       NaN       NaN  \n",
      "0      NaN       NaN       NaN  \n",
      "0      NaN       NaN       NaN  \n",
      "0      NaN       NaN       NaN  \n",
      "0     31.7      31.7       NaN  \n",
      "0     29.8       NaN      31.7  \n",
      "0     28.1      29.8      29.9  \n",
      "Sunshine Data:\n",
      "   Year  January  February  March  April    May   June   July  August  \\\n",
      "0  2000    205.0     175.0  210.0  201.0  195.0  183.0  217.0   322.0   \n",
      "0  1991    182.0     305.0  209.0    NaN  241.0    NaN  197.0   198.0   \n",
      "0  1982    199.0     174.0    NaN    NaN  212.0  153.0  214.0     NaN   \n",
      "0  1995    215.0     223.0  208.0  230.0  229.0  180.0  168.0     NaN   \n",
      "0  1981      NaN     212.0  244.0    NaN  206.0    NaN  193.0     NaN   \n",
      "0  1988    267.0     188.0  214.0  215.0  292.0  163.0    NaN   220.0   \n",
      "0  1996      NaN       NaN    NaN    NaN    NaN    NaN  173.0     NaN   \n",
      "0  1984    206.0     184.0  228.0  170.0  203.0  163.0  194.0   200.0   \n",
      "0  2009    160.0     194.0  146.0  183.0  195.0  140.0  130.0     NaN   \n",
      "0  2010    187.0       NaN  276.0  251.0  218.0    NaN  162.0     NaN   \n",
      "0  2005      NaN     214.0  246.0  219.0    NaN  130.0    NaN   165.0   \n",
      "0  2015    249.0     240.0  296.0  231.0  212.0  155.0  212.0   204.0   \n",
      "0  2016    276.0       NaN  281.0  243.0  225.0  174.0  192.0   224.0   \n",
      "0  1987    253.0       NaN  241.0  270.0  232.0  185.0    NaN   191.0   \n",
      "0  1992      NaN     235.0  215.0  221.0  192.0  143.0  173.0   220.0   \n",
      "0  2007    187.0     218.0  212.0  248.0  226.0  155.0  163.0     NaN   \n",
      "0  1979    253.0       NaN    NaN  228.0  207.0    NaN  169.0     NaN   \n",
      "0  1980      NaN     230.0  249.0  232.0    NaN    NaN  213.0   195.0   \n",
      "0  1985    232.0       NaN  249.0    NaN  223.0    NaN  174.0   238.0   \n",
      "0  2002    230.0     232.0  247.0    NaN  211.0  114.0    NaN   172.0   \n",
      "0  1999    157.0       NaN  160.0  157.0  125.0   91.0    NaN   164.0   \n",
      "0  1978      NaN       NaN  257.0    NaN    NaN    NaN    NaN   170.0   \n",
      "0  1997    200.0     155.0  274.0  234.0  230.0  193.0  180.0   217.0   \n",
      "0  1998      NaN       NaN    NaN    NaN  213.0   98.0    NaN     NaN   \n",
      "0  1990    232.0     245.0  189.0  236.0    NaN  155.0  254.0     NaN   \n",
      "0  2003    241.0     206.0    NaN  251.0    NaN    NaN  150.0   195.0   \n",
      "0  1994    223.0     185.0  190.0  192.0  140.0    NaN  158.0   174.0   \n",
      "0  2004    244.0     180.0  230.0  230.0  203.0  155.0    NaN   210.0   \n",
      "0  2011      NaN     168.0  177.0  209.0  168.0  148.0  181.0   205.0   \n",
      "0  2001    220.0       NaN  188.0  204.0  196.0  143.0    NaN   130.0   \n",
      "0  2008    196.0     154.0  195.0  192.0  169.0    NaN  172.0   180.0   \n",
      "0  1986    162.0     207.0  210.0  238.0  250.0    NaN    NaN     NaN   \n",
      "0  2013    156.0     212.0  263.0  193.0  192.0  149.0    NaN   167.0   \n",
      "0  2012    168.0     165.0    NaN    NaN  196.0  223.0  167.0     NaN   \n",
      "0  2006    217.0     205.0    NaN  197.0  160.0  121.0  210.0     NaN   \n",
      "0  1993      NaN     183.0  225.0  220.0  235.0  159.0  191.0   177.0   \n",
      "0  2014    197.0     228.0  264.0  244.0  195.0  184.0  174.0   216.0   \n",
      "0  1989    267.0       NaN  183.0  182.0  187.0  175.0    NaN   376.0   \n",
      "0  1983    261.0     257.0  240.0  249.0  240.0  206.0  170.0   194.0   \n",
      "\n",
      "   September  October  November  December  \n",
      "0      208.0      NaN     202.0     262.0  \n",
      "0      188.0      NaN     239.0     239.0  \n",
      "0      180.0    197.0     271.0     268.0  \n",
      "0        NaN      NaN     208.0       NaN  \n",
      "0      168.0    148.0     234.0     261.0  \n",
      "0        NaN      NaN     147.0     203.0  \n",
      "0      180.0      NaN       NaN       NaN  \n",
      "0      189.0    128.0     245.0     222.0  \n",
      "0      162.0    250.0     215.0     260.0  \n",
      "0      215.0    176.0     214.0     219.0  \n",
      "0        NaN      NaN       NaN     150.0  \n",
      "0      164.0    209.0     232.0     274.0  \n",
      "0      175.0    187.0     201.0     229.0  \n",
      "0        NaN    235.0     226.0       NaN  \n",
      "0      181.0    121.0       NaN       NaN  \n",
      "0        NaN    189.0     150.0     238.0  \n",
      "0        NaN      NaN       NaN       NaN  \n",
      "0      195.0    195.0       NaN     197.0  \n",
      "0      237.0    174.0     222.0       NaN  \n",
      "0      172.0    224.0     212.0       NaN  \n",
      "0      211.0    204.0     168.0     187.0  \n",
      "0        NaN      NaN     209.0     245.0  \n",
      "0      156.0    235.0     247.0       NaN  \n",
      "0      183.0    106.0       NaN     195.0  \n",
      "0      166.0    225.0     187.0     246.0  \n",
      "0        NaN    164.0     236.0     173.0  \n",
      "0      234.0    210.0       NaN     229.0  \n",
      "0      181.0    200.0     248.0       NaN  \n",
      "0      194.0    223.0     206.0     188.0  \n",
      "0      245.0      NaN       NaN     206.0  \n",
      "0      178.0      NaN     164.0       NaN  \n",
      "0      185.0      NaN     179.0       NaN  \n",
      "0      202.0    166.0     229.0     217.0  \n",
      "0      151.0    227.0     225.0     220.0  \n",
      "0      145.0    162.0     237.0     224.0  \n",
      "0        NaN    101.0       NaN     195.0  \n",
      "0      188.0    186.0     235.0     234.0  \n",
      "0      181.0    170.0       NaN     237.0  \n",
      "0      165.0    177.0       NaN     209.0  \n"
     ]
    }
   ],
   "source": [
    "# your code here. Comment your code. Create as many code cells as you need.\n",
    "\n",
    "import os\n",
    "import pandas as pd\n",
    "import numpy as np\n",
    "\n",
    "#Mapping German column names to their English equivalents\n",
    "column_mapping = {\n",
    "    'Jahr': 'Year',\n",
    "    'Jan': 'January',\n",
    "    'Feb': 'February',\n",
    "    'Mrz': 'March',\n",
    "    'Apr': 'April',\n",
    "    'Mai': 'May',\n",
    "    'Jun': 'June',\n",
    "    'Jul': 'July',\n",
    "    'Aug': 'August',\n",
    "    'Sep': 'September',\n",
    "    'Okt': 'October',\n",
    "    'Nov': 'November',\n",
    "    'Dez': 'December'\n",
    "}\n",
    "\n",
    "#Initialize an empty DataFrame to store total precipitation data\n",
    "precipitation_files = os.listdir('total_precipitation')\n",
    "precipitation_data = pd.DataFrame()\n",
    "\n",
    "#Loop through each file in the total_precipitation directory\n",
    "for file_index in range(len(precipitation_files)):\n",
    "    filename = precipitation_files[file_index]\n",
    "    #Check if the file is a text files and exclude .ipynb_checkpoints\n",
    "    if filename[-4:] == '.txt' and filename.find('.ipynb_checkpoints') == -1:\n",
    "        file_path = 'total_precipitation/' + filename\n",
    "        #Read the data from the file\n",
    "        data = pd.read_csv(file_path, sep=';')\n",
    "        #Append the data to the precipitation dataframe\n",
    "        precipitation_data = pd.concat([precipitation_data, data], axis=0)\n",
    "\n",
    "#Rename columns to English and replace empty strings with NaN for consistency\n",
    "precipitation_data = precipitation_data.rename(columns=column_mapping)\n",
    "precipitation_data = precipitation_data.replace('', np.nan)\n",
    "\n",
    "#smilar modifications for vapor pressure data\n",
    "vapor_files = os.listdir('vapor_pressure')\n",
    "vapor_data = pd.DataFrame()\n",
    "\n",
    "#Loop through each file in the vapor_pressure directory\n",
    "for file_index in range(len(vapor_files)):\n",
    "    filename = vapor_files[file_index]\n",
    "    #Check if the file is a text files and exclude .ipynb_checkpoints\n",
    "    if filename[-4:] == '.txt' and filename.find('.ipynb_checkpoints') == -1:\n",
    "        file_path = 'vapor_pressure/' + filename\n",
    "        #Read the data from the file\n",
    "        data = pd.read_csv(file_path, sep=';')\n",
    "        #Append the data to the vapor dataframe\n",
    "        vapor_data = pd.concat([vapor_data, data], axis=0)\n",
    "\n",
    "#Rename columns to English and replace empty strings with NaN for consistency\n",
    "vapor_data = vapor_data.rename(columns=column_mapping)\n",
    "vapor_data = vapor_data.replace('', np.nan)\n",
    "\n",
    "# Reading sunshine duration data\n",
    "sunshine_files = os.listdir('sunshine_duration')\n",
    "sunshine_data = pd.DataFrame()\n",
    "\n",
    "#Loop through each file in the sunshine_duration directory\n",
    "for file_index in range(len(sunshine_files)):\n",
    "    filename = sunshine_files[file_index]\n",
    "    #Check if the file is a text file and not a checkpoint file\n",
    "    if filename[-4:] == '.txt' and filename.find('.ipynb_checkpoints') == -1:\n",
    "        file_path = 'sunshine_duration/' + filename\n",
    "        #Read the data from the file\n",
    "        data = pd.read_csv(file_path, sep=';')\n",
    "        #Append the data to the sunshine_data DataFrame\n",
    "        sunshine_data = pd.concat([sunshine_data, data], axis=0)\n",
    "\n",
    "#Rename columns to English and replace empty strings with NaN for consistency\n",
    "sunshine_data = sunshine_data.rename(columns=column_mapping)\n",
    "sunshine_data = sunshine_data.replace('', np.nan)\n",
    "\n",
    "#check output \n",
    "print(\"Precipitation Data:\")\n",
    "print(precipitation_data)\n",
    "\n",
    "print(\"Vapor Data:\")\n",
    "print(vapor_data)\n",
    "\n",
    "print(\"Sunshine Data:\")\n",
    "print(sunshine_data)"
   ]
  },
  {
   "cell_type": "markdown",
   "id": "e7cf6f3d-109f-4351-87ca-c2552d35c997",
   "metadata": {},
   "source": [
    "Answer the following questions using the three dataframes. Provide all code and also write your final answer in the markdown cell provided under the question. Round all results to 4 decimal places."
   ]
  },
  {
   "cell_type": "markdown",
   "id": "c90cae16-5d2d-43ad-8465-35fd33c9c2ce",
   "metadata": {},
   "source": [
    "<font color = 'blue'>**Question 1:** What is the total monthly precipitation in March (across all available years) in the data?</font>"
   ]
  },
  {
   "cell_type": "markdown",
   "id": "486641a8-7fb3-4add-be52-897d0b402bb3",
   "metadata": {},
   "source": [
    "<font color = 'green'>Type your answer here.</font>\n",
    "\n",
    "##### The total monthly precipitation in March is 3780.0000"
   ]
  },
  {
   "cell_type": "code",
   "execution_count": 2,
   "id": "b309db82-ebcd-4f82-96a3-66b03f4869c4",
   "metadata": {},
   "outputs": [
    {
     "name": "stdout",
     "output_type": "stream",
     "text": [
      "Total monthly precipitation in March: 3780.0000\n"
     ]
    }
   ],
   "source": [
    "# your code here. Comment your code. Create as many code cells as you need.\n",
    "\n",
    "#Calculate the total precipitation in March across all years\n",
    "total_march_precipitation = precipitation_data['March'].sum()\n",
    "\n",
    "# Result \n",
    "print(f\"Total monthly precipitation in March: {total_march_precipitation:.4f}\")"
   ]
  },
  {
   "cell_type": "markdown",
   "id": "3a8699d4-d66a-4295-8a48-8316a729608d",
   "metadata": {},
   "source": [
    "<font color = 'blue'>**Question 2:** What is the average vapor pressure in January in the data?</font>"
   ]
  },
  {
   "cell_type": "markdown",
   "id": "c7dc2a6f-1ef6-488a-a72e-818035244786",
   "metadata": {},
   "source": [
    "<font color = 'green'>Type your answer here.</font>\n",
    "\n",
    "##### The average vapor pressure in January is 28.3444."
   ]
  },
  {
   "cell_type": "code",
   "execution_count": 3,
   "id": "bb930e9c-77fe-4dcc-8006-d55295e23a98",
   "metadata": {},
   "outputs": [
    {
     "name": "stdout",
     "output_type": "stream",
     "text": [
      "The average vapor pressure in January is: 28.3444\n"
     ]
    }
   ],
   "source": [
    "# your code here. Comment your code. Create as many code cells as you need.\n",
    "\n",
    "#Extracted vapor pressure for January across all years and calculated mean to get the desired output\n",
    "jan_vapor_pressure_avg = vapor_data['January'].mean()\n",
    "\n",
    "# Result\n",
    "print(f\"The average vapor pressure in January is: {jan_vapor_pressure_avg:.4f}\")"
   ]
  },
  {
   "cell_type": "markdown",
   "id": "ea124171-f567-4f2a-b87c-9c7b29171f91",
   "metadata": {},
   "source": [
    "<font color = 'blue'>**Question 3:** What is the mean sunshine duration for February in the data?</font>"
   ]
  },
  {
   "cell_type": "markdown",
   "id": "04526c68-d555-484e-8e90-a761c3d3412b",
   "metadata": {},
   "source": [
    "<font color = 'green'>Type your answer here.</font>\n",
    "\n",
    "##### The mean sunshine duration for February is 206.2143."
   ]
  },
  {
   "cell_type": "code",
   "execution_count": 4,
   "id": "7c9f1174-4ddb-4787-a131-05508b00b3e1",
   "metadata": {},
   "outputs": [
    {
     "name": "stdout",
     "output_type": "stream",
     "text": [
      "The mean sunshine duration for February is: 206.2143\n"
     ]
    }
   ],
   "source": [
    "# your code here. Comment your code. Create as many code cells as you need.\n",
    "\n",
    "#Extracted sunshine duration for February across all years and calculated mean to get the desired output\n",
    "feb_sunshine_dur_avg = sunshine_data['February'].mean()\n",
    "\n",
    "# Result\n",
    "print(f\"The mean sunshine duration for February is: {feb_sunshine_dur_avg:.4f}\")"
   ]
  },
  {
   "cell_type": "markdown",
   "id": "52ad95c8-5a62-4d8c-b77e-347be863cc4a",
   "metadata": {},
   "source": [
    "Next, create a new dataframe called combined_data that combines the three dataframes into one dataframe that meets the following specifications:\n",
    "\n",
    "* Missing values are denoted by np.NaN\n",
    "* Column names are in English instead of German\n",
    "* The dataframe has the following columns\n",
    "    - Year\n",
    "    - Month\n",
    "    - Total_Precipitation\n",
    "    - Vapor_Pressure\n",
    "    - Sunshine_Duration\n",
    "* The dataframe has data only for those years for which we have files for all three quantities.  "
   ]
  },
  {
   "cell_type": "markdown",
   "id": "c5f92e26-1cfb-43e3-b1be-3be8efb3c703",
   "metadata": {},
   "source": [
    "Perform the necessary checks to ensure that the data has been transformed correctly."
   ]
  },
  {
   "cell_type": "code",
   "execution_count": 5,
   "id": "38415061-fbb4-48c6-ab99-ce73fd9579ed",
   "metadata": {},
   "outputs": [
    {
     "name": "stdout",
     "output_type": "stream",
     "text": [
      "Combined Data:\n"
     ]
    },
    {
     "data": {
      "text/html": [
       "<div>\n",
       "<style scoped>\n",
       "    .dataframe tbody tr th:only-of-type {\n",
       "        vertical-align: middle;\n",
       "    }\n",
       "\n",
       "    .dataframe tbody tr th {\n",
       "        vertical-align: top;\n",
       "    }\n",
       "\n",
       "    .dataframe thead th {\n",
       "        text-align: right;\n",
       "    }\n",
       "</style>\n",
       "<table border=\"1\" class=\"dataframe\">\n",
       "  <thead>\n",
       "    <tr style=\"text-align: right;\">\n",
       "      <th></th>\n",
       "      <th>Year</th>\n",
       "      <th>Month</th>\n",
       "      <th>Total_Precipitation</th>\n",
       "      <th>Vapor_Pressure</th>\n",
       "      <th>Sunshine_Duration</th>\n",
       "    </tr>\n",
       "  </thead>\n",
       "  <tbody>\n",
       "    <tr>\n",
       "      <th>12</th>\n",
       "      <td>1978</td>\n",
       "      <td>1</td>\n",
       "      <td>62.0</td>\n",
       "      <td>28.1</td>\n",
       "      <td>NaN</td>\n",
       "    </tr>\n",
       "    <tr>\n",
       "      <th>47</th>\n",
       "      <td>1978</td>\n",
       "      <td>2</td>\n",
       "      <td>25.0</td>\n",
       "      <td>NaN</td>\n",
       "      <td>NaN</td>\n",
       "    </tr>\n",
       "    <tr>\n",
       "      <th>82</th>\n",
       "      <td>1978</td>\n",
       "      <td>3</td>\n",
       "      <td>45.0</td>\n",
       "      <td>28.1</td>\n",
       "      <td>257.0</td>\n",
       "    </tr>\n",
       "    <tr>\n",
       "      <th>117</th>\n",
       "      <td>1978</td>\n",
       "      <td>4</td>\n",
       "      <td>32.0</td>\n",
       "      <td>26.4</td>\n",
       "      <td>NaN</td>\n",
       "    </tr>\n",
       "    <tr>\n",
       "      <th>152</th>\n",
       "      <td>1978</td>\n",
       "      <td>5</td>\n",
       "      <td>77.0</td>\n",
       "      <td>NaN</td>\n",
       "      <td>NaN</td>\n",
       "    </tr>\n",
       "    <tr>\n",
       "      <th>...</th>\n",
       "      <td>...</td>\n",
       "      <td>...</td>\n",
       "      <td>...</td>\n",
       "      <td>...</td>\n",
       "      <td>...</td>\n",
       "    </tr>\n",
       "    <tr>\n",
       "      <th>249</th>\n",
       "      <td>2016</td>\n",
       "      <td>8</td>\n",
       "      <td>56.0</td>\n",
       "      <td>30.9</td>\n",
       "      <td>224.0</td>\n",
       "    </tr>\n",
       "    <tr>\n",
       "      <th>284</th>\n",
       "      <td>2016</td>\n",
       "      <td>9</td>\n",
       "      <td>123.0</td>\n",
       "      <td>30.3</td>\n",
       "      <td>175.0</td>\n",
       "    </tr>\n",
       "    <tr>\n",
       "      <th>319</th>\n",
       "      <td>2016</td>\n",
       "      <td>10</td>\n",
       "      <td>75.0</td>\n",
       "      <td>30.6</td>\n",
       "      <td>187.0</td>\n",
       "    </tr>\n",
       "    <tr>\n",
       "      <th>354</th>\n",
       "      <td>2016</td>\n",
       "      <td>11</td>\n",
       "      <td>103.0</td>\n",
       "      <td>29.9</td>\n",
       "      <td>201.0</td>\n",
       "    </tr>\n",
       "    <tr>\n",
       "      <th>389</th>\n",
       "      <td>2016</td>\n",
       "      <td>12</td>\n",
       "      <td>63.0</td>\n",
       "      <td>29.9</td>\n",
       "      <td>229.0</td>\n",
       "    </tr>\n",
       "  </tbody>\n",
       "</table>\n",
       "<p>420 rows × 5 columns</p>\n",
       "</div>"
      ],
      "text/plain": [
       "     Year  Month  Total_Precipitation  Vapor_Pressure  Sunshine_Duration\n",
       "12   1978      1                 62.0            28.1                NaN\n",
       "47   1978      2                 25.0             NaN                NaN\n",
       "82   1978      3                 45.0            28.1              257.0\n",
       "117  1978      4                 32.0            26.4                NaN\n",
       "152  1978      5                 77.0             NaN                NaN\n",
       "..    ...    ...                  ...             ...                ...\n",
       "249  2016      8                 56.0            30.9              224.0\n",
       "284  2016      9                123.0            30.3              175.0\n",
       "319  2016     10                 75.0            30.6              187.0\n",
       "354  2016     11                103.0            29.9              201.0\n",
       "389  2016     12                 63.0            29.9              229.0\n",
       "\n",
       "[420 rows x 5 columns]"
      ]
     },
     "execution_count": 5,
     "metadata": {},
     "output_type": "execute_result"
    }
   ],
   "source": [
    "# your code here. Comment your code. Create as many code cells as you need.\n",
    "\n",
    "# Melting all datasets  for easier merging\n",
    "precipitation_data_melted = precipitation_data.melt(id_vars=['Year'], var_name='Month', value_name='Total_Precipitation')\n",
    "vapor_data_melted = vapor_data.melt(id_vars=['Year'], var_name='Month', value_name='Vapor_Pressure')\n",
    "sunshine_data_melted = sunshine_data.melt(id_vars=['Year'], var_name='Month', value_name='Sunshine_Duration')\n",
    "\n",
    "# Merge vapor and precipitation datasets with an inner merge\n",
    "combined_data = precipitation_data_melted.merge(vapor_data_melted, how='inner', left_on=['Year','Month'], right_on=['Year','Month'])\n",
    "\n",
    "# Merge the sunshine duration dataset with an inner merge\n",
    "combined_data = combined_data.merge(sunshine_data_melted, how='inner', left_on=['Year', 'Month'], right_on=['Year', 'Month'])\n",
    "\n",
    "# Dictionary to convert months into numerical values (for arranging months in chronological order)\n",
    "month_order = {'January': 1, 'February': 2, 'March': 3, 'April': 4, 'May': 5, 'June': 6, 'July': 7, 'August': 8, 'September': 9, 'October': 10, 'November': 11, 'December': 12}\n",
    "\n",
    "# Replace the Month column with numeric values\n",
    "combined_data['Month'] = combined_data['Month'].replace(month_order)\n",
    "\n",
    "# Reset the index and sort by Year and Month\n",
    "combined_data = combined_data.reset_index(drop=True).sort_values(['Year','Month'])\n",
    "\n",
    "# Result\n",
    "print(\"Combined Data:\")\n",
    "combined_data"
   ]
  },
  {
   "cell_type": "markdown",
   "id": "3c7cded0-0a0f-4e19-9e22-9229a2656391",
   "metadata": {},
   "source": [
    "Answer the following questions using the new combined dataframe. Provide all code and also write your final answer in the markdown cell provided under the question. Round all results to 4 decimal places."
   ]
  },
  {
   "cell_type": "markdown",
   "id": "38ecf44c-051c-45aa-ac40-eb607031d05f",
   "metadata": {},
   "source": [
    "<font color = 'blue'>**Question 4:** What is the total monthly precipitation in the data?</font>"
   ]
  },
  {
   "cell_type": "markdown",
   "id": "5e79a923-bdca-4959-a160-483380507468",
   "metadata": {},
   "source": [
    "<font color = 'green'>Type your answer here.</font>\n",
    "\n",
    "##### The total monthly precipitation in the combined dataset is: 23096.0000\n"
   ]
  },
  {
   "cell_type": "code",
   "execution_count": 6,
   "id": "7b3614fa-d961-4923-83f4-7bd7173899d4",
   "metadata": {},
   "outputs": [
    {
     "name": "stdout",
     "output_type": "stream",
     "text": [
      "The total monthly precipitation in the combined dataset is: 23096.0000\n"
     ]
    }
   ],
   "source": [
    "# your code here. Comment your code. Create as many code cells as you need.\n",
    "\n",
    "total_monthly_precipitation = combined_data['Total_Precipitation'].sum()\n",
    "total_monthly_precipitation\n",
    "\n",
    "# Result\n",
    "print(f\"The total monthly precipitation in the combined dataset is: {(total_monthly_precipitation.sum()):.4f}\")\n"
   ]
  },
  {
   "cell_type": "markdown",
   "id": "c1a61838-7df5-4682-b286-a8b48994b7cb",
   "metadata": {},
   "source": [
    "<font color = 'blue'>**Question 5:** What is the average monthly vapor pressure in the data?</font>"
   ]
  },
  {
   "cell_type": "markdown",
   "id": "92712914-b065-4f41-a168-40a76839c1e2",
   "metadata": {},
   "source": [
    "<font color = 'green'>Type your answer here.</font>\n",
    "##### The average monthly vapor pressure in a combined dataset is: 29.8502\n"
   ]
  },
  {
   "cell_type": "code",
   "execution_count": 7,
   "id": "a2966b19-f19c-4173-a670-a9f2371ccd35",
   "metadata": {},
   "outputs": [
    {
     "name": "stdout",
     "output_type": "stream",
     "text": [
      "The average monthly vapor pressure in the combined dataset is: 29.8502\n"
     ]
    }
   ],
   "source": [
    "# your code here. Comment your code. Create as many code cells as you need.\n",
    "\n",
    "avg_monthly_vapor_pressure = combined_data['Vapor_Pressure'].mean()\n",
    "avg_monthly_vapor_pressure\n",
    "\n",
    "# Result\n",
    "print(f\"The average monthly vapor pressure in the combined dataset is: {avg_monthly_vapor_pressure:.4f}\")"
   ]
  },
  {
   "cell_type": "markdown",
   "id": "e9fbccd1-ee43-4ff6-a7fc-13c68799c331",
   "metadata": {},
   "source": [
    "<font color = 'blue'>**Question 6:** What is the mean monthly sunshine duration in the data?</font>"
   ]
  },
  {
   "cell_type": "markdown",
   "id": "8411c684-d5fa-439c-b15f-80eb1a1a1f8d",
   "metadata": {},
   "source": [
    "<font color = 'green'>Type your answer here.</font>\n",
    "\n",
    "##### The mean monthly sunshine duration in combined dataset is: 205.0000\n"
   ]
  },
  {
   "cell_type": "code",
   "execution_count": 8,
   "id": "dc85ae07-382b-4b46-9248-2316313a50db",
   "metadata": {},
   "outputs": [
    {
     "name": "stdout",
     "output_type": "stream",
     "text": [
      "The mean monthly sunshine duration in the combined dataset is: 205.0000\n"
     ]
    }
   ],
   "source": [
    "# your code here. Comment your code. Create as many code cells as you need.\n",
    "\n",
    "monthly_avg_sunshine_duration = combined_data['Sunshine_Duration'].mean()\n",
    "\n",
    "# Result\n",
    "print(f\"The mean monthly sunshine duration in the combined dataset is: {monthly_avg_sunshine_duration:.4f}\")"
   ]
  },
  {
   "cell_type": "markdown",
   "id": "c0b92316-8b5c-4b7f-b731-c6c6bc42fe35",
   "metadata": {},
   "source": [
    "Handle missing values in the new dataframe using linear interpolation. Linear interpolation makes sense here because there may be a time trend in the data. So we want to fill missing values with values that would follow the trend. You should use the pandas `DataFrame.interpolate()` function for dataframes. Specify 'linear' as the `method` and 'both' as the `limit_direction` to perform the linear interpolation. Use the default values for the `limit`, `limit_area`, `downcast` and `**kwargs` arguments. Think about the mechanics of how to perform this interpolation to identify appropriate values for arguments. \n",
    "\n",
    "A key requirement for the interpolation to work correctly is that the dataframe on which the interpolate function is called should be sorted in ascending order by time. Make sure you sort the dataframe appropriately.\n",
    "\n",
    "Perform checks to ensure that the interpolation worked correctly."
   ]
  },
  {
   "cell_type": "code",
   "execution_count": 9,
   "id": "31405b7b-3408-4bb5-a1c9-a387dd9efa3a",
   "metadata": {},
   "outputs": [
    {
     "name": "stdout",
     "output_type": "stream",
     "text": [
      "Interpolated data with nearest linear interpolation:\n",
      "     Year  Month  Total_Precipitation  Vapor_Pressure  Sunshine_Duration  \\\n",
      "12   1978      1                 62.0            28.1                NaN   \n",
      "47   1978      2                 25.0             NaN                NaN   \n",
      "82   1978      3                 45.0            28.1              257.0   \n",
      "117  1978      4                 32.0            26.4                NaN   \n",
      "152  1978      5                 77.0             NaN                NaN   \n",
      "..    ...    ...                  ...             ...                ...   \n",
      "249  2016      8                 56.0            30.9              224.0   \n",
      "284  2016      9                123.0            30.3              175.0   \n",
      "319  2016     10                 75.0            30.6              187.0   \n",
      "354  2016     11                103.0            29.9              201.0   \n",
      "389  2016     12                 63.0            29.9              229.0   \n",
      "\n",
      "     Total_Precipitation_nearest  Vapor_Pressure_nearest  \\\n",
      "12                          62.0               28.100000   \n",
      "47                          25.0               28.100000   \n",
      "82                          45.0               28.100000   \n",
      "117                         32.0               26.400000   \n",
      "152                         77.0               26.683333   \n",
      "..                           ...                     ...   \n",
      "249                         56.0               30.900000   \n",
      "284                        123.0               30.300000   \n",
      "319                         75.0               30.600000   \n",
      "354                        103.0               29.900000   \n",
      "389                         63.0               29.900000   \n",
      "\n",
      "     Sunshine_Duration_nearest  \n",
      "12                       257.0  \n",
      "47                       257.0  \n",
      "82                       257.0  \n",
      "117                      239.6  \n",
      "152                      222.2  \n",
      "..                         ...  \n",
      "249                      224.0  \n",
      "284                      175.0  \n",
      "319                      187.0  \n",
      "354                      201.0  \n",
      "389                      229.0  \n",
      "\n",
      "[420 rows x 8 columns]\n"
     ]
    }
   ],
   "source": [
    "# your code here. Comment your code. Create as many code cells as you need.\n",
    "\n",
    "# Renaming dataframe for my ease\n",
    "interpolated_data = combined_data\n",
    "\n",
    "# Create new columns with nearest linear interpolation\n",
    "interpolated_data['Total_Precipitation_nearest'] = interpolated_data['Total_Precipitation'].interpolate(method='linear', limit_direction='both')\n",
    "interpolated_data['Vapor_Pressure_nearest'] = interpolated_data['Vapor_Pressure'].interpolate(method='linear', limit_direction='both')\n",
    "interpolated_data['Sunshine_Duration_nearest'] = interpolated_data['Sunshine_Duration'].interpolate(method='linear', limit_direction='both')\n",
    "\n",
    "# Result\n",
    "print(\"Interpolated data with nearest linear interpolation:\")\n",
    "print(interpolated_data)"
   ]
  },
  {
   "cell_type": "markdown",
   "id": "258864ee-b5d6-4ab7-be40-78167fcfeb58",
   "metadata": {},
   "source": [
    "Using the dataframe with interpolated values, answer the following questions. Round all results to 4 decimal places."
   ]
  },
  {
   "cell_type": "markdown",
   "id": "3b6dbdf6-fe04-478b-8c17-b4437bcc1e2d",
   "metadata": {},
   "source": [
    "<font color = 'blue'>**Question 7:** What is the total monthly precipitation in the data?</font>"
   ]
  },
  {
   "cell_type": "markdown",
   "id": "8a19c702-6e9a-4312-8474-6fff370b6e60",
   "metadata": {},
   "source": [
    "<font color = 'green'>Type your answer here.</font>\n",
    "##### The following are the total monthly precipitations in the interpolated dataset: 23096.0000"
   ]
  },
  {
   "cell_type": "code",
   "execution_count": 10,
   "id": "ae37bf00-ac8b-461e-ae23-b62e20a301de",
   "metadata": {},
   "outputs": [
    {
     "name": "stdout",
     "output_type": "stream",
     "text": [
      "Total Monthly Precipitation based on liner interpolation is: 23096.0000\n"
     ]
    }
   ],
   "source": [
    "# your code here. Comment your code. Create as many code cells as you need.\n",
    " \n",
    "# Average of Total Precipitation nearest column\n",
    "interpolated_total_monthly_precipitation = interpolated_data['Total_Precipitation_nearest'].sum()\n",
    "interpolated_total_monthly_precipitation\n",
    "\n",
    "print(f\"Total Monthly Precipitation based on liner interpolation is: {interpolated_total_monthly_precipitation.sum():.4f}\") "
   ]
  },
  {
   "cell_type": "markdown",
   "id": "de3bbe85-7f0f-42f9-b52a-64e590b16206",
   "metadata": {},
   "source": [
    "<font color = 'blue'>**Question 8:** What is the average vapor pressure in the data?</font>"
   ]
  },
  {
   "cell_type": "markdown",
   "id": "530635a1-fd74-4887-8e18-532005e26a3a",
   "metadata": {},
   "source": [
    "<font color = 'green'>Type your answer here.</font>\n",
    "##### The average vapor pressure in the interpolated dataset is: 29.6506\n"
   ]
  },
  {
   "cell_type": "code",
   "execution_count": 11,
   "id": "0c60ed3f-d9c0-4afd-af6d-4249a18b6b7f",
   "metadata": {},
   "outputs": [
    {
     "name": "stdout",
     "output_type": "stream",
     "text": [
      "Average Vapor Pressure based on liner interpolation is: 29.6506\n"
     ]
    }
   ],
   "source": [
    "# your code here. Comment your code. Create as many code cells as you need.\n",
    "\n",
    "# Mean of interpolated vapor pressure column\n",
    "interpolated_average_vapor_pressure = interpolated_data['Vapor_Pressure_nearest'].mean()\n",
    "print(f\"Average Vapor Pressure based on liner interpolation is: {interpolated_average_vapor_pressure:.4f}\") "
   ]
  },
  {
   "cell_type": "markdown",
   "id": "6f78f05b-0025-489f-bff5-9fff1930c575",
   "metadata": {},
   "source": [
    "<font color = 'blue'>**Question 9:** What is the mean sunshine duration in the data?</font>"
   ]
  },
  {
   "cell_type": "markdown",
   "id": "98242693-3181-4faa-b9d3-d0bb17a92abb",
   "metadata": {},
   "source": [
    "<font color = 'green'>Type your answer here.</font>\n",
    "##### The mean sunshine duration in the interpolated dataset: 204.0440"
   ]
  },
  {
   "cell_type": "code",
   "execution_count": 12,
   "id": "13a50f29-fa66-4a4e-a023-2c678eb84694",
   "metadata": {
    "tags": []
   },
   "outputs": [
    {
     "name": "stdout",
     "output_type": "stream",
     "text": [
      "Mean Sunshine Duration based on liner interpolation is: 204.0440\n"
     ]
    }
   ],
   "source": [
    "# your code here. Comment your code. Create as many code cells as you need.\n",
    "\n",
    "interpolated_mean_sunshine_duration = interpolated_data['Sunshine_Duration_nearest'].mean()\n",
    "print(f\"Mean Sunshine Duration based on liner interpolation is: {interpolated_mean_sunshine_duration:.4f}\") "
   ]
  },
  {
   "cell_type": "markdown",
   "id": "3cd271b9-99ef-468a-9b7c-a4ebfd797bd9",
   "metadata": {},
   "source": [
    "## Computations"
   ]
  },
  {
   "cell_type": "markdown",
   "id": "d5ca0078-ef33-4c35-96f1-97d2cf6e19ba",
   "metadata": {},
   "source": [
    "The demand for certain products is weather dependent. We will simulate such a scenario here using the climate data that you have compiled so far. Use the latest dataframe that combines all three measurements (precipiation, vapor pressure and sunshine duration) and has interpolated values instead of missing values for this section. "
   ]
  },
  {
   "cell_type": "markdown",
   "id": "fb77fa60-a3ea-41c4-81f3-0cda336e009c",
   "metadata": {},
   "source": [
    "An analyst has developed a demand forecasting model that incorporates the climate data. Their analysis shows that there was a significant shift in customer behavior in the year 2000. As a result, they created two demand forecasting models - one that applies to years before 2000 and one that applies to year 2000 and after."
   ]
  },
  {
   "cell_type": "markdown",
   "id": "b49e0876-f3fb-470e-ac0e-1ac6f8f673ce",
   "metadata": {},
   "source": [
    "**Before 2000:** $ \\text{forecasted demand} = 1000 - 10.5 * \\text{total precipitation} + 1.009 * \\text{sunshine duration} $\n",
    "\n",
    "\n",
    "**2000 and after:** $ \\text{forecasted demand} = 1000 - 10.5 * \\text{total precipitation} + 1.19 * \\text{sunshine duration} $"
   ]
  },
  {
   "cell_type": "markdown",
   "id": "0e26875a-a3bd-4d5f-88e1-f17bb53d31a9",
   "metadata": {},
   "source": [
    "Add a Demand_Forecast column to the dataframe and caclulate the forecasted demand using the above formulas. Note that it is theoretically possible for the result of the above equations to be negative. However the demand for a product cannot be negative. Ensure that when you calculate the forecasted demand, any negative values are converted to zeros. "
   ]
  },
  {
   "cell_type": "code",
   "execution_count": 13,
   "id": "81add4ad-9c19-4715-9be8-979674c8a7b6",
   "metadata": {},
   "outputs": [],
   "source": [
    "# your code here. Comment your code. Create as many code cells as you need.\n",
    "\n",
    "# Created demand_forecast list\n",
    "demand_forecast = []\n",
    "\n",
    "# Calculated demand formula with given formula & added into dataframe\n",
    "for formula in range(len(interpolated_data)):\n",
    "    if interpolated_data.iloc[formula]['Year'] < 2000:\n",
    "        demand = 1000 - 10.5 * interpolated_data.iloc[formula]['Total_Precipitation_nearest'] + 1.009 * interpolated_data.iloc[formula]['Sunshine_Duration_nearest']\n",
    "    else:\n",
    "        demand = 1000 - 10.5 * interpolated_data.iloc[formula]['Total_Precipitation_nearest'] + 1.19 * interpolated_data.iloc[formula]['Sunshine_Duration_nearest']\n",
    "    demand_forecast = demand_forecast + [max(demand, 0)]\n",
    "\n",
    "interpolated_data['Demand_Forecast'] = demand_forecast"
   ]
  },
  {
   "cell_type": "markdown",
   "id": "bdb6fe2d-a177-4b16-8734-83feb6352d9c",
   "metadata": {},
   "source": [
    "Answer the following questions using the dataframe that contains forecasted demand values. Round all results to 4 decimal places."
   ]
  },
  {
   "cell_type": "markdown",
   "id": "951b4235-8209-45bd-86e8-eab57b38c08a",
   "metadata": {},
   "source": [
    "<font color = 'blue'>**Question 10:** What is the average forecasted demand?</font>"
   ]
  },
  {
   "cell_type": "markdown",
   "id": "173fb1e1-4ced-42ca-930d-a7dc4ceb7cb0",
   "metadata": {},
   "source": [
    "<font color = 'green'>Type your answer here.</font>\n",
    "##### The average forecasted demand = 654.6923"
   ]
  },
  {
   "cell_type": "code",
   "execution_count": 14,
   "id": "6a960871-5577-4c2f-bc2c-0bfa09bd7633",
   "metadata": {
    "tags": []
   },
   "outputs": [
    {
     "name": "stdout",
     "output_type": "stream",
     "text": [
      "Average Forecasted Demand: 654.6923\n"
     ]
    }
   ],
   "source": [
    "# your code here. Comment your code. Create as many code cells as you need.\n",
    "\n",
    "average_forecasted_demand = interpolated_data['Demand_Forecast'].mean() \n",
    "print(f\"Average Forecasted Demand: {average_forecasted_demand:.4f}\") \n"
   ]
  },
  {
   "cell_type": "markdown",
   "id": "0d5349b0-0ab4-4912-aec8-33d67b7a5af0",
   "metadata": {},
   "source": [
    "<font color = 'blue'>**Question 11:** What is the average forecasted demand for 2011?</font>"
   ]
  },
  {
   "cell_type": "markdown",
   "id": "1c16f059-8b33-48b6-8ee7-b0939e794d0a",
   "metadata": {},
   "source": [
    "<font color = 'green'>Type your answer here.</font>\n",
    "##### The average forecased demand for 2011 = 501.5829"
   ]
  },
  {
   "cell_type": "code",
   "execution_count": 15,
   "id": "23471dce-1b37-425f-b8ed-499cd9325a67",
   "metadata": {
    "tags": []
   },
   "outputs": [
    {
     "name": "stdout",
     "output_type": "stream",
     "text": [
      "Average Forecasted Demand for 2011: 501.5829\n"
     ]
    }
   ],
   "source": [
    "# your code here. Comment your code. Create as many code cells as you need.\n",
    "\n",
    "average_forecasted_demand_2011 = interpolated_data[interpolated_data['Year'] == 2011]['Demand_Forecast'].mean() \n",
    "print(f\"Average Forecasted Demand for 2011: {average_forecasted_demand_2011:.4f}\")"
   ]
  },
  {
   "cell_type": "markdown",
   "id": "76f979da-3fa1-4171-9e00-61773b61b5a9",
   "metadata": {},
   "source": [
    "Typically future demand for a product is uncertain. The uncertainty of demand is captured by the standard deviation. The forecasting models discussed above provide an estimate of the standard deviation as well. Create a new column called StdDev_Demand and assign standard deviation values as follows. The standard deviation of demand for all years before 2000 should be 20. The standard deviation of demand for years 2000 or later should be 30."
   ]
  },
  {
   "cell_type": "code",
   "execution_count": 16,
   "id": "97f08fb9-6a20-4053-812e-638923958bca",
   "metadata": {
    "tags": []
   },
   "outputs": [
    {
     "name": "stdout",
     "output_type": "stream",
     "text": [
      "Check StdDev_Demand column data:\n",
      "     Year  Month  Total_Precipitation  Vapor_Pressure  Sunshine_Duration  \\\n",
      "12   1978      1                 62.0            28.1                NaN   \n",
      "47   1978      2                 25.0             NaN                NaN   \n",
      "82   1978      3                 45.0            28.1              257.0   \n",
      "117  1978      4                 32.0            26.4                NaN   \n",
      "152  1978      5                 77.0             NaN                NaN   \n",
      "\n",
      "     Total_Precipitation_nearest  Vapor_Pressure_nearest  \\\n",
      "12                          62.0               28.100000   \n",
      "47                          25.0               28.100000   \n",
      "82                          45.0               28.100000   \n",
      "117                         32.0               26.400000   \n",
      "152                         77.0               26.683333   \n",
      "\n",
      "     Sunshine_Duration_nearest  Demand_Forecast  StdDev_Demand  \n",
      "12                       257.0         608.3130             20  \n",
      "47                       257.0         996.8130             20  \n",
      "82                       257.0         786.8130             20  \n",
      "117                      239.6         905.7564             20  \n",
      "152                      222.2         415.6998             20  \n",
      "     Year  Month  Total_Precipitation  Vapor_Pressure  Sunshine_Duration  \\\n",
      "249  2016      8                 56.0            30.9              224.0   \n",
      "284  2016      9                123.0            30.3              175.0   \n",
      "319  2016     10                 75.0            30.6              187.0   \n",
      "354  2016     11                103.0            29.9              201.0   \n",
      "389  2016     12                 63.0            29.9              229.0   \n",
      "\n",
      "     Total_Precipitation_nearest  Vapor_Pressure_nearest  \\\n",
      "249                         56.0                    30.9   \n",
      "284                        123.0                    30.3   \n",
      "319                         75.0                    30.6   \n",
      "354                        103.0                    29.9   \n",
      "389                         63.0                    29.9   \n",
      "\n",
      "     Sunshine_Duration_nearest  Demand_Forecast  StdDev_Demand  \n",
      "249                      224.0           678.56             30  \n",
      "284                      175.0             0.00             30  \n",
      "319                      187.0           435.03             30  \n",
      "354                      201.0           157.69             30  \n",
      "389                      229.0           611.01             30  \n"
     ]
    }
   ],
   "source": [
    "# your code here. Comment your code. Create as many code cells as you need.\n",
    "\n",
    "# Created empty column StdDev column\n",
    "interpolated_data['StdDev_Demand'] = 0\n",
    "\n",
    "# Assign standard deviation values as per year\n",
    "for new_column in range(len(interpolated_data)):\n",
    "    if interpolated_data.loc[new_column]['Year'] < 2000:\n",
    "        interpolated_data.loc[new_column, 'StdDev_Demand'] = 20\n",
    "    else:\n",
    "        interpolated_data.loc[new_column, 'StdDev_Demand'] = 30\n",
    "\n",
    "# Result\n",
    "print(\"Check StdDev_Demand column data:\")\n",
    "print(interpolated_data.head(5))\n",
    "print(interpolated_data.tail(5))\n",
    "    "
   ]
  },
  {
   "cell_type": "markdown",
   "id": "ea116430-053b-488e-9516-32662876fb18",
   "metadata": {},
   "source": [
    "When the demand for a product is uncertain, the stocking quantity (quantity to produce or buy from a supplier) depends on the proability distribution of demand. For normally distributed demand, the quantity can be calculated using the mean and standard deviation of demand and a safety stock multiplier. The demand forecast and standard deviations values that you generated earlier can be used as estimates of the mean and standard deviation of demand for a given month and year. Assuming a safety stock multiplier of 1.65, you can calculate the stocking quantity using the following formula. \n",
    "\n",
    "$\\text{Stocking Quantity} = \\text{Mean Demand} + 1.65 * \\text{Std Dev of Demand} $\n",
    "\n",
    "\n",
    "Create a 'Stocking_Quantity' column in the dataframe and calculate the stocking quantity for each row using the above formula."
   ]
  },
  {
   "cell_type": "code",
   "execution_count": 17,
   "id": "e24c7adf-56bf-423d-be27-9c6bebcb4e85",
   "metadata": {
    "tags": []
   },
   "outputs": [
    {
     "data": {
      "text/html": [
       "<div>\n",
       "<style scoped>\n",
       "    .dataframe tbody tr th:only-of-type {\n",
       "        vertical-align: middle;\n",
       "    }\n",
       "\n",
       "    .dataframe tbody tr th {\n",
       "        vertical-align: top;\n",
       "    }\n",
       "\n",
       "    .dataframe thead th {\n",
       "        text-align: right;\n",
       "    }\n",
       "</style>\n",
       "<table border=\"1\" class=\"dataframe\">\n",
       "  <thead>\n",
       "    <tr style=\"text-align: right;\">\n",
       "      <th></th>\n",
       "      <th>Year</th>\n",
       "      <th>Month</th>\n",
       "      <th>Total_Precipitation</th>\n",
       "      <th>Vapor_Pressure</th>\n",
       "      <th>Sunshine_Duration</th>\n",
       "      <th>Total_Precipitation_nearest</th>\n",
       "      <th>Vapor_Pressure_nearest</th>\n",
       "      <th>Sunshine_Duration_nearest</th>\n",
       "      <th>Demand_Forecast</th>\n",
       "      <th>StdDev_Demand</th>\n",
       "      <th>Stocking_Quantity</th>\n",
       "    </tr>\n",
       "  </thead>\n",
       "  <tbody>\n",
       "    <tr>\n",
       "      <th>12</th>\n",
       "      <td>1978</td>\n",
       "      <td>1</td>\n",
       "      <td>62.0</td>\n",
       "      <td>28.1</td>\n",
       "      <td>NaN</td>\n",
       "      <td>62.0</td>\n",
       "      <td>28.100000</td>\n",
       "      <td>257.0</td>\n",
       "      <td>608.3130</td>\n",
       "      <td>20</td>\n",
       "      <td>641.3130</td>\n",
       "    </tr>\n",
       "    <tr>\n",
       "      <th>47</th>\n",
       "      <td>1978</td>\n",
       "      <td>2</td>\n",
       "      <td>25.0</td>\n",
       "      <td>NaN</td>\n",
       "      <td>NaN</td>\n",
       "      <td>25.0</td>\n",
       "      <td>28.100000</td>\n",
       "      <td>257.0</td>\n",
       "      <td>996.8130</td>\n",
       "      <td>20</td>\n",
       "      <td>1029.8130</td>\n",
       "    </tr>\n",
       "    <tr>\n",
       "      <th>82</th>\n",
       "      <td>1978</td>\n",
       "      <td>3</td>\n",
       "      <td>45.0</td>\n",
       "      <td>28.1</td>\n",
       "      <td>257.0</td>\n",
       "      <td>45.0</td>\n",
       "      <td>28.100000</td>\n",
       "      <td>257.0</td>\n",
       "      <td>786.8130</td>\n",
       "      <td>20</td>\n",
       "      <td>819.8130</td>\n",
       "    </tr>\n",
       "    <tr>\n",
       "      <th>117</th>\n",
       "      <td>1978</td>\n",
       "      <td>4</td>\n",
       "      <td>32.0</td>\n",
       "      <td>26.4</td>\n",
       "      <td>NaN</td>\n",
       "      <td>32.0</td>\n",
       "      <td>26.400000</td>\n",
       "      <td>239.6</td>\n",
       "      <td>905.7564</td>\n",
       "      <td>20</td>\n",
       "      <td>938.7564</td>\n",
       "    </tr>\n",
       "    <tr>\n",
       "      <th>152</th>\n",
       "      <td>1978</td>\n",
       "      <td>5</td>\n",
       "      <td>77.0</td>\n",
       "      <td>NaN</td>\n",
       "      <td>NaN</td>\n",
       "      <td>77.0</td>\n",
       "      <td>26.683333</td>\n",
       "      <td>222.2</td>\n",
       "      <td>415.6998</td>\n",
       "      <td>20</td>\n",
       "      <td>448.6998</td>\n",
       "    </tr>\n",
       "  </tbody>\n",
       "</table>\n",
       "</div>"
      ],
      "text/plain": [
       "     Year  Month  Total_Precipitation  Vapor_Pressure  Sunshine_Duration  \\\n",
       "12   1978      1                 62.0            28.1                NaN   \n",
       "47   1978      2                 25.0             NaN                NaN   \n",
       "82   1978      3                 45.0            28.1              257.0   \n",
       "117  1978      4                 32.0            26.4                NaN   \n",
       "152  1978      5                 77.0             NaN                NaN   \n",
       "\n",
       "     Total_Precipitation_nearest  Vapor_Pressure_nearest  \\\n",
       "12                          62.0               28.100000   \n",
       "47                          25.0               28.100000   \n",
       "82                          45.0               28.100000   \n",
       "117                         32.0               26.400000   \n",
       "152                         77.0               26.683333   \n",
       "\n",
       "     Sunshine_Duration_nearest  Demand_Forecast  StdDev_Demand  \\\n",
       "12                       257.0         608.3130             20   \n",
       "47                       257.0         996.8130             20   \n",
       "82                       257.0         786.8130             20   \n",
       "117                      239.6         905.7564             20   \n",
       "152                      222.2         415.6998             20   \n",
       "\n",
       "     Stocking_Quantity  \n",
       "12            641.3130  \n",
       "47           1029.8130  \n",
       "82            819.8130  \n",
       "117           938.7564  \n",
       "152           448.6998  "
      ]
     },
     "execution_count": 17,
     "metadata": {},
     "output_type": "execute_result"
    }
   ],
   "source": [
    "# your code here. Comment your code. Create as many code cells as you need.\n",
    "\n",
    "# Calculation of Stocking quanity\n",
    "interpolated_data['Stocking_Quantity'] = interpolated_data['Demand_Forecast'] + 1.65 * interpolated_data['StdDev_Demand'] \n",
    "interpolated_data.head(5)"
   ]
  },
  {
   "cell_type": "markdown",
   "id": "414ee334-b37a-47b4-8b6c-502809e5b053",
   "metadata": {},
   "source": [
    "Answer the following questions using the latest dataframe. Round all results to 4 decimal places. "
   ]
  },
  {
   "cell_type": "markdown",
   "id": "24f07aba-23b1-4322-9d0e-2eddcb50089c",
   "metadata": {},
   "source": [
    "<font color = 'blue'>**Question 12:** What is the average stocking quantity for 1978?</font>"
   ]
  },
  {
   "cell_type": "markdown",
   "id": "dcb01196-4b36-4a70-8a60-2b3f7f65f467",
   "metadata": {},
   "source": [
    "<font color = 'green'>Type your answer here.</font>\n",
    "##### The average stocking quanity for the year 1978 is: 798.9710"
   ]
  },
  {
   "cell_type": "code",
   "execution_count": 18,
   "id": "e4ca8b98-d770-4cd3-92a4-f47606615daa",
   "metadata": {},
   "outputs": [
    {
     "name": "stdout",
     "output_type": "stream",
     "text": [
      "Average Stocking Quantity for 1978: 798.9710\n"
     ]
    }
   ],
   "source": [
    "# your code here. Comment your code. Create as many code cells as you need.\n",
    "\n",
    "# Seperated 1978 dataset from the interpolated data\n",
    "extracted_1978_data = interpolated_data[interpolated_data['Year'] == 1978]\n",
    "extracted_1978_data\n",
    "\n",
    "# Average of Stocking Quantity Column\n",
    "stocking_qty_avg_1978 = extracted_1978_data['Stocking_Quantity'].mean()\n",
    "\n",
    "# Result\n",
    "print(f\"Average Stocking Quantity for 1978: {stocking_qty_avg_1978:.4f}\")"
   ]
  },
  {
   "cell_type": "markdown",
   "id": "1b28c64d-7563-4055-a34e-9009ee418cdd",
   "metadata": {},
   "source": [
    "<font color = 'blue'>**Question 13:** What is the average stocking quantity for 2016?</font>"
   ]
  },
  {
   "cell_type": "markdown",
   "id": "cd0268bc-6421-4f32-990e-c4208e6f8f62",
   "metadata": {},
   "source": [
    "<font color = 'green'>Type your answer here.</font>\n",
    "##### The average stocking quanity for the year 2016 is \" 764.4996 \"."
   ]
  },
  {
   "cell_type": "code",
   "execution_count": 19,
   "id": "818e3873-2353-49b3-9beb-f351c49cdadc",
   "metadata": {
    "tags": []
   },
   "outputs": [
    {
     "name": "stdout",
     "output_type": "stream",
     "text": [
      "Average Stocking Quantity for 2016: 764.4996\n"
     ]
    }
   ],
   "source": [
    "# your code here. Comment your code. Create as many code cells as you need.\n",
    "\n",
    "# Seperated 2016 dataset from the interpolated data\n",
    "extracted_2016_data = interpolated_data[interpolated_data['Year'] == 2016]\n",
    "extracted_2016_data\n",
    "\n",
    "# Average of Stocking Quantity Column\n",
    "stocking_qty_avg_2016 = extracted_2016_data['Stocking_Quantity'].mean()\n",
    "\n",
    "# Result\n",
    "print(f\"Average Stocking Quantity for 2016: {stocking_qty_avg_2016:.4f}\")"
   ]
  },
  {
   "cell_type": "markdown",
   "id": "a1228acd-55e7-4048-b787-480104bcd522",
   "metadata": {},
   "source": [
    "## Validate your notebook"
   ]
  },
  {
   "cell_type": "markdown",
   "id": "9b64e52b-95c7-4eaf-840a-8f6d6bf6d556",
   "metadata": {},
   "source": [
    "Restart the kernel and re-run your notebook by selecting Kernel > Restart Kernel and Run All Cells from the Menubar. \n",
    "\n",
    "Then, validate your work. Check to make sure that there are no errors and that the responses you wrote in the markdown cells match the results you get from the code cells."
   ]
  },
  {
   "cell_type": "markdown",
   "id": "88811352-635f-4e02-9bf8-a6c3a0ef15f1",
   "metadata": {},
   "source": [
    "## <font color='red'>Academic Integrity Check </font>"
   ]
  },
  {
   "cell_type": "markdown",
   "id": "3c17d9e4-15d3-41d9-9f3b-bbec7aed0de6",
   "metadata": {},
   "source": [
    "<font color = \"red\">**All academic integrity guidelines specified in the syllabus apply to this project as well. DO NOT use concepts and functions not previously discussed in the course (even if you learned them elsewhere). Doing so will result in a score of zero for the question where such code is used and could be considered an AI violation. It is your responsibility to review your code to ensure that you have only used concepts and functions covered in the course.** </font>"
   ]
  },
  {
   "cell_type": "markdown",
   "id": "a8442ae0-c099-4813-aece-5e127f74faef",
   "metadata": {},
   "source": [
    "## Take the Canvas quiz"
   ]
  },
  {
   "cell_type": "markdown",
   "id": "4fa8d575-4ef7-484e-8701-3f99bb016415",
   "metadata": {},
   "source": [
    "Remember you can take the quiz at most five times. "
   ]
  }
 ],
 "metadata": {
  "kernelspec": {
   "display_name": "Python 3 (ipykernel)",
   "language": "python",
   "name": "python3"
  },
  "language_info": {
   "codemirror_mode": {
    "name": "ipython",
    "version": 3
   },
   "file_extension": ".py",
   "mimetype": "text/x-python",
   "name": "python",
   "nbconvert_exporter": "python",
   "pygments_lexer": "ipython3",
   "version": "3.7.10"
  }
 },
 "nbformat": 4,
 "nbformat_minor": 5
}
