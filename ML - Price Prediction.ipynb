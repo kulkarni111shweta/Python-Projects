{
 "cells": [
  {
   "cell_type": "code",
   "execution_count": 1,
   "metadata": {},
   "outputs": [
    {
     "name": "stdout",
     "output_type": "stream",
     "text": [
      "Requirement already satisfied: pip in c:\\users\\sanke\\anaconda3\\lib\\site-packages (20.3.1)\n",
      "Requirement already satisfied: setuptools in c:\\users\\sanke\\anaconda3\\lib\\site-packages (50.3.2)\n",
      "Note: you may need to restart the kernel to use updated packages.\n"
     ]
    }
   ],
   "source": [
    "pip install -U pip setuptools"
   ]
  },
  {
   "cell_type": "code",
   "execution_count": 2,
   "metadata": {},
   "outputs": [
    {
     "name": "stdout",
     "output_type": "stream",
     "text": [
      "Requirement already satisfied: mlxtend in c:\\users\\sanke\\anaconda3\\lib\\site-packages (0.18.0)\n",
      "Requirement already satisfied: pandas>=0.24.2 in c:\\users\\sanke\\anaconda3\\lib\\site-packages (from mlxtend) (1.0.5)\n",
      "Requirement already satisfied: setuptools in c:\\users\\sanke\\anaconda3\\lib\\site-packages (from mlxtend) (50.3.2)\n",
      "Requirement already satisfied: joblib>=0.13.2 in c:\\users\\sanke\\anaconda3\\lib\\site-packages (from mlxtend) (0.16.0)\n",
      "Requirement already satisfied: matplotlib>=3.0.0 in c:\\users\\sanke\\anaconda3\\lib\\site-packages (from mlxtend) (3.2.2)\n",
      "Requirement already satisfied: numpy>=1.16.2 in c:\\users\\sanke\\anaconda3\\lib\\site-packages (from mlxtend) (1.18.5)\n",
      "Requirement already satisfied: scipy>=1.2.1 in c:\\users\\sanke\\anaconda3\\lib\\site-packages (from mlxtend) (1.5.0)\n",
      "Requirement already satisfied: scikit-learn>=0.20.3 in c:\\users\\sanke\\anaconda3\\lib\\site-packages (from mlxtend) (0.23.1)\n",
      "Requirement already satisfied: pyparsing!=2.0.4,!=2.1.2,!=2.1.6,>=2.0.1 in c:\\users\\sanke\\anaconda3\\lib\\site-packages (from matplotlib>=3.0.0->mlxtend) (2.4.7)\n",
      "Requirement already satisfied: numpy>=1.16.2 in c:\\users\\sanke\\anaconda3\\lib\\site-packages (from mlxtend) (1.18.5)\n",
      "Requirement already satisfied: cycler>=0.10 in c:\\users\\sanke\\anaconda3\\lib\\site-packages (from matplotlib>=3.0.0->mlxtend) (0.10.0)\n",
      "Requirement already satisfied: kiwisolver>=1.0.1 in c:\\users\\sanke\\anaconda3\\lib\\site-packages (from matplotlib>=3.0.0->mlxtend) (1.2.0)\n",
      "Requirement already satisfied: python-dateutil>=2.1 in c:\\users\\sanke\\anaconda3\\lib\\site-packages (from matplotlib>=3.0.0->mlxtend) (2.8.1)\n",
      "Requirement already satisfied: six in c:\\users\\sanke\\anaconda3\\lib\\site-packages (from cycler>=0.10->matplotlib>=3.0.0->mlxtend) (1.15.0)\n",
      "Requirement already satisfied: python-dateutil>=2.1 in c:\\users\\sanke\\anaconda3\\lib\\site-packages (from matplotlib>=3.0.0->mlxtend) (2.8.1)\n",
      "Requirement already satisfied: numpy>=1.16.2 in c:\\users\\sanke\\anaconda3\\lib\\site-packages (from mlxtend) (1.18.5)\n",
      "Requirement already satisfied: pytz>=2017.2 in c:\\users\\sanke\\anaconda3\\lib\\site-packages (from pandas>=0.24.2->mlxtend) (2020.1)\n",
      "Requirement already satisfied: six in c:\\users\\sanke\\anaconda3\\lib\\site-packages (from cycler>=0.10->matplotlib>=3.0.0->mlxtend) (1.15.0)\n",
      "Requirement already satisfied: joblib>=0.13.2 in c:\\users\\sanke\\anaconda3\\lib\\site-packages (from mlxtend) (0.16.0)\n",
      "Requirement already satisfied: threadpoolctl>=2.0.0 in c:\\users\\sanke\\anaconda3\\lib\\site-packages (from scikit-learn>=0.20.3->mlxtend) (2.1.0)\n",
      "Requirement already satisfied: numpy>=1.16.2 in c:\\users\\sanke\\anaconda3\\lib\\site-packages (from mlxtend) (1.18.5)\n",
      "Requirement already satisfied: scipy>=1.2.1 in c:\\users\\sanke\\anaconda3\\lib\\site-packages (from mlxtend) (1.5.0)\n",
      "Requirement already satisfied: numpy>=1.16.2 in c:\\users\\sanke\\anaconda3\\lib\\site-packages (from mlxtend) (1.18.5)\n",
      "Note: you may need to restart the kernel to use updated packages.\n"
     ]
    }
   ],
   "source": [
    "pip install mlxtend"
   ]
  },
  {
   "cell_type": "code",
   "execution_count": 3,
   "metadata": {},
   "outputs": [],
   "source": [
    "import pandas as pd\n",
    "import numpy as np\n",
    "import matplotlib.pyplot as plt\n",
    "%matplotlib inline\n",
    "import seaborn as sns\n",
    "from sklearn import preprocessing\n",
    "from sklearn.model_selection import train_test_split\n",
    "from sklearn.compose import ColumnTransformer\n",
    "from sklearn.preprocessing import PowerTransformer\n",
    "from sklearn.feature_selection import mutual_info_regression\n",
    "from mlxtend.feature_selection import SequentialFeatureSelector\n",
    "from mlxtend.feature_selection import ExhaustiveFeatureSelector\n",
    "from sklearn.feature_selection import RFE\n",
    "from sklearn.feature_selection import SelectFromModel\n",
    "from sklearn.model_selection import KFold, cross_validate\n",
    "from sklearn.model_selection import RandomizedSearchCV\n",
    "\n",
    "# Models\n",
    "\n",
    "from sklearn.linear_model import LogisticRegression\n",
    "from sklearn.tree import DecisionTreeRegressor\n",
    "from sklearn.ensemble import AdaBoostRegressor\n",
    "from sklearn.ensemble import RandomForestRegressor\n",
    "from sklearn.ensemble import BaggingRegressor\n",
    "from sklearn.ensemble import ExtraTreesRegressor\n",
    "from sklearn.ensemble import GradientBoostingRegressor\n",
    "from sklearn.ensemble import StackingRegressor\n",
    "from sklearn.ensemble import VotingRegressor\n",
    "\n",
    "# Evaluation\n",
    "from sklearn.metrics import mean_squared_log_error"
   ]
  },
  {
   "cell_type": "code",
   "execution_count": 4,
   "metadata": {},
   "outputs": [],
   "source": [
    "df = pd.read_csv(r'C:\\Users\\sanke\\OneDrive\\Desktop\\Projects\\Machine Hack\\Hack 2\\train.csv')"
   ]
  },
  {
   "cell_type": "code",
   "execution_count": 5,
   "metadata": {},
   "outputs": [],
   "source": [
    "#Lower casing the feature names\n",
    "\n",
    "df.columns = df.columns.str.lower()"
   ]
  },
  {
   "cell_type": "code",
   "execution_count": 6,
   "metadata": {},
   "outputs": [],
   "source": [
    "# Renaming the columns\n",
    "\n",
    "df.rename(columns = {'charges_2 (%)': 'charges_2'}, inplace = True)"
   ]
  },
  {
   "cell_type": "code",
   "execution_count": 7,
   "metadata": {
    "scrolled": true
   },
   "outputs": [
    {
     "data": {
      "text/html": [
       "<div>\n",
       "<style scoped>\n",
       "    .dataframe tbody tr th:only-of-type {\n",
       "        vertical-align: middle;\n",
       "    }\n",
       "\n",
       "    .dataframe tbody tr th {\n",
       "        vertical-align: top;\n",
       "    }\n",
       "\n",
       "    .dataframe thead th {\n",
       "        text-align: right;\n",
       "    }\n",
       "</style>\n",
       "<table border=\"1\" class=\"dataframe\">\n",
       "  <thead>\n",
       "    <tr style=\"text-align: right;\">\n",
       "      <th></th>\n",
       "      <th>product_id</th>\n",
       "      <th>stall_no</th>\n",
       "      <th>instock_date</th>\n",
       "      <th>market_category</th>\n",
       "      <th>customer_name</th>\n",
       "      <th>loyalty_customer</th>\n",
       "      <th>product_category</th>\n",
       "      <th>grade</th>\n",
       "      <th>demand</th>\n",
       "      <th>discount_avail</th>\n",
       "      <th>charges_1</th>\n",
       "      <th>charges_2</th>\n",
       "      <th>minimum_price</th>\n",
       "      <th>maximum_price</th>\n",
       "      <th>selling_price</th>\n",
       "    </tr>\n",
       "  </thead>\n",
       "  <tbody>\n",
       "    <tr>\n",
       "      <th>64</th>\n",
       "      <td>NKCECW7BSTZBHH6R</td>\n",
       "      <td>2.0</td>\n",
       "      <td>24/09/2015 17:26</td>\n",
       "      <td>268</td>\n",
       "      <td>Tyrus</td>\n",
       "      <td>Yes</td>\n",
       "      <td>Hospitality</td>\n",
       "      <td>2</td>\n",
       "      <td>28</td>\n",
       "      <td>NaN</td>\n",
       "      <td>340.0</td>\n",
       "      <td>9.0</td>\n",
       "      <td>945.0</td>\n",
       "      <td>2956.0</td>\n",
       "      <td>NaN</td>\n",
       "    </tr>\n",
       "    <tr>\n",
       "      <th>128</th>\n",
       "      <td>SHIEHXZEWWACSXRQ</td>\n",
       "      <td>26.0</td>\n",
       "      <td>12/11/2015 15:20</td>\n",
       "      <td>62</td>\n",
       "      <td>Kaizen</td>\n",
       "      <td>Yes</td>\n",
       "      <td>Child_care</td>\n",
       "      <td>0</td>\n",
       "      <td>70</td>\n",
       "      <td>NaN</td>\n",
       "      <td>290.0</td>\n",
       "      <td>7.0</td>\n",
       "      <td>2895.0</td>\n",
       "      <td>12275.0</td>\n",
       "      <td>7801.506900</td>\n",
       "    </tr>\n",
       "    <tr>\n",
       "      <th>275</th>\n",
       "      <td>SCFEHFMHWZNYMH9C</td>\n",
       "      <td>45.0</td>\n",
       "      <td>05/05/2015 15:10</td>\n",
       "      <td>73</td>\n",
       "      <td>Amir</td>\n",
       "      <td>No</td>\n",
       "      <td>Repair</td>\n",
       "      <td>0</td>\n",
       "      <td>87</td>\n",
       "      <td>NaN</td>\n",
       "      <td>208.0</td>\n",
       "      <td>8.0</td>\n",
       "      <td>1133.0</td>\n",
       "      <td>1608.0</td>\n",
       "      <td>233.528064</td>\n",
       "    </tr>\n",
       "    <tr>\n",
       "      <th>398</th>\n",
       "      <td>CRTECN2QUCD97JY3</td>\n",
       "      <td>25.0</td>\n",
       "      <td>23/09/2015 14:31</td>\n",
       "      <td>65</td>\n",
       "      <td>Jan</td>\n",
       "      <td>Yes</td>\n",
       "      <td>Educational</td>\n",
       "      <td>0</td>\n",
       "      <td>73</td>\n",
       "      <td>NaN</td>\n",
       "      <td>139.0</td>\n",
       "      <td>16.0</td>\n",
       "      <td>1245.0</td>\n",
       "      <td>2872.0</td>\n",
       "      <td>2178.782100</td>\n",
       "    </tr>\n",
       "    <tr>\n",
       "      <th>470</th>\n",
       "      <td>SHIE9WHT4M9FHMB5</td>\n",
       "      <td>24.0</td>\n",
       "      <td>05/05/2015 16:10</td>\n",
       "      <td>235</td>\n",
       "      <td>Elliot</td>\n",
       "      <td>Yes</td>\n",
       "      <td>Home_decor</td>\n",
       "      <td>2</td>\n",
       "      <td>2</td>\n",
       "      <td>NaN</td>\n",
       "      <td>297.0</td>\n",
       "      <td>15.0</td>\n",
       "      <td>3132.0</td>\n",
       "      <td>6194.0</td>\n",
       "      <td>744.973995</td>\n",
       "    </tr>\n",
       "    <tr>\n",
       "      <th>812</th>\n",
       "      <td>PTPE3KKX3DBHYFVX</td>\n",
       "      <td>24.0</td>\n",
       "      <td>21/10/2015 00:09</td>\n",
       "      <td>3</td>\n",
       "      <td>Azari</td>\n",
       "      <td>No</td>\n",
       "      <td>Repair</td>\n",
       "      <td>0</td>\n",
       "      <td>85</td>\n",
       "      <td>NaN</td>\n",
       "      <td>223.0</td>\n",
       "      <td>9.0</td>\n",
       "      <td>3098.0</td>\n",
       "      <td>4153.0</td>\n",
       "      <td>569.444198</td>\n",
       "    </tr>\n",
       "    <tr>\n",
       "      <th>822</th>\n",
       "      <td>WATEHYMDBDZAYJ4E</td>\n",
       "      <td>25.0</td>\n",
       "      <td>10/11/2015 16:09</td>\n",
       "      <td>471</td>\n",
       "      <td>Jalisa</td>\n",
       "      <td>Yes</td>\n",
       "      <td>Home_decor</td>\n",
       "      <td>2</td>\n",
       "      <td>25</td>\n",
       "      <td>NaN</td>\n",
       "      <td>290.0</td>\n",
       "      <td>14.0</td>\n",
       "      <td>2183.0</td>\n",
       "      <td>4942.0</td>\n",
       "      <td>577.176941</td>\n",
       "    </tr>\n",
       "    <tr>\n",
       "      <th>888</th>\n",
       "      <td>JEAECN2PWUKFA9GJ</td>\n",
       "      <td>23.0</td>\n",
       "      <td>06/12/2014 15:25</td>\n",
       "      <td>460</td>\n",
       "      <td>Hudson</td>\n",
       "      <td>No</td>\n",
       "      <td>Home_decor</td>\n",
       "      <td>3</td>\n",
       "      <td>82</td>\n",
       "      <td>NaN</td>\n",
       "      <td>213.0</td>\n",
       "      <td>17.0</td>\n",
       "      <td>252.0</td>\n",
       "      <td>NaN</td>\n",
       "      <td>539.684992</td>\n",
       "    </tr>\n",
       "    <tr>\n",
       "      <th>1162</th>\n",
       "      <td>BRAE8EHTZYYGGETT</td>\n",
       "      <td>13.0</td>\n",
       "      <td>20/08/2015 21:31</td>\n",
       "      <td>423</td>\n",
       "      <td>Tania</td>\n",
       "      <td>No</td>\n",
       "      <td>Hospitality</td>\n",
       "      <td>0</td>\n",
       "      <td>52</td>\n",
       "      <td>NaN</td>\n",
       "      <td>319.0</td>\n",
       "      <td>9.0</td>\n",
       "      <td>1546.0</td>\n",
       "      <td>5653.0</td>\n",
       "      <td>3896.640864</td>\n",
       "    </tr>\n",
       "    <tr>\n",
       "      <th>1280</th>\n",
       "      <td>NKCE3Y6E4VQWEHZS</td>\n",
       "      <td>33.0</td>\n",
       "      <td>26/09/2015 13:18</td>\n",
       "      <td>205</td>\n",
       "      <td>Marigold</td>\n",
       "      <td>No</td>\n",
       "      <td>Child_care</td>\n",
       "      <td>0</td>\n",
       "      <td>61</td>\n",
       "      <td>NaN</td>\n",
       "      <td>342.0</td>\n",
       "      <td>17.0</td>\n",
       "      <td>2121.0</td>\n",
       "      <td>3310.0</td>\n",
       "      <td>3031.498800</td>\n",
       "    </tr>\n",
       "    <tr>\n",
       "      <th>1633</th>\n",
       "      <td>MUGEAGGKFBTYPN4Z</td>\n",
       "      <td>36.0</td>\n",
       "      <td>22/09/2015 17:26</td>\n",
       "      <td>65</td>\n",
       "      <td>Leen</td>\n",
       "      <td>Yes</td>\n",
       "      <td>Hospitality</td>\n",
       "      <td>2</td>\n",
       "      <td>65</td>\n",
       "      <td>NaN</td>\n",
       "      <td>347.0</td>\n",
       "      <td>6.0</td>\n",
       "      <td>2832.0</td>\n",
       "      <td>4073.0</td>\n",
       "      <td>3763.554300</td>\n",
       "    </tr>\n",
       "    <tr>\n",
       "      <th>1786</th>\n",
       "      <td>PLLEHQTTGJSKEGXQ</td>\n",
       "      <td>18.0</td>\n",
       "      <td>22/08/2015 21:37</td>\n",
       "      <td>320</td>\n",
       "      <td>Letty</td>\n",
       "      <td>No</td>\n",
       "      <td>Hospitality</td>\n",
       "      <td>0</td>\n",
       "      <td>17</td>\n",
       "      <td>NaN</td>\n",
       "      <td>300.0</td>\n",
       "      <td>7.0</td>\n",
       "      <td>640.0</td>\n",
       "      <td>4444.0</td>\n",
       "      <td>2843.495622</td>\n",
       "    </tr>\n",
       "    <tr>\n",
       "      <th>1848</th>\n",
       "      <td>BRAEFUKZUHFRJGHZ</td>\n",
       "      <td>2.0</td>\n",
       "      <td>20/08/2015 21:36</td>\n",
       "      <td>2</td>\n",
       "      <td>Aniston</td>\n",
       "      <td>No</td>\n",
       "      <td>Educational</td>\n",
       "      <td>1</td>\n",
       "      <td>40</td>\n",
       "      <td>NaN</td>\n",
       "      <td>167.0</td>\n",
       "      <td>12.0</td>\n",
       "      <td>3067.0</td>\n",
       "      <td>5108.0</td>\n",
       "      <td>4163.573275</td>\n",
       "    </tr>\n",
       "    <tr>\n",
       "      <th>2094</th>\n",
       "      <td>SHIEBWNUNANV22KB</td>\n",
       "      <td>4.0</td>\n",
       "      <td>15/08/2015 21:15</td>\n",
       "      <td>198</td>\n",
       "      <td>Romina</td>\n",
       "      <td>Yes</td>\n",
       "      <td>Repair</td>\n",
       "      <td>2</td>\n",
       "      <td>72</td>\n",
       "      <td>NaN</td>\n",
       "      <td>221.0</td>\n",
       "      <td>9.0</td>\n",
       "      <td>4510.0</td>\n",
       "      <td>6168.0</td>\n",
       "      <td>5509.161900</td>\n",
       "    </tr>\n",
       "    <tr>\n",
       "      <th>2446</th>\n",
       "      <td>BBAE6GAWXPSTTPC8</td>\n",
       "      <td>46.0</td>\n",
       "      <td>15/08/2015 22:19</td>\n",
       "      <td>447</td>\n",
       "      <td>Bentlee</td>\n",
       "      <td>Yes</td>\n",
       "      <td>Organic</td>\n",
       "      <td>0</td>\n",
       "      <td>3</td>\n",
       "      <td>NaN</td>\n",
       "      <td>128.0</td>\n",
       "      <td>7.0</td>\n",
       "      <td>5559.0</td>\n",
       "      <td>7167.0</td>\n",
       "      <td>6494.800455</td>\n",
       "    </tr>\n",
       "    <tr>\n",
       "      <th>2535</th>\n",
       "      <td>ABQEJ7YQTNQGMXZV</td>\n",
       "      <td>5.0</td>\n",
       "      <td>05/05/2015 14:13</td>\n",
       "      <td>443</td>\n",
       "      <td>Graham</td>\n",
       "      <td>Yes</td>\n",
       "      <td>Repair</td>\n",
       "      <td>0</td>\n",
       "      <td>88</td>\n",
       "      <td>NaN</td>\n",
       "      <td>294.0</td>\n",
       "      <td>6.0</td>\n",
       "      <td>4005.0</td>\n",
       "      <td>5506.0</td>\n",
       "      <td>4979.596160</td>\n",
       "    </tr>\n",
       "    <tr>\n",
       "      <th>2802</th>\n",
       "      <td>NKCDU4RZESHQBS8M</td>\n",
       "      <td>3.0</td>\n",
       "      <td>24/09/2015 15:23</td>\n",
       "      <td>65</td>\n",
       "      <td>Alyce</td>\n",
       "      <td>No</td>\n",
       "      <td>Child_care</td>\n",
       "      <td>2</td>\n",
       "      <td>17</td>\n",
       "      <td>NaN</td>\n",
       "      <td>307.0</td>\n",
       "      <td>15.0</td>\n",
       "      <td>2303.0</td>\n",
       "      <td>3841.0</td>\n",
       "      <td>3383.271639</td>\n",
       "    </tr>\n",
       "    <tr>\n",
       "      <th>3050</th>\n",
       "      <td>SCHE5Z57FHVKZD3C</td>\n",
       "      <td>50.0</td>\n",
       "      <td>21/11/2015 06:56</td>\n",
       "      <td>24</td>\n",
       "      <td>Mei</td>\n",
       "      <td>Yes</td>\n",
       "      <td>Child_care</td>\n",
       "      <td>0</td>\n",
       "      <td>43</td>\n",
       "      <td>NaN</td>\n",
       "      <td>337.0</td>\n",
       "      <td>15.0</td>\n",
       "      <td>6140.0</td>\n",
       "      <td>8403.0</td>\n",
       "      <td>7570.645776</td>\n",
       "    </tr>\n",
       "    <tr>\n",
       "      <th>3223</th>\n",
       "      <td>ACCEGYP2ZNGRUETZ</td>\n",
       "      <td>10.0</td>\n",
       "      <td>13/09/2015 20:17</td>\n",
       "      <td>23</td>\n",
       "      <td>Emberly</td>\n",
       "      <td>Yes</td>\n",
       "      <td>Home_decor</td>\n",
       "      <td>2</td>\n",
       "      <td>35</td>\n",
       "      <td>NaN</td>\n",
       "      <td>NaN</td>\n",
       "      <td>10.0</td>\n",
       "      <td>1670.0</td>\n",
       "      <td>3686.0</td>\n",
       "      <td>2889.438300</td>\n",
       "    </tr>\n",
       "    <tr>\n",
       "      <th>3402</th>\n",
       "      <td>MUGE9HRRGGXQ8XUN</td>\n",
       "      <td>10.0</td>\n",
       "      <td>22/09/2015 17:30</td>\n",
       "      <td>452</td>\n",
       "      <td>Ela</td>\n",
       "      <td>Yes</td>\n",
       "      <td>Educational</td>\n",
       "      <td>0</td>\n",
       "      <td>1</td>\n",
       "      <td>NaN</td>\n",
       "      <td>130.0</td>\n",
       "      <td>10.0</td>\n",
       "      <td>2999.0</td>\n",
       "      <td>3715.0</td>\n",
       "      <td>523.501645</td>\n",
       "    </tr>\n",
       "    <tr>\n",
       "      <th>3598</th>\n",
       "      <td>DREEDVHXJGJWQHVE</td>\n",
       "      <td>4.0</td>\n",
       "      <td>06/05/2015 17:20</td>\n",
       "      <td>55</td>\n",
       "      <td>Colt</td>\n",
       "      <td>Yes</td>\n",
       "      <td>Home_decor</td>\n",
       "      <td>0</td>\n",
       "      <td>16</td>\n",
       "      <td>NaN</td>\n",
       "      <td>238.0</td>\n",
       "      <td>13.0</td>\n",
       "      <td>4065.0</td>\n",
       "      <td>5515.0</td>\n",
       "      <td>5033.726577</td>\n",
       "    </tr>\n",
       "    <tr>\n",
       "      <th>3609</th>\n",
       "      <td>PLWE6S4AVYSK8KHT</td>\n",
       "      <td>26.0</td>\n",
       "      <td>06/05/2015 16:20</td>\n",
       "      <td>167</td>\n",
       "      <td>Angel</td>\n",
       "      <td>Yes</td>\n",
       "      <td>Fashion</td>\n",
       "      <td>0</td>\n",
       "      <td>33</td>\n",
       "      <td>NaN</td>\n",
       "      <td>376.0</td>\n",
       "      <td>13.0</td>\n",
       "      <td>4454.0</td>\n",
       "      <td>6442.0</td>\n",
       "      <td>5816.502300</td>\n",
       "    </tr>\n",
       "    <tr>\n",
       "      <th>3673</th>\n",
       "      <td>CRTECN2QVB5MFPF8</td>\n",
       "      <td>38.0</td>\n",
       "      <td>26/09/2015 14:23</td>\n",
       "      <td>3</td>\n",
       "      <td>Edyn</td>\n",
       "      <td>No</td>\n",
       "      <td>Repair</td>\n",
       "      <td>0</td>\n",
       "      <td>64</td>\n",
       "      <td>NaN</td>\n",
       "      <td>290.0</td>\n",
       "      <td>8.0</td>\n",
       "      <td>1898.0</td>\n",
       "      <td>3581.0</td>\n",
       "      <td>3001.373100</td>\n",
       "    </tr>\n",
       "    <tr>\n",
       "      <th>4525</th>\n",
       "      <td>SHIEBTT27V3NTDKK</td>\n",
       "      <td>42.0</td>\n",
       "      <td>24/09/2015 14:19</td>\n",
       "      <td>198</td>\n",
       "      <td>Anisha</td>\n",
       "      <td>No</td>\n",
       "      <td>Hospitality</td>\n",
       "      <td>0</td>\n",
       "      <td>36</td>\n",
       "      <td>NaN</td>\n",
       "      <td>267.0</td>\n",
       "      <td>5.0</td>\n",
       "      <td>2326.0</td>\n",
       "      <td>3331.0</td>\n",
       "      <td>3089.167725</td>\n",
       "    </tr>\n",
       "    <tr>\n",
       "      <th>4884</th>\n",
       "      <td>SHOEDD2H6ZHT9YNQ</td>\n",
       "      <td>15.0</td>\n",
       "      <td>21/04/2015 16:02</td>\n",
       "      <td>188</td>\n",
       "      <td>Braxton</td>\n",
       "      <td>Yes</td>\n",
       "      <td>Fashion</td>\n",
       "      <td>0</td>\n",
       "      <td>37</td>\n",
       "      <td>NaN</td>\n",
       "      <td>381.0</td>\n",
       "      <td>12.0</td>\n",
       "      <td>3601.0</td>\n",
       "      <td>4924.0</td>\n",
       "      <td>4636.998450</td>\n",
       "    </tr>\n",
       "    <tr>\n",
       "      <th>4900</th>\n",
       "      <td>LCHEH4GTFX23CPZR</td>\n",
       "      <td>28.0</td>\n",
       "      <td>20/05/2015 04:58</td>\n",
       "      <td>268</td>\n",
       "      <td>Karter</td>\n",
       "      <td>Yes</td>\n",
       "      <td>Educational</td>\n",
       "      <td>2</td>\n",
       "      <td>79</td>\n",
       "      <td>NaN</td>\n",
       "      <td>166.0</td>\n",
       "      <td>8.0</td>\n",
       "      <td>2458.0</td>\n",
       "      <td>5137.0</td>\n",
       "      <td>3926.874600</td>\n",
       "    </tr>\n",
       "    <tr>\n",
       "      <th>4932</th>\n",
       "      <td>BRAEDTPHWGSGJY6C</td>\n",
       "      <td>20.0</td>\n",
       "      <td>18/08/2015 23:15</td>\n",
       "      <td>149</td>\n",
       "      <td>Annelise</td>\n",
       "      <td>No</td>\n",
       "      <td>Child_care</td>\n",
       "      <td>0</td>\n",
       "      <td>13</td>\n",
       "      <td>NaN</td>\n",
       "      <td>322.0</td>\n",
       "      <td>7.0</td>\n",
       "      <td>7162.0</td>\n",
       "      <td>9599.0</td>\n",
       "      <td>1306.124874</td>\n",
       "    </tr>\n",
       "    <tr>\n",
       "      <th>5305</th>\n",
       "      <td>CRTECN2QXGUXXZUG</td>\n",
       "      <td>41.0</td>\n",
       "      <td>26/09/2015 16:31</td>\n",
       "      <td>198</td>\n",
       "      <td>Rayan</td>\n",
       "      <td>No</td>\n",
       "      <td>Educational</td>\n",
       "      <td>0</td>\n",
       "      <td>18</td>\n",
       "      <td>NaN</td>\n",
       "      <td>149.0</td>\n",
       "      <td>17.0</td>\n",
       "      <td>3080.0</td>\n",
       "      <td>4324.0</td>\n",
       "      <td>3856.904271</td>\n",
       "    </tr>\n",
       "    <tr>\n",
       "      <th>5421</th>\n",
       "      <td>DKOECHX3NXXNMSHA</td>\n",
       "      <td>40.0</td>\n",
       "      <td>17/08/2015 00:31</td>\n",
       "      <td>56</td>\n",
       "      <td>Alianna</td>\n",
       "      <td>No</td>\n",
       "      <td>Cosmetics</td>\n",
       "      <td>0</td>\n",
       "      <td>34</td>\n",
       "      <td>NaN</td>\n",
       "      <td>272.0</td>\n",
       "      <td>16.0</td>\n",
       "      <td>1095.0</td>\n",
       "      <td>1629.0</td>\n",
       "      <td>1632.089550</td>\n",
       "    </tr>\n",
       "    <tr>\n",
       "      <th>5445</th>\n",
       "      <td>CRTECN2QVPYHYVF5</td>\n",
       "      <td>6.0</td>\n",
       "      <td>26/09/2015 17:22</td>\n",
       "      <td>447</td>\n",
       "      <td>Jaycen</td>\n",
       "      <td>No</td>\n",
       "      <td>Technology</td>\n",
       "      <td>0</td>\n",
       "      <td>1</td>\n",
       "      <td>NaN</td>\n",
       "      <td>633.0</td>\n",
       "      <td>14.0</td>\n",
       "      <td>1332.0</td>\n",
       "      <td>3523.0</td>\n",
       "      <td>3063.593610</td>\n",
       "    </tr>\n",
       "    <tr>\n",
       "      <th>5504</th>\n",
       "      <td>PLLEHQW7BYQDVKAY</td>\n",
       "      <td>30.0</td>\n",
       "      <td>23/08/2015 17:36</td>\n",
       "      <td>3</td>\n",
       "      <td>Kathy</td>\n",
       "      <td>Yes</td>\n",
       "      <td>Child_care</td>\n",
       "      <td>0</td>\n",
       "      <td>31</td>\n",
       "      <td>NaN</td>\n",
       "      <td>274.0</td>\n",
       "      <td>12.0</td>\n",
       "      <td>1202.0</td>\n",
       "      <td>2294.0</td>\n",
       "      <td>2019.039750</td>\n",
       "    </tr>\n",
       "    <tr>\n",
       "      <th>5539</th>\n",
       "      <td>WATECGPSDSFRHUSY</td>\n",
       "      <td>31.0</td>\n",
       "      <td>07/02/2015 14:09</td>\n",
       "      <td>275</td>\n",
       "      <td>Easton</td>\n",
       "      <td>Yes</td>\n",
       "      <td>Fashion</td>\n",
       "      <td>0</td>\n",
       "      <td>1</td>\n",
       "      <td>NaN</td>\n",
       "      <td>375.0</td>\n",
       "      <td>12.0</td>\n",
       "      <td>3958.0</td>\n",
       "      <td>4961.0</td>\n",
       "      <td>4839.366015</td>\n",
       "    </tr>\n",
       "    <tr>\n",
       "      <th>5740</th>\n",
       "      <td>SHOEF9G8EWYMM2AM</td>\n",
       "      <td>39.0</td>\n",
       "      <td>07/02/2015 14:09</td>\n",
       "      <td>294</td>\n",
       "      <td>Jose</td>\n",
       "      <td>Yes</td>\n",
       "      <td>Hospitality</td>\n",
       "      <td>2</td>\n",
       "      <td>2</td>\n",
       "      <td>NaN</td>\n",
       "      <td>323.0</td>\n",
       "      <td>NaN</td>\n",
       "      <td>2097.0</td>\n",
       "      <td>5843.0</td>\n",
       "      <td>4296.140343</td>\n",
       "    </tr>\n",
       "    <tr>\n",
       "      <th>5742</th>\n",
       "      <td>NKCEAX7HZFXWVSTA</td>\n",
       "      <td>39.0</td>\n",
       "      <td>21/11/2015 04:56</td>\n",
       "      <td>186</td>\n",
       "      <td>Rebel</td>\n",
       "      <td>Yes</td>\n",
       "      <td>Repair</td>\n",
       "      <td>0</td>\n",
       "      <td>11</td>\n",
       "      <td>NaN</td>\n",
       "      <td>NaN</td>\n",
       "      <td>4.0</td>\n",
       "      <td>3684.0</td>\n",
       "      <td>5139.0</td>\n",
       "      <td>4657.794174</td>\n",
       "    </tr>\n",
       "    <tr>\n",
       "      <th>5787</th>\n",
       "      <td>TSHEGEFHBFVF5QZH</td>\n",
       "      <td>25.0</td>\n",
       "      <td>23/08/2015 20:48</td>\n",
       "      <td>447</td>\n",
       "      <td>Sahana</td>\n",
       "      <td>No</td>\n",
       "      <td>Organic</td>\n",
       "      <td>0</td>\n",
       "      <td>18</td>\n",
       "      <td>NaN</td>\n",
       "      <td>123.0</td>\n",
       "      <td>7.0</td>\n",
       "      <td>4363.0</td>\n",
       "      <td>6696.0</td>\n",
       "      <td>5655.804363</td>\n",
       "    </tr>\n",
       "    <tr>\n",
       "      <th>6085</th>\n",
       "      <td>CLTEGMPW379HKACN</td>\n",
       "      <td>25.0</td>\n",
       "      <td>24/05/2015 03:41</td>\n",
       "      <td>452</td>\n",
       "      <td>Bronson</td>\n",
       "      <td>Yes</td>\n",
       "      <td>Cosmetics</td>\n",
       "      <td>0</td>\n",
       "      <td>68</td>\n",
       "      <td>NaN</td>\n",
       "      <td>258.0</td>\n",
       "      <td>15.0</td>\n",
       "      <td>4829.0</td>\n",
       "      <td>6606.0</td>\n",
       "      <td>5924.239200</td>\n",
       "    </tr>\n",
       "    <tr>\n",
       "      <th>6116</th>\n",
       "      <td>NKCDXU3QDCXYHZD4</td>\n",
       "      <td>46.0</td>\n",
       "      <td>24/09/2015 21:11</td>\n",
       "      <td>65</td>\n",
       "      <td>Shira</td>\n",
       "      <td>Yes</td>\n",
       "      <td>Fashion</td>\n",
       "      <td>2</td>\n",
       "      <td>21</td>\n",
       "      <td>NaN</td>\n",
       "      <td>360.0</td>\n",
       "      <td>15.0</td>\n",
       "      <td>2236.0</td>\n",
       "      <td>4118.0</td>\n",
       "      <td>3532.915575</td>\n",
       "    </tr>\n",
       "    <tr>\n",
       "      <th>6192</th>\n",
       "      <td>TOPE5FA76AAGXYTE</td>\n",
       "      <td>7.0</td>\n",
       "      <td>22/08/2015 19:36</td>\n",
       "      <td>358</td>\n",
       "      <td>Tahlia</td>\n",
       "      <td>Yes</td>\n",
       "      <td>Technology</td>\n",
       "      <td>3</td>\n",
       "      <td>52</td>\n",
       "      <td>NaN</td>\n",
       "      <td>551.0</td>\n",
       "      <td>12.0</td>\n",
       "      <td>2991.0</td>\n",
       "      <td>6576.0</td>\n",
       "      <td>5306.062464</td>\n",
       "    </tr>\n",
       "  </tbody>\n",
       "</table>\n",
       "</div>"
      ],
      "text/plain": [
       "            product_id  stall_no      instock_date  market_category  \\\n",
       "64    NKCECW7BSTZBHH6R       2.0  24/09/2015 17:26              268   \n",
       "128   SHIEHXZEWWACSXRQ      26.0  12/11/2015 15:20               62   \n",
       "275   SCFEHFMHWZNYMH9C      45.0  05/05/2015 15:10               73   \n",
       "398   CRTECN2QUCD97JY3      25.0  23/09/2015 14:31               65   \n",
       "470   SHIE9WHT4M9FHMB5      24.0  05/05/2015 16:10              235   \n",
       "812   PTPE3KKX3DBHYFVX      24.0  21/10/2015 00:09                3   \n",
       "822   WATEHYMDBDZAYJ4E      25.0  10/11/2015 16:09              471   \n",
       "888   JEAECN2PWUKFA9GJ      23.0  06/12/2014 15:25              460   \n",
       "1162  BRAE8EHTZYYGGETT      13.0  20/08/2015 21:31              423   \n",
       "1280  NKCE3Y6E4VQWEHZS      33.0  26/09/2015 13:18              205   \n",
       "1633  MUGEAGGKFBTYPN4Z      36.0  22/09/2015 17:26               65   \n",
       "1786  PLLEHQTTGJSKEGXQ      18.0  22/08/2015 21:37              320   \n",
       "1848  BRAEFUKZUHFRJGHZ       2.0  20/08/2015 21:36                2   \n",
       "2094  SHIEBWNUNANV22KB       4.0  15/08/2015 21:15              198   \n",
       "2446  BBAE6GAWXPSTTPC8      46.0  15/08/2015 22:19              447   \n",
       "2535  ABQEJ7YQTNQGMXZV       5.0  05/05/2015 14:13              443   \n",
       "2802  NKCDU4RZESHQBS8M       3.0  24/09/2015 15:23               65   \n",
       "3050  SCHE5Z57FHVKZD3C      50.0  21/11/2015 06:56               24   \n",
       "3223  ACCEGYP2ZNGRUETZ      10.0  13/09/2015 20:17               23   \n",
       "3402  MUGE9HRRGGXQ8XUN      10.0  22/09/2015 17:30              452   \n",
       "3598  DREEDVHXJGJWQHVE       4.0  06/05/2015 17:20               55   \n",
       "3609  PLWE6S4AVYSK8KHT      26.0  06/05/2015 16:20              167   \n",
       "3673  CRTECN2QVB5MFPF8      38.0  26/09/2015 14:23                3   \n",
       "4525  SHIEBTT27V3NTDKK      42.0  24/09/2015 14:19              198   \n",
       "4884  SHOEDD2H6ZHT9YNQ      15.0  21/04/2015 16:02              188   \n",
       "4900  LCHEH4GTFX23CPZR      28.0  20/05/2015 04:58              268   \n",
       "4932  BRAEDTPHWGSGJY6C      20.0  18/08/2015 23:15              149   \n",
       "5305  CRTECN2QXGUXXZUG      41.0  26/09/2015 16:31              198   \n",
       "5421  DKOECHX3NXXNMSHA      40.0  17/08/2015 00:31               56   \n",
       "5445  CRTECN2QVPYHYVF5       6.0  26/09/2015 17:22              447   \n",
       "5504  PLLEHQW7BYQDVKAY      30.0  23/08/2015 17:36                3   \n",
       "5539  WATECGPSDSFRHUSY      31.0  07/02/2015 14:09              275   \n",
       "5740  SHOEF9G8EWYMM2AM      39.0  07/02/2015 14:09              294   \n",
       "5742  NKCEAX7HZFXWVSTA      39.0  21/11/2015 04:56              186   \n",
       "5787  TSHEGEFHBFVF5QZH      25.0  23/08/2015 20:48              447   \n",
       "6085  CLTEGMPW379HKACN      25.0  24/05/2015 03:41              452   \n",
       "6116  NKCDXU3QDCXYHZD4      46.0  24/09/2015 21:11               65   \n",
       "6192  TOPE5FA76AAGXYTE       7.0  22/08/2015 19:36              358   \n",
       "\n",
       "     customer_name loyalty_customer product_category  grade  demand  \\\n",
       "64           Tyrus              Yes      Hospitality      2      28   \n",
       "128         Kaizen              Yes       Child_care      0      70   \n",
       "275           Amir              No            Repair      0      87   \n",
       "398            Jan              Yes      Educational      0      73   \n",
       "470         Elliot              Yes       Home_decor      2       2   \n",
       "812          Azari              No            Repair      0      85   \n",
       "822         Jalisa              Yes       Home_decor      2      25   \n",
       "888         Hudson              No        Home_decor      3      82   \n",
       "1162         Tania              No       Hospitality      0      52   \n",
       "1280      Marigold              No        Child_care      0      61   \n",
       "1633          Leen              Yes      Hospitality      2      65   \n",
       "1786         Letty              No       Hospitality      0      17   \n",
       "1848       Aniston              No       Educational      1      40   \n",
       "2094        Romina              Yes           Repair      2      72   \n",
       "2446       Bentlee              Yes          Organic      0       3   \n",
       "2535        Graham              Yes           Repair      0      88   \n",
       "2802         Alyce              No        Child_care      2      17   \n",
       "3050           Mei              Yes       Child_care      0      43   \n",
       "3223       Emberly              Yes       Home_decor      2      35   \n",
       "3402           Ela              Yes      Educational      0       1   \n",
       "3598          Colt              Yes       Home_decor      0      16   \n",
       "3609         Angel              Yes          Fashion      0      33   \n",
       "3673          Edyn              No            Repair      0      64   \n",
       "4525        Anisha              No       Hospitality      0      36   \n",
       "4884       Braxton              Yes          Fashion      0      37   \n",
       "4900        Karter              Yes      Educational      2      79   \n",
       "4932      Annelise              No        Child_care      0      13   \n",
       "5305         Rayan              No       Educational      0      18   \n",
       "5421       Alianna              No         Cosmetics      0      34   \n",
       "5445        Jaycen              No        Technology      0       1   \n",
       "5504         Kathy              Yes       Child_care      0      31   \n",
       "5539        Easton              Yes          Fashion      0       1   \n",
       "5740          Jose              Yes      Hospitality      2       2   \n",
       "5742         Rebel              Yes           Repair      0      11   \n",
       "5787        Sahana              No           Organic      0      18   \n",
       "6085       Bronson              Yes        Cosmetics      0      68   \n",
       "6116         Shira              Yes          Fashion      2      21   \n",
       "6192        Tahlia              Yes       Technology      3      52   \n",
       "\n",
       "      discount_avail  charges_1  charges_2  minimum_price  maximum_price  \\\n",
       "64               NaN      340.0        9.0          945.0         2956.0   \n",
       "128              NaN      290.0        7.0         2895.0        12275.0   \n",
       "275              NaN      208.0        8.0         1133.0         1608.0   \n",
       "398              NaN      139.0       16.0         1245.0         2872.0   \n",
       "470              NaN      297.0       15.0         3132.0         6194.0   \n",
       "812              NaN      223.0        9.0         3098.0         4153.0   \n",
       "822              NaN      290.0       14.0         2183.0         4942.0   \n",
       "888              NaN      213.0       17.0          252.0            NaN   \n",
       "1162             NaN      319.0        9.0         1546.0         5653.0   \n",
       "1280             NaN      342.0       17.0         2121.0         3310.0   \n",
       "1633             NaN      347.0        6.0         2832.0         4073.0   \n",
       "1786             NaN      300.0        7.0          640.0         4444.0   \n",
       "1848             NaN      167.0       12.0         3067.0         5108.0   \n",
       "2094             NaN      221.0        9.0         4510.0         6168.0   \n",
       "2446             NaN      128.0        7.0         5559.0         7167.0   \n",
       "2535             NaN      294.0        6.0         4005.0         5506.0   \n",
       "2802             NaN      307.0       15.0         2303.0         3841.0   \n",
       "3050             NaN      337.0       15.0         6140.0         8403.0   \n",
       "3223             NaN        NaN       10.0         1670.0         3686.0   \n",
       "3402             NaN      130.0       10.0         2999.0         3715.0   \n",
       "3598             NaN      238.0       13.0         4065.0         5515.0   \n",
       "3609             NaN      376.0       13.0         4454.0         6442.0   \n",
       "3673             NaN      290.0        8.0         1898.0         3581.0   \n",
       "4525             NaN      267.0        5.0         2326.0         3331.0   \n",
       "4884             NaN      381.0       12.0         3601.0         4924.0   \n",
       "4900             NaN      166.0        8.0         2458.0         5137.0   \n",
       "4932             NaN      322.0        7.0         7162.0         9599.0   \n",
       "5305             NaN      149.0       17.0         3080.0         4324.0   \n",
       "5421             NaN      272.0       16.0         1095.0         1629.0   \n",
       "5445             NaN      633.0       14.0         1332.0         3523.0   \n",
       "5504             NaN      274.0       12.0         1202.0         2294.0   \n",
       "5539             NaN      375.0       12.0         3958.0         4961.0   \n",
       "5740             NaN      323.0        NaN         2097.0         5843.0   \n",
       "5742             NaN        NaN        4.0         3684.0         5139.0   \n",
       "5787             NaN      123.0        7.0         4363.0         6696.0   \n",
       "6085             NaN      258.0       15.0         4829.0         6606.0   \n",
       "6116             NaN      360.0       15.0         2236.0         4118.0   \n",
       "6192             NaN      551.0       12.0         2991.0         6576.0   \n",
       "\n",
       "      selling_price  \n",
       "64              NaN  \n",
       "128     7801.506900  \n",
       "275      233.528064  \n",
       "398     2178.782100  \n",
       "470      744.973995  \n",
       "812      569.444198  \n",
       "822      577.176941  \n",
       "888      539.684992  \n",
       "1162    3896.640864  \n",
       "1280    3031.498800  \n",
       "1633    3763.554300  \n",
       "1786    2843.495622  \n",
       "1848    4163.573275  \n",
       "2094    5509.161900  \n",
       "2446    6494.800455  \n",
       "2535    4979.596160  \n",
       "2802    3383.271639  \n",
       "3050    7570.645776  \n",
       "3223    2889.438300  \n",
       "3402     523.501645  \n",
       "3598    5033.726577  \n",
       "3609    5816.502300  \n",
       "3673    3001.373100  \n",
       "4525    3089.167725  \n",
       "4884    4636.998450  \n",
       "4900    3926.874600  \n",
       "4932    1306.124874  \n",
       "5305    3856.904271  \n",
       "5421    1632.089550  \n",
       "5445    3063.593610  \n",
       "5504    2019.039750  \n",
       "5539    4839.366015  \n",
       "5740    4296.140343  \n",
       "5742    4657.794174  \n",
       "5787    5655.804363  \n",
       "6085    5924.239200  \n",
       "6116    3532.915575  \n",
       "6192    5306.062464  "
      ]
     },
     "execution_count": 7,
     "metadata": {},
     "output_type": "execute_result"
    }
   ],
   "source": [
    "df[df['discount_avail'].isnull()]"
   ]
  },
  {
   "cell_type": "code",
   "execution_count": 8,
   "metadata": {},
   "outputs": [],
   "source": [
    "# Discount_avail\n",
    "# 1.0 where the corresponding selling price is low.\n",
    "\n",
    "\n",
    "df.loc[[275, 470, 888, 822,812,3402], 'discount_avail'] = 1.0"
   ]
  },
  {
   "cell_type": "code",
   "execution_count": 9,
   "metadata": {},
   "outputs": [],
   "source": [
    "# 0.0 where the corresponding selling price is high, meaning that discount was not given.\n",
    "\n",
    "df.discount_avail.fillna(0.0, inplace = True)"
   ]
  },
  {
   "cell_type": "code",
   "execution_count": 10,
   "metadata": {},
   "outputs": [],
   "source": [
    "# Onehot encoding the product_category\n",
    "\n",
    "ohe = pd.get_dummies(df.product_category, prefix = 'prod', prefix_sep= '_', dtype = float )"
   ]
  },
  {
   "cell_type": "code",
   "execution_count": 11,
   "metadata": {},
   "outputs": [],
   "source": [
    "# Concatenating both the dataframes\n",
    "\n",
    "df = pd.concat([df, ohe], axis = 1, join = 'outer' )"
   ]
  },
  {
   "cell_type": "code",
   "execution_count": 12,
   "metadata": {},
   "outputs": [],
   "source": [
    "# Splitting the instock date into just the day and month columns\n",
    "\n",
    "df['day'] = pd.to_datetime(df.instock_date).dt.day\n",
    "df['month'] = pd.to_datetime(df.instock_date).dt.month"
   ]
  },
  {
   "cell_type": "code",
   "execution_count": 13,
   "metadata": {},
   "outputs": [],
   "source": [
    "# Numeralising the loyalty_customer column\n",
    "\n",
    "le = preprocessing.LabelEncoder()\n",
    "\n",
    "df['loyalty_customer'] = le.fit_transform(df.loyalty_customer)"
   ]
  },
  {
   "cell_type": "code",
   "execution_count": 14,
   "metadata": {},
   "outputs": [],
   "source": [
    "# Converting the grade column dtype to float\n",
    "\n",
    "df.grade = df.grade.astype(float)"
   ]
  },
  {
   "cell_type": "code",
   "execution_count": 15,
   "metadata": {},
   "outputs": [],
   "source": [
    "# Dropping unnecessary features\n",
    "\n",
    "df.drop(['product_id', 'instock_date', 'product_category', 'customer_name'], axis = 1, inplace = True)"
   ]
  },
  {
   "cell_type": "code",
   "execution_count": 16,
   "metadata": {},
   "outputs": [
    {
     "data": {
      "text/plain": [
       "23"
      ]
     },
     "execution_count": 16,
     "metadata": {},
     "output_type": "execute_result"
    }
   ],
   "source": [
    "len(df.columns)"
   ]
  },
  {
   "cell_type": "code",
   "execution_count": 17,
   "metadata": {},
   "outputs": [
    {
     "data": {
      "text/html": [
       "<div>\n",
       "<style scoped>\n",
       "    .dataframe tbody tr th:only-of-type {\n",
       "        vertical-align: middle;\n",
       "    }\n",
       "\n",
       "    .dataframe tbody tr th {\n",
       "        vertical-align: top;\n",
       "    }\n",
       "\n",
       "    .dataframe thead th {\n",
       "        text-align: right;\n",
       "    }\n",
       "</style>\n",
       "<table border=\"1\" class=\"dataframe\">\n",
       "  <thead>\n",
       "    <tr style=\"text-align: right;\">\n",
       "      <th></th>\n",
       "      <th>stall_no</th>\n",
       "      <th>market_category</th>\n",
       "      <th>loyalty_customer</th>\n",
       "      <th>grade</th>\n",
       "      <th>demand</th>\n",
       "      <th>discount_avail</th>\n",
       "      <th>charges_1</th>\n",
       "      <th>charges_2</th>\n",
       "      <th>minimum_price</th>\n",
       "      <th>maximum_price</th>\n",
       "      <th>...</th>\n",
       "      <th>prod_Educational</th>\n",
       "      <th>prod_Fashion</th>\n",
       "      <th>prod_Home_decor</th>\n",
       "      <th>prod_Hospitality</th>\n",
       "      <th>prod_Organic</th>\n",
       "      <th>prod_Pet_care</th>\n",
       "      <th>prod_Repair</th>\n",
       "      <th>prod_Technology</th>\n",
       "      <th>day</th>\n",
       "      <th>month</th>\n",
       "    </tr>\n",
       "  </thead>\n",
       "  <tbody>\n",
       "    <tr>\n",
       "      <th>0</th>\n",
       "      <td>37.0</td>\n",
       "      <td>2</td>\n",
       "      <td>1</td>\n",
       "      <td>1.0</td>\n",
       "      <td>68</td>\n",
       "      <td>0.0</td>\n",
       "      <td>376.0</td>\n",
       "      <td>11.0</td>\n",
       "      <td>2983.0</td>\n",
       "      <td>4713.0</td>\n",
       "      <td>...</td>\n",
       "      <td>0.0</td>\n",
       "      <td>1.0</td>\n",
       "      <td>0.0</td>\n",
       "      <td>0.0</td>\n",
       "      <td>0.0</td>\n",
       "      <td>0.0</td>\n",
       "      <td>0.0</td>\n",
       "      <td>0.0</td>\n",
       "      <td>22</td>\n",
       "      <td>8</td>\n",
       "    </tr>\n",
       "    <tr>\n",
       "      <th>1</th>\n",
       "      <td>38.0</td>\n",
       "      <td>24</td>\n",
       "      <td>1</td>\n",
       "      <td>0.0</td>\n",
       "      <td>51</td>\n",
       "      <td>0.0</td>\n",
       "      <td>397.0</td>\n",
       "      <td>12.0</td>\n",
       "      <td>7495.0</td>\n",
       "      <td>10352.0</td>\n",
       "      <td>...</td>\n",
       "      <td>0.0</td>\n",
       "      <td>1.0</td>\n",
       "      <td>0.0</td>\n",
       "      <td>0.0</td>\n",
       "      <td>0.0</td>\n",
       "      <td>0.0</td>\n",
       "      <td>0.0</td>\n",
       "      <td>0.0</td>\n",
       "      <td>27</td>\n",
       "      <td>3</td>\n",
       "    </tr>\n",
       "    <tr>\n",
       "      <th>2</th>\n",
       "      <td>9.0</td>\n",
       "      <td>447</td>\n",
       "      <td>1</td>\n",
       "      <td>0.0</td>\n",
       "      <td>10</td>\n",
       "      <td>0.0</td>\n",
       "      <td>250.0</td>\n",
       "      <td>9.0</td>\n",
       "      <td>5752.0</td>\n",
       "      <td>7309.0</td>\n",
       "      <td>...</td>\n",
       "      <td>0.0</td>\n",
       "      <td>0.0</td>\n",
       "      <td>0.0</td>\n",
       "      <td>0.0</td>\n",
       "      <td>0.0</td>\n",
       "      <td>0.0</td>\n",
       "      <td>0.0</td>\n",
       "      <td>0.0</td>\n",
       "      <td>18</td>\n",
       "      <td>8</td>\n",
       "    </tr>\n",
       "    <tr>\n",
       "      <th>3</th>\n",
       "      <td>50.0</td>\n",
       "      <td>23</td>\n",
       "      <td>1</td>\n",
       "      <td>2.0</td>\n",
       "      <td>48</td>\n",
       "      <td>0.0</td>\n",
       "      <td>144.0</td>\n",
       "      <td>13.0</td>\n",
       "      <td>5090.0</td>\n",
       "      <td>20814.0</td>\n",
       "      <td>...</td>\n",
       "      <td>1.0</td>\n",
       "      <td>0.0</td>\n",
       "      <td>0.0</td>\n",
       "      <td>0.0</td>\n",
       "      <td>0.0</td>\n",
       "      <td>0.0</td>\n",
       "      <td>0.0</td>\n",
       "      <td>0.0</td>\n",
       "      <td>28</td>\n",
       "      <td>3</td>\n",
       "    </tr>\n",
       "    <tr>\n",
       "      <th>4</th>\n",
       "      <td>7.0</td>\n",
       "      <td>63</td>\n",
       "      <td>1</td>\n",
       "      <td>1.0</td>\n",
       "      <td>35</td>\n",
       "      <td>1.0</td>\n",
       "      <td>211.0</td>\n",
       "      <td>4.0</td>\n",
       "      <td>2430.0</td>\n",
       "      <td>9261.0</td>\n",
       "      <td>...</td>\n",
       "      <td>0.0</td>\n",
       "      <td>0.0</td>\n",
       "      <td>0.0</td>\n",
       "      <td>0.0</td>\n",
       "      <td>0.0</td>\n",
       "      <td>0.0</td>\n",
       "      <td>1.0</td>\n",
       "      <td>0.0</td>\n",
       "      <td>29</td>\n",
       "      <td>3</td>\n",
       "    </tr>\n",
       "    <tr>\n",
       "      <th>...</th>\n",
       "      <td>...</td>\n",
       "      <td>...</td>\n",
       "      <td>...</td>\n",
       "      <td>...</td>\n",
       "      <td>...</td>\n",
       "      <td>...</td>\n",
       "      <td>...</td>\n",
       "      <td>...</td>\n",
       "      <td>...</td>\n",
       "      <td>...</td>\n",
       "      <td>...</td>\n",
       "      <td>...</td>\n",
       "      <td>...</td>\n",
       "      <td>...</td>\n",
       "      <td>...</td>\n",
       "      <td>...</td>\n",
       "      <td>...</td>\n",
       "      <td>...</td>\n",
       "      <td>...</td>\n",
       "      <td>...</td>\n",
       "      <td>...</td>\n",
       "    </tr>\n",
       "    <tr>\n",
       "      <th>6363</th>\n",
       "      <td>17.0</td>\n",
       "      <td>24</td>\n",
       "      <td>1</td>\n",
       "      <td>0.0</td>\n",
       "      <td>47</td>\n",
       "      <td>0.0</td>\n",
       "      <td>614.0</td>\n",
       "      <td>10.0</td>\n",
       "      <td>8174.0</td>\n",
       "      <td>11266.0</td>\n",
       "      <td>...</td>\n",
       "      <td>0.0</td>\n",
       "      <td>0.0</td>\n",
       "      <td>0.0</td>\n",
       "      <td>0.0</td>\n",
       "      <td>0.0</td>\n",
       "      <td>0.0</td>\n",
       "      <td>0.0</td>\n",
       "      <td>1.0</td>\n",
       "      <td>28</td>\n",
       "      <td>3</td>\n",
       "    </tr>\n",
       "    <tr>\n",
       "      <th>6364</th>\n",
       "      <td>21.0</td>\n",
       "      <td>55</td>\n",
       "      <td>1</td>\n",
       "      <td>0.0</td>\n",
       "      <td>35</td>\n",
       "      <td>0.0</td>\n",
       "      <td>269.0</td>\n",
       "      <td>5.0</td>\n",
       "      <td>3564.0</td>\n",
       "      <td>4920.0</td>\n",
       "      <td>...</td>\n",
       "      <td>0.0</td>\n",
       "      <td>0.0</td>\n",
       "      <td>0.0</td>\n",
       "      <td>0.0</td>\n",
       "      <td>0.0</td>\n",
       "      <td>0.0</td>\n",
       "      <td>0.0</td>\n",
       "      <td>0.0</td>\n",
       "      <td>2</td>\n",
       "      <td>11</td>\n",
       "    </tr>\n",
       "    <tr>\n",
       "      <th>6365</th>\n",
       "      <td>36.0</td>\n",
       "      <td>358</td>\n",
       "      <td>0</td>\n",
       "      <td>3.0</td>\n",
       "      <td>29</td>\n",
       "      <td>0.0</td>\n",
       "      <td>283.0</td>\n",
       "      <td>3.0</td>\n",
       "      <td>5303.0</td>\n",
       "      <td>14614.0</td>\n",
       "      <td>...</td>\n",
       "      <td>0.0</td>\n",
       "      <td>0.0</td>\n",
       "      <td>0.0</td>\n",
       "      <td>0.0</td>\n",
       "      <td>0.0</td>\n",
       "      <td>0.0</td>\n",
       "      <td>1.0</td>\n",
       "      <td>0.0</td>\n",
       "      <td>19</td>\n",
       "      <td>11</td>\n",
       "    </tr>\n",
       "    <tr>\n",
       "      <th>6366</th>\n",
       "      <td>27.0</td>\n",
       "      <td>452</td>\n",
       "      <td>1</td>\n",
       "      <td>0.0</td>\n",
       "      <td>8</td>\n",
       "      <td>0.0</td>\n",
       "      <td>267.0</td>\n",
       "      <td>3.0</td>\n",
       "      <td>4334.0</td>\n",
       "      <td>5849.0</td>\n",
       "      <td>...</td>\n",
       "      <td>0.0</td>\n",
       "      <td>0.0</td>\n",
       "      <td>0.0</td>\n",
       "      <td>0.0</td>\n",
       "      <td>0.0</td>\n",
       "      <td>0.0</td>\n",
       "      <td>1.0</td>\n",
       "      <td>0.0</td>\n",
       "      <td>12</td>\n",
       "      <td>8</td>\n",
       "    </tr>\n",
       "    <tr>\n",
       "      <th>6367</th>\n",
       "      <td>11.0</td>\n",
       "      <td>58</td>\n",
       "      <td>1</td>\n",
       "      <td>0.0</td>\n",
       "      <td>94</td>\n",
       "      <td>0.0</td>\n",
       "      <td>614.0</td>\n",
       "      <td>7.0</td>\n",
       "      <td>3975.0</td>\n",
       "      <td>5383.0</td>\n",
       "      <td>...</td>\n",
       "      <td>0.0</td>\n",
       "      <td>0.0</td>\n",
       "      <td>0.0</td>\n",
       "      <td>0.0</td>\n",
       "      <td>0.0</td>\n",
       "      <td>0.0</td>\n",
       "      <td>0.0</td>\n",
       "      <td>1.0</td>\n",
       "      <td>20</td>\n",
       "      <td>1</td>\n",
       "    </tr>\n",
       "  </tbody>\n",
       "</table>\n",
       "<p>6368 rows × 23 columns</p>\n",
       "</div>"
      ],
      "text/plain": [
       "      stall_no  market_category  loyalty_customer  grade  demand  \\\n",
       "0         37.0                2                 1    1.0      68   \n",
       "1         38.0               24                 1    0.0      51   \n",
       "2          9.0              447                 1    0.0      10   \n",
       "3         50.0               23                 1    2.0      48   \n",
       "4          7.0               63                 1    1.0      35   \n",
       "...        ...              ...               ...    ...     ...   \n",
       "6363      17.0               24                 1    0.0      47   \n",
       "6364      21.0               55                 1    0.0      35   \n",
       "6365      36.0              358                 0    3.0      29   \n",
       "6366      27.0              452                 1    0.0       8   \n",
       "6367      11.0               58                 1    0.0      94   \n",
       "\n",
       "      discount_avail  charges_1  charges_2  minimum_price  maximum_price  ...  \\\n",
       "0                0.0      376.0       11.0         2983.0         4713.0  ...   \n",
       "1                0.0      397.0       12.0         7495.0        10352.0  ...   \n",
       "2                0.0      250.0        9.0         5752.0         7309.0  ...   \n",
       "3                0.0      144.0       13.0         5090.0        20814.0  ...   \n",
       "4                1.0      211.0        4.0         2430.0         9261.0  ...   \n",
       "...              ...        ...        ...            ...            ...  ...   \n",
       "6363             0.0      614.0       10.0         8174.0        11266.0  ...   \n",
       "6364             0.0      269.0        5.0         3564.0         4920.0  ...   \n",
       "6365             0.0      283.0        3.0         5303.0        14614.0  ...   \n",
       "6366             0.0      267.0        3.0         4334.0         5849.0  ...   \n",
       "6367             0.0      614.0        7.0         3975.0         5383.0  ...   \n",
       "\n",
       "      prod_Educational  prod_Fashion  prod_Home_decor  prod_Hospitality  \\\n",
       "0                  0.0           1.0              0.0               0.0   \n",
       "1                  0.0           1.0              0.0               0.0   \n",
       "2                  0.0           0.0              0.0               0.0   \n",
       "3                  1.0           0.0              0.0               0.0   \n",
       "4                  0.0           0.0              0.0               0.0   \n",
       "...                ...           ...              ...               ...   \n",
       "6363               0.0           0.0              0.0               0.0   \n",
       "6364               0.0           0.0              0.0               0.0   \n",
       "6365               0.0           0.0              0.0               0.0   \n",
       "6366               0.0           0.0              0.0               0.0   \n",
       "6367               0.0           0.0              0.0               0.0   \n",
       "\n",
       "      prod_Organic  prod_Pet_care  prod_Repair  prod_Technology  day  month  \n",
       "0              0.0            0.0          0.0              0.0   22      8  \n",
       "1              0.0            0.0          0.0              0.0   27      3  \n",
       "2              0.0            0.0          0.0              0.0   18      8  \n",
       "3              0.0            0.0          0.0              0.0   28      3  \n",
       "4              0.0            0.0          1.0              0.0   29      3  \n",
       "...            ...            ...          ...              ...  ...    ...  \n",
       "6363           0.0            0.0          0.0              1.0   28      3  \n",
       "6364           0.0            0.0          0.0              0.0    2     11  \n",
       "6365           0.0            0.0          1.0              0.0   19     11  \n",
       "6366           0.0            0.0          1.0              0.0   12      8  \n",
       "6367           0.0            0.0          0.0              1.0   20      1  \n",
       "\n",
       "[6368 rows x 23 columns]"
      ]
     },
     "execution_count": 17,
     "metadata": {},
     "output_type": "execute_result"
    }
   ],
   "source": [
    "# Splitting the data into train and test\n",
    "df"
   ]
  },
  {
   "cell_type": "code",
   "execution_count": null,
   "metadata": {},
   "outputs": [],
   "source": []
  },
  {
   "cell_type": "code",
   "execution_count": 18,
   "metadata": {},
   "outputs": [],
   "source": [
    "y = df['selling_price']"
   ]
  },
  {
   "cell_type": "code",
   "execution_count": 19,
   "metadata": {},
   "outputs": [],
   "source": [
    "y = y.to_frame(name = 'selling_price')"
   ]
  },
  {
   "cell_type": "code",
   "execution_count": 20,
   "metadata": {},
   "outputs": [],
   "source": [
    "y.selling_price = y['selling_price'].abs()"
   ]
  },
  {
   "cell_type": "code",
   "execution_count": 21,
   "metadata": {},
   "outputs": [],
   "source": [
    "df.drop('selling_price', axis  = 1, inplace = True)"
   ]
  },
  {
   "cell_type": "code",
   "execution_count": 22,
   "metadata": {},
   "outputs": [],
   "source": [
    "x = df[:]"
   ]
  },
  {
   "cell_type": "code",
   "execution_count": 23,
   "metadata": {},
   "outputs": [
    {
     "data": {
      "text/html": [
       "<div>\n",
       "<style scoped>\n",
       "    .dataframe tbody tr th:only-of-type {\n",
       "        vertical-align: middle;\n",
       "    }\n",
       "\n",
       "    .dataframe tbody tr th {\n",
       "        vertical-align: top;\n",
       "    }\n",
       "\n",
       "    .dataframe thead th {\n",
       "        text-align: right;\n",
       "    }\n",
       "</style>\n",
       "<table border=\"1\" class=\"dataframe\">\n",
       "  <thead>\n",
       "    <tr style=\"text-align: right;\">\n",
       "      <th></th>\n",
       "      <th>stall_no</th>\n",
       "      <th>market_category</th>\n",
       "      <th>loyalty_customer</th>\n",
       "      <th>grade</th>\n",
       "      <th>demand</th>\n",
       "      <th>discount_avail</th>\n",
       "      <th>charges_1</th>\n",
       "      <th>charges_2</th>\n",
       "      <th>minimum_price</th>\n",
       "      <th>maximum_price</th>\n",
       "      <th>...</th>\n",
       "      <th>prod_Educational</th>\n",
       "      <th>prod_Fashion</th>\n",
       "      <th>prod_Home_decor</th>\n",
       "      <th>prod_Hospitality</th>\n",
       "      <th>prod_Organic</th>\n",
       "      <th>prod_Pet_care</th>\n",
       "      <th>prod_Repair</th>\n",
       "      <th>prod_Technology</th>\n",
       "      <th>day</th>\n",
       "      <th>month</th>\n",
       "    </tr>\n",
       "  </thead>\n",
       "  <tbody>\n",
       "    <tr>\n",
       "      <th>0</th>\n",
       "      <td>37.0</td>\n",
       "      <td>2</td>\n",
       "      <td>1</td>\n",
       "      <td>1.0</td>\n",
       "      <td>68</td>\n",
       "      <td>0.0</td>\n",
       "      <td>376.0</td>\n",
       "      <td>11.0</td>\n",
       "      <td>2983.0</td>\n",
       "      <td>4713.0</td>\n",
       "      <td>...</td>\n",
       "      <td>0.0</td>\n",
       "      <td>1.0</td>\n",
       "      <td>0.0</td>\n",
       "      <td>0.0</td>\n",
       "      <td>0.0</td>\n",
       "      <td>0.0</td>\n",
       "      <td>0.0</td>\n",
       "      <td>0.0</td>\n",
       "      <td>22</td>\n",
       "      <td>8</td>\n",
       "    </tr>\n",
       "    <tr>\n",
       "      <th>1</th>\n",
       "      <td>38.0</td>\n",
       "      <td>24</td>\n",
       "      <td>1</td>\n",
       "      <td>0.0</td>\n",
       "      <td>51</td>\n",
       "      <td>0.0</td>\n",
       "      <td>397.0</td>\n",
       "      <td>12.0</td>\n",
       "      <td>7495.0</td>\n",
       "      <td>10352.0</td>\n",
       "      <td>...</td>\n",
       "      <td>0.0</td>\n",
       "      <td>1.0</td>\n",
       "      <td>0.0</td>\n",
       "      <td>0.0</td>\n",
       "      <td>0.0</td>\n",
       "      <td>0.0</td>\n",
       "      <td>0.0</td>\n",
       "      <td>0.0</td>\n",
       "      <td>27</td>\n",
       "      <td>3</td>\n",
       "    </tr>\n",
       "    <tr>\n",
       "      <th>2</th>\n",
       "      <td>9.0</td>\n",
       "      <td>447</td>\n",
       "      <td>1</td>\n",
       "      <td>0.0</td>\n",
       "      <td>10</td>\n",
       "      <td>0.0</td>\n",
       "      <td>250.0</td>\n",
       "      <td>9.0</td>\n",
       "      <td>5752.0</td>\n",
       "      <td>7309.0</td>\n",
       "      <td>...</td>\n",
       "      <td>0.0</td>\n",
       "      <td>0.0</td>\n",
       "      <td>0.0</td>\n",
       "      <td>0.0</td>\n",
       "      <td>0.0</td>\n",
       "      <td>0.0</td>\n",
       "      <td>0.0</td>\n",
       "      <td>0.0</td>\n",
       "      <td>18</td>\n",
       "      <td>8</td>\n",
       "    </tr>\n",
       "    <tr>\n",
       "      <th>3</th>\n",
       "      <td>50.0</td>\n",
       "      <td>23</td>\n",
       "      <td>1</td>\n",
       "      <td>2.0</td>\n",
       "      <td>48</td>\n",
       "      <td>0.0</td>\n",
       "      <td>144.0</td>\n",
       "      <td>13.0</td>\n",
       "      <td>5090.0</td>\n",
       "      <td>20814.0</td>\n",
       "      <td>...</td>\n",
       "      <td>1.0</td>\n",
       "      <td>0.0</td>\n",
       "      <td>0.0</td>\n",
       "      <td>0.0</td>\n",
       "      <td>0.0</td>\n",
       "      <td>0.0</td>\n",
       "      <td>0.0</td>\n",
       "      <td>0.0</td>\n",
       "      <td>28</td>\n",
       "      <td>3</td>\n",
       "    </tr>\n",
       "    <tr>\n",
       "      <th>4</th>\n",
       "      <td>7.0</td>\n",
       "      <td>63</td>\n",
       "      <td>1</td>\n",
       "      <td>1.0</td>\n",
       "      <td>35</td>\n",
       "      <td>1.0</td>\n",
       "      <td>211.0</td>\n",
       "      <td>4.0</td>\n",
       "      <td>2430.0</td>\n",
       "      <td>9261.0</td>\n",
       "      <td>...</td>\n",
       "      <td>0.0</td>\n",
       "      <td>0.0</td>\n",
       "      <td>0.0</td>\n",
       "      <td>0.0</td>\n",
       "      <td>0.0</td>\n",
       "      <td>0.0</td>\n",
       "      <td>1.0</td>\n",
       "      <td>0.0</td>\n",
       "      <td>29</td>\n",
       "      <td>3</td>\n",
       "    </tr>\n",
       "    <tr>\n",
       "      <th>...</th>\n",
       "      <td>...</td>\n",
       "      <td>...</td>\n",
       "      <td>...</td>\n",
       "      <td>...</td>\n",
       "      <td>...</td>\n",
       "      <td>...</td>\n",
       "      <td>...</td>\n",
       "      <td>...</td>\n",
       "      <td>...</td>\n",
       "      <td>...</td>\n",
       "      <td>...</td>\n",
       "      <td>...</td>\n",
       "      <td>...</td>\n",
       "      <td>...</td>\n",
       "      <td>...</td>\n",
       "      <td>...</td>\n",
       "      <td>...</td>\n",
       "      <td>...</td>\n",
       "      <td>...</td>\n",
       "      <td>...</td>\n",
       "      <td>...</td>\n",
       "    </tr>\n",
       "    <tr>\n",
       "      <th>6363</th>\n",
       "      <td>17.0</td>\n",
       "      <td>24</td>\n",
       "      <td>1</td>\n",
       "      <td>0.0</td>\n",
       "      <td>47</td>\n",
       "      <td>0.0</td>\n",
       "      <td>614.0</td>\n",
       "      <td>10.0</td>\n",
       "      <td>8174.0</td>\n",
       "      <td>11266.0</td>\n",
       "      <td>...</td>\n",
       "      <td>0.0</td>\n",
       "      <td>0.0</td>\n",
       "      <td>0.0</td>\n",
       "      <td>0.0</td>\n",
       "      <td>0.0</td>\n",
       "      <td>0.0</td>\n",
       "      <td>0.0</td>\n",
       "      <td>1.0</td>\n",
       "      <td>28</td>\n",
       "      <td>3</td>\n",
       "    </tr>\n",
       "    <tr>\n",
       "      <th>6364</th>\n",
       "      <td>21.0</td>\n",
       "      <td>55</td>\n",
       "      <td>1</td>\n",
       "      <td>0.0</td>\n",
       "      <td>35</td>\n",
       "      <td>0.0</td>\n",
       "      <td>269.0</td>\n",
       "      <td>5.0</td>\n",
       "      <td>3564.0</td>\n",
       "      <td>4920.0</td>\n",
       "      <td>...</td>\n",
       "      <td>0.0</td>\n",
       "      <td>0.0</td>\n",
       "      <td>0.0</td>\n",
       "      <td>0.0</td>\n",
       "      <td>0.0</td>\n",
       "      <td>0.0</td>\n",
       "      <td>0.0</td>\n",
       "      <td>0.0</td>\n",
       "      <td>2</td>\n",
       "      <td>11</td>\n",
       "    </tr>\n",
       "    <tr>\n",
       "      <th>6365</th>\n",
       "      <td>36.0</td>\n",
       "      <td>358</td>\n",
       "      <td>0</td>\n",
       "      <td>3.0</td>\n",
       "      <td>29</td>\n",
       "      <td>0.0</td>\n",
       "      <td>283.0</td>\n",
       "      <td>3.0</td>\n",
       "      <td>5303.0</td>\n",
       "      <td>14614.0</td>\n",
       "      <td>...</td>\n",
       "      <td>0.0</td>\n",
       "      <td>0.0</td>\n",
       "      <td>0.0</td>\n",
       "      <td>0.0</td>\n",
       "      <td>0.0</td>\n",
       "      <td>0.0</td>\n",
       "      <td>1.0</td>\n",
       "      <td>0.0</td>\n",
       "      <td>19</td>\n",
       "      <td>11</td>\n",
       "    </tr>\n",
       "    <tr>\n",
       "      <th>6366</th>\n",
       "      <td>27.0</td>\n",
       "      <td>452</td>\n",
       "      <td>1</td>\n",
       "      <td>0.0</td>\n",
       "      <td>8</td>\n",
       "      <td>0.0</td>\n",
       "      <td>267.0</td>\n",
       "      <td>3.0</td>\n",
       "      <td>4334.0</td>\n",
       "      <td>5849.0</td>\n",
       "      <td>...</td>\n",
       "      <td>0.0</td>\n",
       "      <td>0.0</td>\n",
       "      <td>0.0</td>\n",
       "      <td>0.0</td>\n",
       "      <td>0.0</td>\n",
       "      <td>0.0</td>\n",
       "      <td>1.0</td>\n",
       "      <td>0.0</td>\n",
       "      <td>12</td>\n",
       "      <td>8</td>\n",
       "    </tr>\n",
       "    <tr>\n",
       "      <th>6367</th>\n",
       "      <td>11.0</td>\n",
       "      <td>58</td>\n",
       "      <td>1</td>\n",
       "      <td>0.0</td>\n",
       "      <td>94</td>\n",
       "      <td>0.0</td>\n",
       "      <td>614.0</td>\n",
       "      <td>7.0</td>\n",
       "      <td>3975.0</td>\n",
       "      <td>5383.0</td>\n",
       "      <td>...</td>\n",
       "      <td>0.0</td>\n",
       "      <td>0.0</td>\n",
       "      <td>0.0</td>\n",
       "      <td>0.0</td>\n",
       "      <td>0.0</td>\n",
       "      <td>0.0</td>\n",
       "      <td>0.0</td>\n",
       "      <td>1.0</td>\n",
       "      <td>20</td>\n",
       "      <td>1</td>\n",
       "    </tr>\n",
       "  </tbody>\n",
       "</table>\n",
       "<p>6368 rows × 22 columns</p>\n",
       "</div>"
      ],
      "text/plain": [
       "      stall_no  market_category  loyalty_customer  grade  demand  \\\n",
       "0         37.0                2                 1    1.0      68   \n",
       "1         38.0               24                 1    0.0      51   \n",
       "2          9.0              447                 1    0.0      10   \n",
       "3         50.0               23                 1    2.0      48   \n",
       "4          7.0               63                 1    1.0      35   \n",
       "...        ...              ...               ...    ...     ...   \n",
       "6363      17.0               24                 1    0.0      47   \n",
       "6364      21.0               55                 1    0.0      35   \n",
       "6365      36.0              358                 0    3.0      29   \n",
       "6366      27.0              452                 1    0.0       8   \n",
       "6367      11.0               58                 1    0.0      94   \n",
       "\n",
       "      discount_avail  charges_1  charges_2  minimum_price  maximum_price  ...  \\\n",
       "0                0.0      376.0       11.0         2983.0         4713.0  ...   \n",
       "1                0.0      397.0       12.0         7495.0        10352.0  ...   \n",
       "2                0.0      250.0        9.0         5752.0         7309.0  ...   \n",
       "3                0.0      144.0       13.0         5090.0        20814.0  ...   \n",
       "4                1.0      211.0        4.0         2430.0         9261.0  ...   \n",
       "...              ...        ...        ...            ...            ...  ...   \n",
       "6363             0.0      614.0       10.0         8174.0        11266.0  ...   \n",
       "6364             0.0      269.0        5.0         3564.0         4920.0  ...   \n",
       "6365             0.0      283.0        3.0         5303.0        14614.0  ...   \n",
       "6366             0.0      267.0        3.0         4334.0         5849.0  ...   \n",
       "6367             0.0      614.0        7.0         3975.0         5383.0  ...   \n",
       "\n",
       "      prod_Educational  prod_Fashion  prod_Home_decor  prod_Hospitality  \\\n",
       "0                  0.0           1.0              0.0               0.0   \n",
       "1                  0.0           1.0              0.0               0.0   \n",
       "2                  0.0           0.0              0.0               0.0   \n",
       "3                  1.0           0.0              0.0               0.0   \n",
       "4                  0.0           0.0              0.0               0.0   \n",
       "...                ...           ...              ...               ...   \n",
       "6363               0.0           0.0              0.0               0.0   \n",
       "6364               0.0           0.0              0.0               0.0   \n",
       "6365               0.0           0.0              0.0               0.0   \n",
       "6366               0.0           0.0              0.0               0.0   \n",
       "6367               0.0           0.0              0.0               0.0   \n",
       "\n",
       "      prod_Organic  prod_Pet_care  prod_Repair  prod_Technology  day  month  \n",
       "0              0.0            0.0          0.0              0.0   22      8  \n",
       "1              0.0            0.0          0.0              0.0   27      3  \n",
       "2              0.0            0.0          0.0              0.0   18      8  \n",
       "3              0.0            0.0          0.0              0.0   28      3  \n",
       "4              0.0            0.0          1.0              0.0   29      3  \n",
       "...            ...            ...          ...              ...  ...    ...  \n",
       "6363           0.0            0.0          0.0              1.0   28      3  \n",
       "6364           0.0            0.0          0.0              0.0    2     11  \n",
       "6365           0.0            0.0          1.0              0.0   19     11  \n",
       "6366           0.0            0.0          1.0              0.0   12      8  \n",
       "6367           0.0            0.0          0.0              1.0   20      1  \n",
       "\n",
       "[6368 rows x 22 columns]"
      ]
     },
     "execution_count": 23,
     "metadata": {},
     "output_type": "execute_result"
    }
   ],
   "source": [
    "x"
   ]
  },
  {
   "cell_type": "code",
   "execution_count": 24,
   "metadata": {},
   "outputs": [],
   "source": [
    "x_train, x_test, y_train, y_test = train_test_split(x, y, test_size = 0.2, random_state = 1)"
   ]
  },
  {
   "cell_type": "code",
   "execution_count": null,
   "metadata": {},
   "outputs": [],
   "source": []
  },
  {
   "cell_type": "code",
   "execution_count": 26,
   "metadata": {},
   "outputs": [
    {
     "data": {
      "text/plain": [
       "Index(['stall_no', 'market_category', 'loyalty_customer', 'grade', 'demand',\n",
       "       'discount_avail', 'charges_1', 'charges_2', 'minimum_price',\n",
       "       'maximum_price', 'prod_Child_care', 'prod_Cosmetics',\n",
       "       'prod_Educational', 'prod_Fashion', 'prod_Home_decor',\n",
       "       'prod_Hospitality', 'prod_Organic', 'prod_Pet_care', 'prod_Repair',\n",
       "       'prod_Technology', 'day', 'month'],\n",
       "      dtype='object')"
      ]
     },
     "execution_count": 26,
     "metadata": {},
     "output_type": "execute_result"
    }
   ],
   "source": [
    "x_train.columns"
   ]
  },
  {
   "cell_type": "code",
   "execution_count": 27,
   "metadata": {},
   "outputs": [
    {
     "data": {
      "text/plain": [
       "3"
      ]
     },
     "execution_count": 27,
     "metadata": {},
     "output_type": "execute_result"
    }
   ],
   "source": [
    "# Dealing with the missing values.\n",
    "\n",
    "x_train.stall_no.isnull().sum()"
   ]
  },
  {
   "cell_type": "code",
   "execution_count": 28,
   "metadata": {},
   "outputs": [
    {
     "data": {
      "text/plain": [
       "0"
      ]
     },
     "execution_count": 28,
     "metadata": {},
     "output_type": "execute_result"
    }
   ],
   "source": [
    "x_train.grade.isnull().sum()"
   ]
  },
  {
   "cell_type": "code",
   "execution_count": 29,
   "metadata": {},
   "outputs": [
    {
     "data": {
      "text/plain": [
       "0"
      ]
     },
     "execution_count": 29,
     "metadata": {},
     "output_type": "execute_result"
    }
   ],
   "source": [
    "x_train.market_category.isnull().sum()"
   ]
  },
  {
   "cell_type": "code",
   "execution_count": 30,
   "metadata": {},
   "outputs": [
    {
     "data": {
      "text/plain": [
       "0"
      ]
     },
     "execution_count": 30,
     "metadata": {},
     "output_type": "execute_result"
    }
   ],
   "source": [
    "x_train.loyalty_customer.isnull().sum()"
   ]
  },
  {
   "cell_type": "code",
   "execution_count": 31,
   "metadata": {},
   "outputs": [
    {
     "data": {
      "text/plain": [
       "0"
      ]
     },
     "execution_count": 31,
     "metadata": {},
     "output_type": "execute_result"
    }
   ],
   "source": [
    "x_train.demand.isnull().sum()"
   ]
  },
  {
   "cell_type": "code",
   "execution_count": 32,
   "metadata": {},
   "outputs": [
    {
     "data": {
      "text/plain": [
       "0"
      ]
     },
     "execution_count": 32,
     "metadata": {},
     "output_type": "execute_result"
    }
   ],
   "source": [
    "x_train.discount_avail.isnull().sum()"
   ]
  },
  {
   "cell_type": "code",
   "execution_count": 33,
   "metadata": {},
   "outputs": [
    {
     "data": {
      "text/plain": [
       "155"
      ]
     },
     "execution_count": 33,
     "metadata": {},
     "output_type": "execute_result"
    }
   ],
   "source": [
    "x_train.charges_1.isnull().sum()"
   ]
  },
  {
   "cell_type": "code",
   "execution_count": 34,
   "metadata": {},
   "outputs": [
    {
     "data": {
      "text/plain": [
       "161"
      ]
     },
     "execution_count": 34,
     "metadata": {},
     "output_type": "execute_result"
    }
   ],
   "source": [
    "x_train.charges_2.isnull().sum()"
   ]
  },
  {
   "cell_type": "code",
   "execution_count": 35,
   "metadata": {},
   "outputs": [
    {
     "data": {
      "text/plain": [
       "29"
      ]
     },
     "execution_count": 35,
     "metadata": {},
     "output_type": "execute_result"
    }
   ],
   "source": [
    "x_train.minimum_price.isnull().sum()"
   ]
  },
  {
   "cell_type": "code",
   "execution_count": 36,
   "metadata": {},
   "outputs": [
    {
     "data": {
      "text/plain": [
       "289"
      ]
     },
     "execution_count": 36,
     "metadata": {},
     "output_type": "execute_result"
    }
   ],
   "source": [
    "x_train.maximum_price.isnull().sum()"
   ]
  },
  {
   "cell_type": "code",
   "execution_count": 37,
   "metadata": {},
   "outputs": [
    {
     "data": {
      "text/plain": [
       "0"
      ]
     },
     "execution_count": 37,
     "metadata": {},
     "output_type": "execute_result"
    }
   ],
   "source": [
    "x_train.day.isnull().sum()"
   ]
  },
  {
   "cell_type": "code",
   "execution_count": 38,
   "metadata": {},
   "outputs": [
    {
     "data": {
      "text/plain": [
       "0"
      ]
     },
     "execution_count": 38,
     "metadata": {},
     "output_type": "execute_result"
    }
   ],
   "source": [
    "x_train.month.isnull().sum()"
   ]
  },
  {
   "cell_type": "code",
   "execution_count": 39,
   "metadata": {},
   "outputs": [
    {
     "data": {
      "image/png": "[encoded data removed]",
      "text/plain": [
       "<Figure size 864x432 with 1 Axes>"
      ]
     },
     "metadata": {
      "needs_background": "light"
     },
     "output_type": "display_data"
    }
   ],
   "source": [
    "plt.figure(figsize=(12,6))\n",
    "sns.distplot(x_train.charges_1, bins = 20, color = 'b', kde = True)\n",
    "plt.show()"
   ]
  },
  {
   "cell_type": "code",
   "execution_count": 40,
   "metadata": {},
   "outputs": [
    {
     "name": "stdout",
     "output_type": "stream",
     "text": [
      "264.51410048622364\n",
      "252.0\n"
     ]
    }
   ],
   "source": [
    "print(df.charges_1.mean())\n",
    "print(df.charges_1.median())"
   ]
  },
  {
   "cell_type": "code",
   "execution_count": 41,
   "metadata": {},
   "outputs": [
    {
     "data": {
      "image/png": "[encoded data removed]",
      "text/plain": [
       "<Figure size 864x432 with 1 Axes>"
      ]
     },
     "metadata": {
      "needs_background": "light"
     },
     "output_type": "display_data"
    }
   ],
   "source": [
    "plt.figure(figsize=(12,6))\n",
    "sns.distplot(x_train.charges_2, bins = 20, color = 'b', kde = True)\n",
    "plt.show()"
   ]
  },
  {
   "cell_type": "code",
   "execution_count": 42,
   "metadata": {},
   "outputs": [
    {
     "name": "stdout",
     "output_type": "stream",
     "text": [
      "10.187715386174741\n",
      "10.0\n"
     ]
    }
   ],
   "source": [
    "print(x_train.charges_2.mean())\n",
    "print(x_train.charges_2.median())"
   ]
  },
  {
   "cell_type": "code",
   "execution_count": null,
   "metadata": {
    "scrolled": true
   },
   "outputs": [],
   "source": []
  },
  {
   "cell_type": "code",
   "execution_count": 44,
   "metadata": {},
   "outputs": [
    {
     "data": {
      "image/png": "[encoded data removed]",
      "text/plain": [
       "<Figure size 864x432 with 1 Axes>"
      ]
     },
     "metadata": {
      "needs_background": "light"
     },
     "output_type": "display_data"
    }
   ],
   "source": [
    "plt.figure(figsize=(12,6))\n",
    "sns.distplot(x_train.minimum_price, bins = 20, color = 'b', kde = True)\n",
    "plt.show()"
   ]
  },
  {
   "cell_type": "code",
   "execution_count": 45,
   "metadata": {},
   "outputs": [
    {
     "name": "stdout",
     "output_type": "stream",
     "text": [
      "3512.7840078973345\n",
      "3144.0\n"
     ]
    }
   ],
   "source": [
    "print(x_train.minimum_price.mean())\n",
    "print(x_train.minimum_price.median())"
   ]
  },
  {
   "cell_type": "code",
   "execution_count": null,
   "metadata": {},
   "outputs": [],
   "source": []
  },
  {
   "cell_type": "code",
   "execution_count": 46,
   "metadata": {},
   "outputs": [
    {
     "data": {
      "image/png": "[encoded data removed]",
      "text/plain": [
       "<Figure size 864x432 with 1 Axes>"
      ]
     },
     "metadata": {
      "needs_background": "light"
     },
     "output_type": "display_data"
    }
   ],
   "source": [
    "plt.figure(figsize=(12,6))\n",
    "sns.distplot(x_train.maximum_price, bins = 20, color = 'b', kde = True)\n",
    "plt.show()"
   ]
  },
  {
   "cell_type": "code",
   "execution_count": 47,
   "metadata": {},
   "outputs": [
    {
     "name": "stdout",
     "output_type": "stream",
     "text": [
      "6416.4480749219565\n",
      "5618.0\n"
     ]
    }
   ],
   "source": [
    "print(x_train.maximum_price.mean())\n",
    "print(x_train.maximum_price.median())"
   ]
  },
  {
   "cell_type": "code",
   "execution_count": 48,
   "metadata": {},
   "outputs": [],
   "source": [
    "# disabling the warning\n",
    "\n",
    "pd.options.mode.chained_assignment = None"
   ]
  },
  {
   "cell_type": "code",
   "execution_count": 49,
   "metadata": {},
   "outputs": [],
   "source": [
    "# Imputing/ Dealing with the missing values\n",
    "\n",
    "x_train['stall_no'].fillna(value=0, inplace=True)"
   ]
  },
  {
   "cell_type": "code",
   "execution_count": 50,
   "metadata": {},
   "outputs": [],
   "source": [
    "x_train.charges_1.fillna(x_train.charges_1.mean(), inplace = True)"
   ]
  },
  {
   "cell_type": "code",
   "execution_count": 51,
   "metadata": {},
   "outputs": [],
   "source": [
    "x_train.charges_2.fillna(x_train.charges_2.median(), inplace = True)"
   ]
  },
  {
   "cell_type": "code",
   "execution_count": 52,
   "metadata": {},
   "outputs": [],
   "source": [
    "x_train.minimum_price.fillna(x_train.minimum_price.mean(), inplace=True)"
   ]
  },
  {
   "cell_type": "code",
   "execution_count": 53,
   "metadata": {},
   "outputs": [],
   "source": [
    "x_train.maximum_price.fillna(x_train.maximum_price.mean(), inplace=True)"
   ]
  },
  {
   "cell_type": "code",
   "execution_count": 54,
   "metadata": {},
   "outputs": [
    {
     "data": {
      "text/html": [
       "<div>\n",
       "<style scoped>\n",
       "    .dataframe tbody tr th:only-of-type {\n",
       "        vertical-align: middle;\n",
       "    }\n",
       "\n",
       "    .dataframe tbody tr th {\n",
       "        vertical-align: top;\n",
       "    }\n",
       "\n",
       "    .dataframe thead th {\n",
       "        text-align: right;\n",
       "    }\n",
       "</style>\n",
       "<table border=\"1\" class=\"dataframe\">\n",
       "  <thead>\n",
       "    <tr style=\"text-align: right;\">\n",
       "      <th></th>\n",
       "      <th>stall_no</th>\n",
       "      <th>market_category</th>\n",
       "      <th>loyalty_customer</th>\n",
       "      <th>grade</th>\n",
       "      <th>demand</th>\n",
       "      <th>discount_avail</th>\n",
       "      <th>charges_1</th>\n",
       "      <th>charges_2</th>\n",
       "      <th>minimum_price</th>\n",
       "      <th>maximum_price</th>\n",
       "      <th>...</th>\n",
       "      <th>prod_Educational</th>\n",
       "      <th>prod_Fashion</th>\n",
       "      <th>prod_Home_decor</th>\n",
       "      <th>prod_Hospitality</th>\n",
       "      <th>prod_Organic</th>\n",
       "      <th>prod_Pet_care</th>\n",
       "      <th>prod_Repair</th>\n",
       "      <th>prod_Technology</th>\n",
       "      <th>day</th>\n",
       "      <th>month</th>\n",
       "    </tr>\n",
       "  </thead>\n",
       "  <tbody>\n",
       "    <tr>\n",
       "      <th>575</th>\n",
       "      <td>2.0</td>\n",
       "      <td>23</td>\n",
       "      <td>1</td>\n",
       "      <td>2.0</td>\n",
       "      <td>21</td>\n",
       "      <td>0.0</td>\n",
       "      <td>337.000000</td>\n",
       "      <td>5.0</td>\n",
       "      <td>1211.0</td>\n",
       "      <td>3743.0</td>\n",
       "      <td>...</td>\n",
       "      <td>0.0</td>\n",
       "      <td>0.0</td>\n",
       "      <td>0.0</td>\n",
       "      <td>0.0</td>\n",
       "      <td>0.0</td>\n",
       "      <td>0.0</td>\n",
       "      <td>0.0</td>\n",
       "      <td>0.0</td>\n",
       "      <td>25</td>\n",
       "      <td>9</td>\n",
       "    </tr>\n",
       "    <tr>\n",
       "      <th>976</th>\n",
       "      <td>2.0</td>\n",
       "      <td>14</td>\n",
       "      <td>1</td>\n",
       "      <td>0.0</td>\n",
       "      <td>18</td>\n",
       "      <td>0.0</td>\n",
       "      <td>110.000000</td>\n",
       "      <td>7.0</td>\n",
       "      <td>3037.0</td>\n",
       "      <td>3944.0</td>\n",
       "      <td>...</td>\n",
       "      <td>0.0</td>\n",
       "      <td>0.0</td>\n",
       "      <td>0.0</td>\n",
       "      <td>0.0</td>\n",
       "      <td>1.0</td>\n",
       "      <td>0.0</td>\n",
       "      <td>0.0</td>\n",
       "      <td>0.0</td>\n",
       "      <td>22</td>\n",
       "      <td>9</td>\n",
       "    </tr>\n",
       "    <tr>\n",
       "      <th>639</th>\n",
       "      <td>29.0</td>\n",
       "      <td>437</td>\n",
       "      <td>1</td>\n",
       "      <td>0.0</td>\n",
       "      <td>88</td>\n",
       "      <td>0.0</td>\n",
       "      <td>132.000000</td>\n",
       "      <td>15.0</td>\n",
       "      <td>7994.0</td>\n",
       "      <td>11337.0</td>\n",
       "      <td>...</td>\n",
       "      <td>1.0</td>\n",
       "      <td>0.0</td>\n",
       "      <td>0.0</td>\n",
       "      <td>0.0</td>\n",
       "      <td>0.0</td>\n",
       "      <td>0.0</td>\n",
       "      <td>0.0</td>\n",
       "      <td>0.0</td>\n",
       "      <td>17</td>\n",
       "      <td>8</td>\n",
       "    </tr>\n",
       "    <tr>\n",
       "      <th>4475</th>\n",
       "      <td>2.0</td>\n",
       "      <td>350</td>\n",
       "      <td>0</td>\n",
       "      <td>3.0</td>\n",
       "      <td>92</td>\n",
       "      <td>0.0</td>\n",
       "      <td>152.000000</td>\n",
       "      <td>11.0</td>\n",
       "      <td>4998.0</td>\n",
       "      <td>8863.0</td>\n",
       "      <td>...</td>\n",
       "      <td>1.0</td>\n",
       "      <td>0.0</td>\n",
       "      <td>0.0</td>\n",
       "      <td>0.0</td>\n",
       "      <td>0.0</td>\n",
       "      <td>0.0</td>\n",
       "      <td>0.0</td>\n",
       "      <td>0.0</td>\n",
       "      <td>19</td>\n",
       "      <td>8</td>\n",
       "    </tr>\n",
       "    <tr>\n",
       "      <th>5162</th>\n",
       "      <td>46.0</td>\n",
       "      <td>24</td>\n",
       "      <td>0</td>\n",
       "      <td>0.0</td>\n",
       "      <td>48</td>\n",
       "      <td>0.0</td>\n",
       "      <td>265.422758</td>\n",
       "      <td>16.0</td>\n",
       "      <td>3540.0</td>\n",
       "      <td>4665.0</td>\n",
       "      <td>...</td>\n",
       "      <td>0.0</td>\n",
       "      <td>0.0</td>\n",
       "      <td>1.0</td>\n",
       "      <td>0.0</td>\n",
       "      <td>0.0</td>\n",
       "      <td>0.0</td>\n",
       "      <td>0.0</td>\n",
       "      <td>0.0</td>\n",
       "      <td>23</td>\n",
       "      <td>9</td>\n",
       "    </tr>\n",
       "    <tr>\n",
       "      <th>...</th>\n",
       "      <td>...</td>\n",
       "      <td>...</td>\n",
       "      <td>...</td>\n",
       "      <td>...</td>\n",
       "      <td>...</td>\n",
       "      <td>...</td>\n",
       "      <td>...</td>\n",
       "      <td>...</td>\n",
       "      <td>...</td>\n",
       "      <td>...</td>\n",
       "      <td>...</td>\n",
       "      <td>...</td>\n",
       "      <td>...</td>\n",
       "      <td>...</td>\n",
       "      <td>...</td>\n",
       "      <td>...</td>\n",
       "      <td>...</td>\n",
       "      <td>...</td>\n",
       "      <td>...</td>\n",
       "      <td>...</td>\n",
       "      <td>...</td>\n",
       "    </tr>\n",
       "    <tr>\n",
       "      <th>905</th>\n",
       "      <td>2.0</td>\n",
       "      <td>3</td>\n",
       "      <td>1</td>\n",
       "      <td>0.0</td>\n",
       "      <td>62</td>\n",
       "      <td>0.0</td>\n",
       "      <td>605.000000</td>\n",
       "      <td>11.0</td>\n",
       "      <td>1705.0</td>\n",
       "      <td>2885.0</td>\n",
       "      <td>...</td>\n",
       "      <td>0.0</td>\n",
       "      <td>0.0</td>\n",
       "      <td>0.0</td>\n",
       "      <td>0.0</td>\n",
       "      <td>0.0</td>\n",
       "      <td>0.0</td>\n",
       "      <td>0.0</td>\n",
       "      <td>1.0</td>\n",
       "      <td>24</td>\n",
       "      <td>9</td>\n",
       "    </tr>\n",
       "    <tr>\n",
       "      <th>5192</th>\n",
       "      <td>14.0</td>\n",
       "      <td>63</td>\n",
       "      <td>1</td>\n",
       "      <td>1.0</td>\n",
       "      <td>93</td>\n",
       "      <td>0.0</td>\n",
       "      <td>363.000000</td>\n",
       "      <td>17.0</td>\n",
       "      <td>5845.0</td>\n",
       "      <td>14320.0</td>\n",
       "      <td>...</td>\n",
       "      <td>0.0</td>\n",
       "      <td>1.0</td>\n",
       "      <td>0.0</td>\n",
       "      <td>0.0</td>\n",
       "      <td>0.0</td>\n",
       "      <td>0.0</td>\n",
       "      <td>0.0</td>\n",
       "      <td>0.0</td>\n",
       "      <td>27</td>\n",
       "      <td>3</td>\n",
       "    </tr>\n",
       "    <tr>\n",
       "      <th>3980</th>\n",
       "      <td>21.0</td>\n",
       "      <td>403</td>\n",
       "      <td>0</td>\n",
       "      <td>0.0</td>\n",
       "      <td>27</td>\n",
       "      <td>1.0</td>\n",
       "      <td>162.000000</td>\n",
       "      <td>8.0</td>\n",
       "      <td>1980.0</td>\n",
       "      <td>3115.0</td>\n",
       "      <td>...</td>\n",
       "      <td>1.0</td>\n",
       "      <td>0.0</td>\n",
       "      <td>0.0</td>\n",
       "      <td>0.0</td>\n",
       "      <td>0.0</td>\n",
       "      <td>0.0</td>\n",
       "      <td>0.0</td>\n",
       "      <td>0.0</td>\n",
       "      <td>22</td>\n",
       "      <td>9</td>\n",
       "    </tr>\n",
       "    <tr>\n",
       "      <th>235</th>\n",
       "      <td>20.0</td>\n",
       "      <td>452</td>\n",
       "      <td>0</td>\n",
       "      <td>0.0</td>\n",
       "      <td>17</td>\n",
       "      <td>0.0</td>\n",
       "      <td>369.000000</td>\n",
       "      <td>15.0</td>\n",
       "      <td>3222.0</td>\n",
       "      <td>4601.0</td>\n",
       "      <td>...</td>\n",
       "      <td>0.0</td>\n",
       "      <td>1.0</td>\n",
       "      <td>0.0</td>\n",
       "      <td>0.0</td>\n",
       "      <td>0.0</td>\n",
       "      <td>0.0</td>\n",
       "      <td>0.0</td>\n",
       "      <td>0.0</td>\n",
       "      <td>26</td>\n",
       "      <td>9</td>\n",
       "    </tr>\n",
       "    <tr>\n",
       "      <th>5157</th>\n",
       "      <td>18.0</td>\n",
       "      <td>58</td>\n",
       "      <td>1</td>\n",
       "      <td>1.0</td>\n",
       "      <td>61</td>\n",
       "      <td>0.0</td>\n",
       "      <td>105.000000</td>\n",
       "      <td>10.0</td>\n",
       "      <td>3077.0</td>\n",
       "      <td>4021.0</td>\n",
       "      <td>...</td>\n",
       "      <td>0.0</td>\n",
       "      <td>0.0</td>\n",
       "      <td>0.0</td>\n",
       "      <td>0.0</td>\n",
       "      <td>1.0</td>\n",
       "      <td>0.0</td>\n",
       "      <td>0.0</td>\n",
       "      <td>0.0</td>\n",
       "      <td>25</td>\n",
       "      <td>9</td>\n",
       "    </tr>\n",
       "  </tbody>\n",
       "</table>\n",
       "<p>5094 rows × 22 columns</p>\n",
       "</div>"
      ],
      "text/plain": [
       "      stall_no  market_category  loyalty_customer  grade  demand  \\\n",
       "575        2.0               23                 1    2.0      21   \n",
       "976        2.0               14                 1    0.0      18   \n",
       "639       29.0              437                 1    0.0      88   \n",
       "4475       2.0              350                 0    3.0      92   \n",
       "5162      46.0               24                 0    0.0      48   \n",
       "...        ...              ...               ...    ...     ...   \n",
       "905        2.0                3                 1    0.0      62   \n",
       "5192      14.0               63                 1    1.0      93   \n",
       "3980      21.0              403                 0    0.0      27   \n",
       "235       20.0              452                 0    0.0      17   \n",
       "5157      18.0               58                 1    1.0      61   \n",
       "\n",
       "      discount_avail   charges_1  charges_2  minimum_price  maximum_price  \\\n",
       "575              0.0  337.000000        5.0         1211.0         3743.0   \n",
       "976              0.0  110.000000        7.0         3037.0         3944.0   \n",
       "639              0.0  132.000000       15.0         7994.0        11337.0   \n",
       "4475             0.0  152.000000       11.0         4998.0         8863.0   \n",
       "5162             0.0  265.422758       16.0         3540.0         4665.0   \n",
       "...              ...         ...        ...            ...            ...   \n",
       "905              0.0  605.000000       11.0         1705.0         2885.0   \n",
       "5192             0.0  363.000000       17.0         5845.0        14320.0   \n",
       "3980             1.0  162.000000        8.0         1980.0         3115.0   \n",
       "235              0.0  369.000000       15.0         3222.0         4601.0   \n",
       "5157             0.0  105.000000       10.0         3077.0         4021.0   \n",
       "\n",
       "      ...  prod_Educational  prod_Fashion  prod_Home_decor  prod_Hospitality  \\\n",
       "575   ...               0.0           0.0              0.0               0.0   \n",
       "976   ...               0.0           0.0              0.0               0.0   \n",
       "639   ...               1.0           0.0              0.0               0.0   \n",
       "4475  ...               1.0           0.0              0.0               0.0   \n",
       "5162  ...               0.0           0.0              1.0               0.0   \n",
       "...   ...               ...           ...              ...               ...   \n",
       "905   ...               0.0           0.0              0.0               0.0   \n",
       "5192  ...               0.0           1.0              0.0               0.0   \n",
       "3980  ...               1.0           0.0              0.0               0.0   \n",
       "235   ...               0.0           1.0              0.0               0.0   \n",
       "5157  ...               0.0           0.0              0.0               0.0   \n",
       "\n",
       "      prod_Organic  prod_Pet_care  prod_Repair  prod_Technology  day  month  \n",
       "575            0.0            0.0          0.0              0.0   25      9  \n",
       "976            1.0            0.0          0.0              0.0   22      9  \n",
       "639            0.0            0.0          0.0              0.0   17      8  \n",
       "4475           0.0            0.0          0.0              0.0   19      8  \n",
       "5162           0.0            0.0          0.0              0.0   23      9  \n",
       "...            ...            ...          ...              ...  ...    ...  \n",
       "905            0.0            0.0          0.0              1.0   24      9  \n",
       "5192           0.0            0.0          0.0              0.0   27      3  \n",
       "3980           0.0            0.0          0.0              0.0   22      9  \n",
       "235            0.0            0.0          0.0              0.0   26      9  \n",
       "5157           1.0            0.0          0.0              0.0   25      9  \n",
       "\n",
       "[5094 rows x 22 columns]"
      ]
     },
     "execution_count": 54,
     "metadata": {},
     "output_type": "execute_result"
    }
   ],
   "source": [
    "x_train"
   ]
  },
  {
   "cell_type": "code",
   "execution_count": 55,
   "metadata": {},
   "outputs": [
    {
     "data": {
      "image/png": "[encoded data removed]",
      "text/plain": [
       "<Figure size 864x432 with 1 Axes>"
      ]
     },
     "metadata": {
      "needs_background": "light"
     },
     "output_type": "display_data"
    }
   ],
   "source": [
    "plt.figure(figsize=(12,6))\n",
    "sns.distplot(x_train.maximum_price, bins = 20, color = 'b', kde = True)\n",
    "plt.show()"
   ]
  },
  {
   "cell_type": "code",
   "execution_count": 56,
   "metadata": {},
   "outputs": [
    {
     "data": {
      "image/png": "[encoded data removed]",
      "text/plain": [
       "<Figure size 864x432 with 1 Axes>"
      ]
     },
     "metadata": {
      "needs_background": "light"
     },
     "output_type": "display_data"
    }
   ],
   "source": [
    "plt.figure(figsize=(12,6))\n",
    "sns.distplot(x_train.minimum_price, bins = 20, color = 'b', kde = True)\n",
    "plt.show()"
   ]
  },
  {
   "cell_type": "code",
   "execution_count": 57,
   "metadata": {},
   "outputs": [],
   "source": [
    "x_train['average_price'] = (x_train['minimum_price'] + x_train['maximum_price'])/2"
   ]
  },
  {
   "cell_type": "code",
   "execution_count": 58,
   "metadata": {},
   "outputs": [],
   "source": [
    "x_train['price_diff'] = (x_train['maximum_price'] - x_train['minimum_price'])"
   ]
  },
  {
   "cell_type": "code",
   "execution_count": 59,
   "metadata": {},
   "outputs": [],
   "source": [
    "x_train.price_diff = x_train.price_diff.abs()"
   ]
  },
  {
   "cell_type": "code",
   "execution_count": 60,
   "metadata": {},
   "outputs": [],
   "source": [
    "x_train['price_ratio'] = x_train['maximum_price']/x_train['minimum_price']"
   ]
  },
  {
   "cell_type": "code",
   "execution_count": null,
   "metadata": {},
   "outputs": [],
   "source": []
  },
  {
   "cell_type": "code",
   "execution_count": 61,
   "metadata": {},
   "outputs": [],
   "source": [
    "x_train.drop(['minimum_price', 'maximum_price'], axis = True, inplace = True)"
   ]
  },
  {
   "cell_type": "code",
   "execution_count": 62,
   "metadata": {},
   "outputs": [
    {
     "data": {
      "text/plain": [
       "<matplotlib.axes._subplots.AxesSubplot at 0x1cc451ef370>"
      ]
     },
     "execution_count": 62,
     "metadata": {},
     "output_type": "execute_result"
    },
    {
     "data": {
      "image/png": "[encoded data removed]",
      "text/plain": [
       "<Figure size 432x288 with 1 Axes>"
      ]
     },
     "metadata": {
      "needs_background": "light"
     },
     "output_type": "display_data"
    }
   ],
   "source": [
    "sns.boxplot(x_train.average_price)"
   ]
  },
  {
   "cell_type": "code",
   "execution_count": 63,
   "metadata": {},
   "outputs": [
    {
     "data": {
      "image/png": "[encoded data removed]",
      "text/plain": [
       "<Figure size 864x432 with 1 Axes>"
      ]
     },
     "metadata": {
      "needs_background": "light"
     },
     "output_type": "display_data"
    }
   ],
   "source": [
    "plt.figure(figsize=(12,6))\n",
    "sns.distplot(x_train.average_price, bins = 20, color = 'b', kde = True)\n",
    "plt.show()"
   ]
  },
  {
   "cell_type": "code",
   "execution_count": 64,
   "metadata": {},
   "outputs": [
    {
     "data": {
      "image/png": "[encoded data removed]",
      "text/plain": [
       "<Figure size 864x432 with 1 Axes>"
      ]
     },
     "metadata": {
      "needs_background": "light"
     },
     "output_type": "display_data"
    }
   ],
   "source": [
    "plt.figure(figsize=(12,6))\n",
    "sns.distplot(x_train.price_diff, bins = 20, color = 'b', kde = True)\n",
    "plt.show()"
   ]
  },
  {
   "cell_type": "code",
   "execution_count": 65,
   "metadata": {},
   "outputs": [
    {
     "data": {
      "image/png": "[encoded data removed]",
      "text/plain": [
       "<Figure size 864x432 with 1 Axes>"
      ]
     },
     "metadata": {
      "needs_background": "light"
     },
     "output_type": "display_data"
    }
   ],
   "source": [
    "plt.figure(figsize=(12,6))\n",
    "sns.distplot(x_train.price_ratio, bins = 20, color = 'b', kde = True)\n",
    "plt.show()"
   ]
  },
  {
   "cell_type": "code",
   "execution_count": 66,
   "metadata": {},
   "outputs": [],
   "source": [
    "power = PowerTransformer(method = 'box-cox', standardize=True)"
   ]
  },
  {
   "cell_type": "code",
   "execution_count": 67,
   "metadata": {},
   "outputs": [],
   "source": [
    "x_train.average_price = power.fit_transform(x_train.average_price.values.reshape(-1,1))"
   ]
  },
  {
   "cell_type": "code",
   "execution_count": 68,
   "metadata": {},
   "outputs": [],
   "source": [
    "x_train.price_diff = power.fit_transform(x_train.price_diff.values.reshape(-1,1))"
   ]
  },
  {
   "cell_type": "code",
   "execution_count": 69,
   "metadata": {},
   "outputs": [
    {
     "data": {
      "image/png": "[encoded data removed]",
      "text/plain": [
       "<Figure size 864x432 with 1 Axes>"
      ]
     },
     "metadata": {
      "needs_background": "light"
     },
     "output_type": "display_data"
    }
   ],
   "source": [
    "plt.figure(figsize=(12,6))\n",
    "sns.distplot(x_train.average_price, bins = 20, color = 'b', kde = True)\n",
    "plt.show()"
   ]
  },
  {
   "cell_type": "code",
   "execution_count": 70,
   "metadata": {},
   "outputs": [
    {
     "data": {
      "image/png": "[encoded data removed]",
      "text/plain": [
       "<Figure size 864x432 with 1 Axes>"
      ]
     },
     "metadata": {
      "needs_background": "light"
     },
     "output_type": "display_data"
    }
   ],
   "source": [
    "plt.figure(figsize=(12,6))\n",
    "sns.distplot(x_train.price_diff, bins = 20, color = 'b', kde = True)\n",
    "plt.show()"
   ]
  },
  {
   "cell_type": "code",
   "execution_count": 71,
   "metadata": {},
   "outputs": [],
   "source": [
    "x_train.average_price = x_train.average_price.apply(lambda x : np.round(x,2))"
   ]
  },
  {
   "cell_type": "code",
   "execution_count": 72,
   "metadata": {},
   "outputs": [],
   "source": [
    "x_train.charges_1 = x_train.charges_1.apply(lambda x : np.round(x,2))"
   ]
  },
  {
   "cell_type": "code",
   "execution_count": 73,
   "metadata": {},
   "outputs": [
    {
     "data": {
      "text/plain": [
       "575    -0.98\n",
       "976    -0.45\n",
       "639     1.58\n",
       "4475    0.83\n",
       "5162   -0.17\n",
       "        ... \n",
       "905    -1.09\n",
       "5192    1.68\n",
       "3980   -0.94\n",
       "235    -0.25\n",
       "5157   -0.42\n",
       "Name: average_price, Length: 5094, dtype: float64"
      ]
     },
     "execution_count": 73,
     "metadata": {},
     "output_type": "execute_result"
    }
   ],
   "source": [
    "x_train.average_price"
   ]
  },
  {
   "cell_type": "code",
   "execution_count": 74,
   "metadata": {},
   "outputs": [
    {
     "data": {
      "text/plain": [
       "575     337.00\n",
       "976     110.00\n",
       "639     132.00\n",
       "4475    152.00\n",
       "5162    265.42\n",
       "         ...  \n",
       "905     605.00\n",
       "5192    363.00\n",
       "3980    162.00\n",
       "235     369.00\n",
       "5157    105.00\n",
       "Name: charges_1, Length: 5094, dtype: float64"
      ]
     },
     "execution_count": 74,
     "metadata": {},
     "output_type": "execute_result"
    }
   ],
   "source": [
    "x_train.charges_1"
   ]
  },
  {
   "cell_type": "code",
   "execution_count": 75,
   "metadata": {},
   "outputs": [
    {
     "data": {
      "text/plain": [
       "Index(['stall_no', 'market_category', 'loyalty_customer', 'grade', 'demand',\n",
       "       'discount_avail', 'charges_1', 'charges_2', 'prod_Child_care',\n",
       "       'prod_Cosmetics', 'prod_Educational', 'prod_Fashion', 'prod_Home_decor',\n",
       "       'prod_Hospitality', 'prod_Organic', 'prod_Pet_care', 'prod_Repair',\n",
       "       'prod_Technology', 'day', 'month', 'average_price', 'price_diff',\n",
       "       'price_ratio'],\n",
       "      dtype='object')"
      ]
     },
     "execution_count": 75,
     "metadata": {},
     "output_type": "execute_result"
    }
   ],
   "source": [
    "x_train.columns"
   ]
  },
  {
   "cell_type": "code",
   "execution_count": 76,
   "metadata": {},
   "outputs": [
    {
     "data": {
      "text/plain": [
       "<matplotlib.axes._subplots.AxesSubplot at 0x1cc44f7d0d0>"
      ]
     },
     "execution_count": 76,
     "metadata": {},
     "output_type": "execute_result"
    },
    {
     "data": {
      "image/png": "[encoded data removed]",
      "text/plain": [
       "<Figure size 432x288 with 1 Axes>"
      ]
     },
     "metadata": {
      "needs_background": "light"
     },
     "output_type": "display_data"
    }
   ],
   "source": [
    "sns.boxplot(x_train.charges_1)"
   ]
  },
  {
   "cell_type": "code",
   "execution_count": 77,
   "metadata": {},
   "outputs": [
    {
     "data": {
      "text/plain": [
       "<matplotlib.axes._subplots.AxesSubplot at 0x1cc44e6d8e0>"
      ]
     },
     "execution_count": 77,
     "metadata": {},
     "output_type": "execute_result"
    },
    {
     "data": {
      "image/png": "[encoded data removed]",
      "text/plain": [
       "<Figure size 432x288 with 1 Axes>"
      ]
     },
     "metadata": {
      "needs_background": "light"
     },
     "output_type": "display_data"
    }
   ],
   "source": [
    "sns.boxplot(x_train.grade)"
   ]
  },
  {
   "cell_type": "code",
   "execution_count": 78,
   "metadata": {},
   "outputs": [
    {
     "data": {
      "text/plain": [
       "37"
      ]
     },
     "execution_count": 78,
     "metadata": {},
     "output_type": "execute_result"
    }
   ],
   "source": [
    "y_train.selling_price.isnull().sum()"
   ]
  },
  {
   "cell_type": "code",
   "execution_count": 79,
   "metadata": {},
   "outputs": [
    {
     "data": {
      "text/plain": [
       "575      2808.201900\n",
       "976      3602.579706\n",
       "639      9670.707200\n",
       "4475     6988.022272\n",
       "5162     4323.213216\n",
       "            ...     \n",
       "905      2873.494800\n",
       "5192    10311.977980\n",
       "3980      405.714173\n",
       "235      4285.941363\n",
       "5157     3620.271600\n",
       "Name: selling_price, Length: 5094, dtype: float64"
      ]
     },
     "execution_count": 79,
     "metadata": {},
     "output_type": "execute_result"
    }
   ],
   "source": [
    "y_train.selling_price"
   ]
  },
  {
   "cell_type": "code",
   "execution_count": 80,
   "metadata": {},
   "outputs": [
    {
     "name": "stdout",
     "output_type": "stream",
     "text": [
      "4580.406478458154\n"
     ]
    },
    {
     "data": {
      "text/plain": [
       "4215.972992"
      ]
     },
     "execution_count": 80,
     "metadata": {},
     "output_type": "execute_result"
    }
   ],
   "source": [
    "print(y.selling_price.mean())\n",
    "y.selling_price.median()"
   ]
  },
  {
   "cell_type": "code",
   "execution_count": 81,
   "metadata": {},
   "outputs": [
    {
     "data": {
      "image/png": "[encoded data removed]",
      "text/plain": [
       "<Figure size 864x432 with 1 Axes>"
      ]
     },
     "metadata": {
      "needs_background": "light"
     },
     "output_type": "display_data"
    }
   ],
   "source": [
    "plt.figure(figsize=(12,6))\n",
    "sns.distplot(y_train.selling_price, bins = 20, color = 'b', kde = True)\n",
    "plt.show()"
   ]
  },
  {
   "cell_type": "code",
   "execution_count": 82,
   "metadata": {},
   "outputs": [
    {
     "data": {
      "image/png": "[encoded data removed]",
      "text/plain": [
       "<Figure size 864x432 with 1 Axes>"
      ]
     },
     "metadata": {
      "needs_background": "light"
     },
     "output_type": "display_data"
    }
   ],
   "source": [
    "plt.figure(figsize=(12,6))\n",
    "sns.distplot(y_train.selling_price, bins = 20, color = 'b', kde = True)\n",
    "plt.show()"
   ]
  },
  {
   "cell_type": "code",
   "execution_count": 83,
   "metadata": {},
   "outputs": [
    {
     "data": {
      "text/plain": [
       "41"
      ]
     },
     "execution_count": 83,
     "metadata": {},
     "output_type": "execute_result"
    }
   ],
   "source": [
    "y.selling_price.isna().sum()"
   ]
  },
  {
   "cell_type": "code",
   "execution_count": 84,
   "metadata": {},
   "outputs": [
    {
     "data": {
      "text/plain": [
       "0        4185.947700\n",
       "1        9271.490256\n",
       "2        6785.701362\n",
       "3       13028.917820\n",
       "4         906.553935\n",
       "            ...     \n",
       "6363    10277.520190\n",
       "6364     4501.837200\n",
       "6365    10218.878780\n",
       "6366     5359.493997\n",
       "6367     5220.013568\n",
       "Name: selling_price, Length: 6368, dtype: float64"
      ]
     },
     "execution_count": 84,
     "metadata": {},
     "output_type": "execute_result"
    }
   ],
   "source": [
    "y.selling_price"
   ]
  },
  {
   "cell_type": "code",
   "execution_count": null,
   "metadata": {},
   "outputs": [],
   "source": []
  },
  {
   "cell_type": "code",
   "execution_count": null,
   "metadata": {},
   "outputs": [],
   "source": []
  },
  {
   "cell_type": "code",
   "execution_count": 85,
   "metadata": {},
   "outputs": [],
   "source": [
    "# Imputing values in target feature\n",
    "\n",
    "y_train['selling_price'].fillna(y_train.selling_price.median(), inplace = True)"
   ]
  },
  {
   "cell_type": "code",
   "execution_count": null,
   "metadata": {},
   "outputs": [],
   "source": []
  },
  {
   "cell_type": "code",
   "execution_count": 86,
   "metadata": {},
   "outputs": [
    {
     "data": {
      "image/png": "[encoded data removed]",
      "text/plain": [
       "<Figure size 432x288 with 1 Axes>"
      ]
     },
     "metadata": {
      "needs_background": "light"
     },
     "output_type": "display_data"
    }
   ],
   "source": [
    "# Feature Selection\n",
    "# Filter Methods\n",
    "\n",
    "importance = mutual_info_regression(x_train, y_train.values.ravel())\n",
    "feature_importances = pd.Series(importance, x_train.columns[0:])\n",
    "feature_importances.plot(kind = 'barh', color = 'teal')\n",
    "plt.show()\n"
   ]
  },
  {
   "cell_type": "code",
   "execution_count": null,
   "metadata": {},
   "outputs": [],
   "source": []
  },
  {
   "cell_type": "code",
   "execution_count": 87,
   "metadata": {},
   "outputs": [],
   "source": [
    "# Wrapper Methods\n",
    "\n",
    "\n",
    "rfr = RandomForestRegressor()\n",
    "sfs = SequentialFeatureSelector(rfr, k_features='best', forward=False, n_jobs=-1)\n",
    "#sfs.fit(x_train, y_train.values.ravel())\n",
    "#features = list(sfs.k_feature_names_)"
   ]
  },
  {
   "cell_type": "code",
   "execution_count": null,
   "metadata": {},
   "outputs": [],
   "source": []
  },
  {
   "cell_type": "code",
   "execution_count": null,
   "metadata": {},
   "outputs": [],
   "source": [
    "# Exhaustive feature selection\n",
    "\n",
    "#efs = ExhaustiveFeatureSelector(RandomForestRegressor(), min_features=4, max_features=8, cv=2, scoring='neg_mean_squared_error')\n",
    "#efs = efs.fit(x_train, y_train.values.ravel())\n",
    "#features_efs = list(efs.best_idx_)\n",
    "#score_efs = efs.best_score_"
   ]
  },
  {
   "cell_type": "code",
   "execution_count": null,
   "metadata": {},
   "outputs": [],
   "source": [
    "#print(features_efs)\n",
    "#print(score_efs)"
   ]
  },
  {
   "cell_type": "code",
   "execution_count": null,
   "metadata": {},
   "outputs": [],
   "source": []
  },
  {
   "cell_type": "code",
   "execution_count": null,
   "metadata": {},
   "outputs": [],
   "source": [
    "# Recursive Feature Elimination\n",
    "\n",
    "rfe = RFE(RandomForestRegressor(random_state=1, n_jobs=-1), n_features_to_select= 5, step = 20, verbose = 5)\n",
    "rfe.fit(x_train, y_train.values.ravel())\n",
    "\n",
    "support = rfe.get_support()\n",
    "rfe_feature = x_train.loc[:, support].columns.to_list()\n",
    "print(rfe_feature)"
   ]
  },
  {
   "cell_type": "code",
   "execution_count": null,
   "metadata": {},
   "outputs": [],
   "source": []
  },
  {
   "cell_type": "code",
   "execution_count": null,
   "metadata": {},
   "outputs": [],
   "source": [
    "# Embedded method\n",
    "\n",
    "rfr = RandomForestRegressor(random_state=1, n_jobs=-1).fit(x_train, y_train.values.ravel())\n",
    "\n",
    "model = SelectFromModel(rfr, prefit = True, threshold=0.002, )\n",
    "\n",
    "\n",
    "\n",
    "x_new = model.transform(x_train)\n",
    "\n",
    "supportem = model.get_support()\n",
    "em_feature = x_train.loc[:, supportem].columns.to_list()"
   ]
  },
  {
   "cell_type": "code",
   "execution_count": null,
   "metadata": {},
   "outputs": [],
   "source": [
    "print(em_feature)"
   ]
  },
  {
   "cell_type": "code",
   "execution_count": null,
   "metadata": {},
   "outputs": [],
   "source": [
    "# Sequential Feature Selector with Random Forest Regressor\n",
    "\n",
    "['stall_no',\n",
    " 'grade',\n",
    " 'demand',\n",
    " 'discount_avail',\n",
    " 'charges_1',\n",
    " 'charges_2',\n",
    " 'prod_Child_care',\n",
    " 'prod_Cosmetics',\n",
    " 'prod_Educational',\n",
    " 'prod_Home_decor',\n",
    " 'day',\n",
    " 'month',\n",
    " 'average_price']\n",
    "\n",
    "\n",
    "# RFE wrapper method\n",
    "\n",
    "['stall_no', 'demand', 'discount_avail', 'charges_1', 'average_price']\n",
    "\n",
    "#Embedded method\n",
    "\n",
    "['stall_no',\n",
    " 'market_category',\n",
    " 'demand',\n",
    " 'discount_avail',\n",
    " 'charges_1',\n",
    " 'charges_2',\n",
    " 'average_price']\n",
    "\n",
    "# top 4 embedded \n",
    "['stall_no', 'discount_avail', 'charges_1', 'average_price']\n"
   ]
  },
  {
   "cell_type": "code",
   "execution_count": null,
   "metadata": {},
   "outputs": [],
   "source": []
  },
  {
   "cell_type": "code",
   "execution_count": 89,
   "metadata": {},
   "outputs": [],
   "source": [
    "x_train_final = x_train[['discount_avail' ,'average_price' ,'price_diff','price_ratio' ]]"
   ]
  },
  {
   "cell_type": "code",
   "execution_count": 90,
   "metadata": {},
   "outputs": [
    {
     "data": {
      "text/plain": [
       "0"
      ]
     },
     "execution_count": 90,
     "metadata": {},
     "output_type": "execute_result"
    }
   ],
   "source": [
    "x_train_final.price_diff.isnull().sum()"
   ]
  },
  {
   "cell_type": "code",
   "execution_count": null,
   "metadata": {},
   "outputs": [],
   "source": []
  },
  {
   "cell_type": "markdown",
   "metadata": {},
   "source": [
    "# Preparing Test data"
   ]
  },
  {
   "cell_type": "code",
   "execution_count": 91,
   "metadata": {},
   "outputs": [
    {
     "data": {
      "text/plain": [
       "Index(['stall_no', 'market_category', 'loyalty_customer', 'grade', 'demand',\n",
       "       'discount_avail', 'charges_1', 'charges_2', 'minimum_price',\n",
       "       'maximum_price', 'prod_Child_care', 'prod_Cosmetics',\n",
       "       'prod_Educational', 'prod_Fashion', 'prod_Home_decor',\n",
       "       'prod_Hospitality', 'prod_Organic', 'prod_Pet_care', 'prod_Repair',\n",
       "       'prod_Technology', 'day', 'month'],\n",
       "      dtype='object')"
      ]
     },
     "execution_count": 91,
     "metadata": {},
     "output_type": "execute_result"
    }
   ],
   "source": [
    "# performing same steps with the test data\n",
    "\n",
    "x_test.columns"
   ]
  },
  {
   "cell_type": "code",
   "execution_count": 92,
   "metadata": {},
   "outputs": [
    {
     "data": {
      "text/plain": [
       "2"
      ]
     },
     "execution_count": 92,
     "metadata": {},
     "output_type": "execute_result"
    }
   ],
   "source": [
    "x_test.stall_no.isnull().sum()"
   ]
  },
  {
   "cell_type": "code",
   "execution_count": 93,
   "metadata": {},
   "outputs": [
    {
     "data": {
      "text/plain": [
       "0"
      ]
     },
     "execution_count": 93,
     "metadata": {},
     "output_type": "execute_result"
    }
   ],
   "source": [
    "x_test.market_category.isnull().sum()"
   ]
  },
  {
   "cell_type": "code",
   "execution_count": 94,
   "metadata": {},
   "outputs": [
    {
     "data": {
      "text/plain": [
       "0"
      ]
     },
     "execution_count": 94,
     "metadata": {},
     "output_type": "execute_result"
    }
   ],
   "source": [
    "x_test.loyalty_customer.isnull().sum()"
   ]
  },
  {
   "cell_type": "code",
   "execution_count": 95,
   "metadata": {},
   "outputs": [
    {
     "data": {
      "text/plain": [
       "0"
      ]
     },
     "execution_count": 95,
     "metadata": {},
     "output_type": "execute_result"
    }
   ],
   "source": [
    "x_test.grade.isnull().sum()"
   ]
  },
  {
   "cell_type": "code",
   "execution_count": 96,
   "metadata": {},
   "outputs": [
    {
     "data": {
      "text/plain": [
       "0"
      ]
     },
     "execution_count": 96,
     "metadata": {},
     "output_type": "execute_result"
    }
   ],
   "source": [
    "x_test.demand.isnull().sum()"
   ]
  },
  {
   "cell_type": "code",
   "execution_count": 97,
   "metadata": {},
   "outputs": [
    {
     "data": {
      "text/plain": [
       "0"
      ]
     },
     "execution_count": 97,
     "metadata": {},
     "output_type": "execute_result"
    }
   ],
   "source": [
    "x_test.discount_avail.isnull().sum()"
   ]
  },
  {
   "cell_type": "code",
   "execution_count": 98,
   "metadata": {},
   "outputs": [
    {
     "data": {
      "text/plain": [
       "43"
      ]
     },
     "execution_count": 98,
     "metadata": {},
     "output_type": "execute_result"
    }
   ],
   "source": [
    "x_test.charges_1.isnull().sum()"
   ]
  },
  {
   "cell_type": "code",
   "execution_count": 99,
   "metadata": {},
   "outputs": [
    {
     "data": {
      "text/plain": [
       "44"
      ]
     },
     "execution_count": 99,
     "metadata": {},
     "output_type": "execute_result"
    }
   ],
   "source": [
    "x_test.charges_2.isnull().sum()"
   ]
  },
  {
   "cell_type": "code",
   "execution_count": 100,
   "metadata": {},
   "outputs": [
    {
     "data": {
      "text/plain": [
       "9"
      ]
     },
     "execution_count": 100,
     "metadata": {},
     "output_type": "execute_result"
    }
   ],
   "source": [
    "x_test.minimum_price.isnull().sum()"
   ]
  },
  {
   "cell_type": "code",
   "execution_count": 101,
   "metadata": {},
   "outputs": [
    {
     "data": {
      "text/plain": [
       "54"
      ]
     },
     "execution_count": 101,
     "metadata": {},
     "output_type": "execute_result"
    }
   ],
   "source": [
    "x_test.maximum_price.isnull().sum()"
   ]
  },
  {
   "cell_type": "code",
   "execution_count": 102,
   "metadata": {},
   "outputs": [],
   "source": [
    "# Stall_no\n",
    "\n",
    "x_test.stall_no.fillna(value=0, inplace=True)"
   ]
  },
  {
   "cell_type": "code",
   "execution_count": 103,
   "metadata": {},
   "outputs": [],
   "source": [
    "x_test.loyalty_customer = x_test.loyalty_customer.astype(float)"
   ]
  },
  {
   "cell_type": "code",
   "execution_count": 104,
   "metadata": {},
   "outputs": [
    {
     "data": {
      "text/html": [
       "<div>\n",
       "<style scoped>\n",
       "    .dataframe tbody tr th:only-of-type {\n",
       "        vertical-align: middle;\n",
       "    }\n",
       "\n",
       "    .dataframe tbody tr th {\n",
       "        vertical-align: top;\n",
       "    }\n",
       "\n",
       "    .dataframe thead th {\n",
       "        text-align: right;\n",
       "    }\n",
       "</style>\n",
       "<table border=\"1\" class=\"dataframe\">\n",
       "  <thead>\n",
       "    <tr style=\"text-align: right;\">\n",
       "      <th></th>\n",
       "      <th>stall_no</th>\n",
       "      <th>market_category</th>\n",
       "      <th>loyalty_customer</th>\n",
       "      <th>grade</th>\n",
       "      <th>demand</th>\n",
       "      <th>discount_avail</th>\n",
       "      <th>charges_1</th>\n",
       "      <th>charges_2</th>\n",
       "      <th>minimum_price</th>\n",
       "      <th>maximum_price</th>\n",
       "      <th>...</th>\n",
       "      <th>prod_Educational</th>\n",
       "      <th>prod_Fashion</th>\n",
       "      <th>prod_Home_decor</th>\n",
       "      <th>prod_Hospitality</th>\n",
       "      <th>prod_Organic</th>\n",
       "      <th>prod_Pet_care</th>\n",
       "      <th>prod_Repair</th>\n",
       "      <th>prod_Technology</th>\n",
       "      <th>day</th>\n",
       "      <th>month</th>\n",
       "    </tr>\n",
       "  </thead>\n",
       "  <tbody>\n",
       "    <tr>\n",
       "      <th>3432</th>\n",
       "      <td>14.0</td>\n",
       "      <td>452</td>\n",
       "      <td>1.0</td>\n",
       "      <td>0.0</td>\n",
       "      <td>26</td>\n",
       "      <td>0.0</td>\n",
       "      <td>489.0</td>\n",
       "      <td>7.0</td>\n",
       "      <td>3221.0</td>\n",
       "      <td>4372.0</td>\n",
       "      <td>...</td>\n",
       "      <td>0.0</td>\n",
       "      <td>0.0</td>\n",
       "      <td>0.0</td>\n",
       "      <td>0.0</td>\n",
       "      <td>0.0</td>\n",
       "      <td>0.0</td>\n",
       "      <td>0.0</td>\n",
       "      <td>1.0</td>\n",
       "      <td>26</td>\n",
       "      <td>9</td>\n",
       "    </tr>\n",
       "    <tr>\n",
       "      <th>5386</th>\n",
       "      <td>15.0</td>\n",
       "      <td>358</td>\n",
       "      <td>1.0</td>\n",
       "      <td>3.0</td>\n",
       "      <td>80</td>\n",
       "      <td>0.0</td>\n",
       "      <td>271.0</td>\n",
       "      <td>13.0</td>\n",
       "      <td>4585.0</td>\n",
       "      <td>NaN</td>\n",
       "      <td>...</td>\n",
       "      <td>0.0</td>\n",
       "      <td>0.0</td>\n",
       "      <td>0.0</td>\n",
       "      <td>0.0</td>\n",
       "      <td>0.0</td>\n",
       "      <td>0.0</td>\n",
       "      <td>0.0</td>\n",
       "      <td>0.0</td>\n",
       "      <td>5</td>\n",
       "      <td>9</td>\n",
       "    </tr>\n",
       "    <tr>\n",
       "      <th>1686</th>\n",
       "      <td>36.0</td>\n",
       "      <td>55</td>\n",
       "      <td>1.0</td>\n",
       "      <td>0.0</td>\n",
       "      <td>48</td>\n",
       "      <td>0.0</td>\n",
       "      <td>159.0</td>\n",
       "      <td>9.0</td>\n",
       "      <td>911.0</td>\n",
       "      <td>2239.0</td>\n",
       "      <td>...</td>\n",
       "      <td>1.0</td>\n",
       "      <td>0.0</td>\n",
       "      <td>0.0</td>\n",
       "      <td>0.0</td>\n",
       "      <td>0.0</td>\n",
       "      <td>0.0</td>\n",
       "      <td>0.0</td>\n",
       "      <td>0.0</td>\n",
       "      <td>20</td>\n",
       "      <td>8</td>\n",
       "    </tr>\n",
       "    <tr>\n",
       "      <th>1576</th>\n",
       "      <td>44.0</td>\n",
       "      <td>108</td>\n",
       "      <td>0.0</td>\n",
       "      <td>0.0</td>\n",
       "      <td>6</td>\n",
       "      <td>0.0</td>\n",
       "      <td>183.0</td>\n",
       "      <td>1.0</td>\n",
       "      <td>1685.0</td>\n",
       "      <td>3362.0</td>\n",
       "      <td>...</td>\n",
       "      <td>0.0</td>\n",
       "      <td>0.0</td>\n",
       "      <td>0.0</td>\n",
       "      <td>0.0</td>\n",
       "      <td>0.0</td>\n",
       "      <td>1.0</td>\n",
       "      <td>0.0</td>\n",
       "      <td>0.0</td>\n",
       "      <td>12</td>\n",
       "      <td>7</td>\n",
       "    </tr>\n",
       "    <tr>\n",
       "      <th>4510</th>\n",
       "      <td>48.0</td>\n",
       "      <td>14</td>\n",
       "      <td>1.0</td>\n",
       "      <td>0.0</td>\n",
       "      <td>81</td>\n",
       "      <td>0.0</td>\n",
       "      <td>273.0</td>\n",
       "      <td>6.0</td>\n",
       "      <td>3373.0</td>\n",
       "      <td>4505.0</td>\n",
       "      <td>...</td>\n",
       "      <td>0.0</td>\n",
       "      <td>0.0</td>\n",
       "      <td>0.0</td>\n",
       "      <td>1.0</td>\n",
       "      <td>0.0</td>\n",
       "      <td>0.0</td>\n",
       "      <td>0.0</td>\n",
       "      <td>0.0</td>\n",
       "      <td>18</td>\n",
       "      <td>2</td>\n",
       "    </tr>\n",
       "    <tr>\n",
       "      <th>...</th>\n",
       "      <td>...</td>\n",
       "      <td>...</td>\n",
       "      <td>...</td>\n",
       "      <td>...</td>\n",
       "      <td>...</td>\n",
       "      <td>...</td>\n",
       "      <td>...</td>\n",
       "      <td>...</td>\n",
       "      <td>...</td>\n",
       "      <td>...</td>\n",
       "      <td>...</td>\n",
       "      <td>...</td>\n",
       "      <td>...</td>\n",
       "      <td>...</td>\n",
       "      <td>...</td>\n",
       "      <td>...</td>\n",
       "      <td>...</td>\n",
       "      <td>...</td>\n",
       "      <td>...</td>\n",
       "      <td>...</td>\n",
       "      <td>...</td>\n",
       "    </tr>\n",
       "    <tr>\n",
       "      <th>5724</th>\n",
       "      <td>25.0</td>\n",
       "      <td>162</td>\n",
       "      <td>1.0</td>\n",
       "      <td>1.0</td>\n",
       "      <td>94</td>\n",
       "      <td>1.0</td>\n",
       "      <td>104.0</td>\n",
       "      <td>10.0</td>\n",
       "      <td>3807.0</td>\n",
       "      <td>5966.0</td>\n",
       "      <td>...</td>\n",
       "      <td>1.0</td>\n",
       "      <td>0.0</td>\n",
       "      <td>0.0</td>\n",
       "      <td>0.0</td>\n",
       "      <td>0.0</td>\n",
       "      <td>0.0</td>\n",
       "      <td>0.0</td>\n",
       "      <td>0.0</td>\n",
       "      <td>12</td>\n",
       "      <td>8</td>\n",
       "    </tr>\n",
       "    <tr>\n",
       "      <th>6201</th>\n",
       "      <td>49.0</td>\n",
       "      <td>101</td>\n",
       "      <td>0.0</td>\n",
       "      <td>0.0</td>\n",
       "      <td>9</td>\n",
       "      <td>0.0</td>\n",
       "      <td>647.0</td>\n",
       "      <td>5.0</td>\n",
       "      <td>1169.0</td>\n",
       "      <td>1867.0</td>\n",
       "      <td>...</td>\n",
       "      <td>0.0</td>\n",
       "      <td>0.0</td>\n",
       "      <td>0.0</td>\n",
       "      <td>0.0</td>\n",
       "      <td>0.0</td>\n",
       "      <td>0.0</td>\n",
       "      <td>0.0</td>\n",
       "      <td>1.0</td>\n",
       "      <td>17</td>\n",
       "      <td>1</td>\n",
       "    </tr>\n",
       "    <tr>\n",
       "      <th>4750</th>\n",
       "      <td>34.0</td>\n",
       "      <td>443</td>\n",
       "      <td>0.0</td>\n",
       "      <td>0.0</td>\n",
       "      <td>100</td>\n",
       "      <td>0.0</td>\n",
       "      <td>242.0</td>\n",
       "      <td>6.0</td>\n",
       "      <td>2861.0</td>\n",
       "      <td>5070.0</td>\n",
       "      <td>...</td>\n",
       "      <td>0.0</td>\n",
       "      <td>0.0</td>\n",
       "      <td>0.0</td>\n",
       "      <td>0.0</td>\n",
       "      <td>0.0</td>\n",
       "      <td>0.0</td>\n",
       "      <td>1.0</td>\n",
       "      <td>0.0</td>\n",
       "      <td>21</td>\n",
       "      <td>9</td>\n",
       "    </tr>\n",
       "    <tr>\n",
       "      <th>3830</th>\n",
       "      <td>2.0</td>\n",
       "      <td>283</td>\n",
       "      <td>1.0</td>\n",
       "      <td>0.0</td>\n",
       "      <td>39</td>\n",
       "      <td>0.0</td>\n",
       "      <td>141.0</td>\n",
       "      <td>10.0</td>\n",
       "      <td>4614.0</td>\n",
       "      <td>9396.0</td>\n",
       "      <td>...</td>\n",
       "      <td>1.0</td>\n",
       "      <td>0.0</td>\n",
       "      <td>0.0</td>\n",
       "      <td>0.0</td>\n",
       "      <td>0.0</td>\n",
       "      <td>0.0</td>\n",
       "      <td>0.0</td>\n",
       "      <td>0.0</td>\n",
       "      <td>26</td>\n",
       "      <td>7</td>\n",
       "    </tr>\n",
       "    <tr>\n",
       "      <th>616</th>\n",
       "      <td>40.0</td>\n",
       "      <td>152</td>\n",
       "      <td>1.0</td>\n",
       "      <td>0.0</td>\n",
       "      <td>24</td>\n",
       "      <td>0.0</td>\n",
       "      <td>268.0</td>\n",
       "      <td>5.0</td>\n",
       "      <td>8759.0</td>\n",
       "      <td>11027.0</td>\n",
       "      <td>...</td>\n",
       "      <td>0.0</td>\n",
       "      <td>0.0</td>\n",
       "      <td>0.0</td>\n",
       "      <td>1.0</td>\n",
       "      <td>0.0</td>\n",
       "      <td>0.0</td>\n",
       "      <td>0.0</td>\n",
       "      <td>0.0</td>\n",
       "      <td>19</td>\n",
       "      <td>11</td>\n",
       "    </tr>\n",
       "  </tbody>\n",
       "</table>\n",
       "<p>1274 rows × 22 columns</p>\n",
       "</div>"
      ],
      "text/plain": [
       "      stall_no  market_category  loyalty_customer  grade  demand  \\\n",
       "3432      14.0              452               1.0    0.0      26   \n",
       "5386      15.0              358               1.0    3.0      80   \n",
       "1686      36.0               55               1.0    0.0      48   \n",
       "1576      44.0              108               0.0    0.0       6   \n",
       "4510      48.0               14               1.0    0.0      81   \n",
       "...        ...              ...               ...    ...     ...   \n",
       "5724      25.0              162               1.0    1.0      94   \n",
       "6201      49.0              101               0.0    0.0       9   \n",
       "4750      34.0              443               0.0    0.0     100   \n",
       "3830       2.0              283               1.0    0.0      39   \n",
       "616       40.0              152               1.0    0.0      24   \n",
       "\n",
       "      discount_avail  charges_1  charges_2  minimum_price  maximum_price  ...  \\\n",
       "3432             0.0      489.0        7.0         3221.0         4372.0  ...   \n",
       "5386             0.0      271.0       13.0         4585.0            NaN  ...   \n",
       "1686             0.0      159.0        9.0          911.0         2239.0  ...   \n",
       "1576             0.0      183.0        1.0         1685.0         3362.0  ...   \n",
       "4510             0.0      273.0        6.0         3373.0         4505.0  ...   \n",
       "...              ...        ...        ...            ...            ...  ...   \n",
       "5724             1.0      104.0       10.0         3807.0         5966.0  ...   \n",
       "6201             0.0      647.0        5.0         1169.0         1867.0  ...   \n",
       "4750             0.0      242.0        6.0         2861.0         5070.0  ...   \n",
       "3830             0.0      141.0       10.0         4614.0         9396.0  ...   \n",
       "616              0.0      268.0        5.0         8759.0        11027.0  ...   \n",
       "\n",
       "      prod_Educational  prod_Fashion  prod_Home_decor  prod_Hospitality  \\\n",
       "3432               0.0           0.0              0.0               0.0   \n",
       "5386               0.0           0.0              0.0               0.0   \n",
       "1686               1.0           0.0              0.0               0.0   \n",
       "1576               0.0           0.0              0.0               0.0   \n",
       "4510               0.0           0.0              0.0               1.0   \n",
       "...                ...           ...              ...               ...   \n",
       "5724               1.0           0.0              0.0               0.0   \n",
       "6201               0.0           0.0              0.0               0.0   \n",
       "4750               0.0           0.0              0.0               0.0   \n",
       "3830               1.0           0.0              0.0               0.0   \n",
       "616                0.0           0.0              0.0               1.0   \n",
       "\n",
       "      prod_Organic  prod_Pet_care  prod_Repair  prod_Technology  day  month  \n",
       "3432           0.0            0.0          0.0              1.0   26      9  \n",
       "5386           0.0            0.0          0.0              0.0    5      9  \n",
       "1686           0.0            0.0          0.0              0.0   20      8  \n",
       "1576           0.0            1.0          0.0              0.0   12      7  \n",
       "4510           0.0            0.0          0.0              0.0   18      2  \n",
       "...            ...            ...          ...              ...  ...    ...  \n",
       "5724           0.0            0.0          0.0              0.0   12      8  \n",
       "6201           0.0            0.0          0.0              1.0   17      1  \n",
       "4750           0.0            0.0          1.0              0.0   21      9  \n",
       "3830           0.0            0.0          0.0              0.0   26      7  \n",
       "616            0.0            0.0          0.0              0.0   19     11  \n",
       "\n",
       "[1274 rows x 22 columns]"
      ]
     },
     "execution_count": 104,
     "metadata": {},
     "output_type": "execute_result"
    }
   ],
   "source": [
    "x_test"
   ]
  },
  {
   "cell_type": "code",
   "execution_count": 105,
   "metadata": {},
   "outputs": [
    {
     "data": {
      "image/png": "[encoded data removed]",
      "text/plain": [
       "<Figure size 864x432 with 1 Axes>"
      ]
     },
     "metadata": {
      "needs_background": "light"
     },
     "output_type": "display_data"
    }
   ],
   "source": [
    "plt.figure(figsize=(12,6))\n",
    "sns.distplot(x_test.charges_1, bins = 20, kde = True, color = 'g')\n",
    "plt.show()"
   ]
  },
  {
   "cell_type": "code",
   "execution_count": 106,
   "metadata": {},
   "outputs": [
    {
     "name": "stdout",
     "output_type": "stream",
     "text": [
      "260.8683996750609\n"
     ]
    },
    {
     "data": {
      "text/plain": [
       "252.0"
      ]
     },
     "execution_count": 106,
     "metadata": {},
     "output_type": "execute_result"
    }
   ],
   "source": [
    "print(x_test.charges_1.mean())\n",
    "x_test.charges_1.median()"
   ]
  },
  {
   "cell_type": "code",
   "execution_count": null,
   "metadata": {},
   "outputs": [],
   "source": []
  },
  {
   "cell_type": "code",
   "execution_count": 107,
   "metadata": {},
   "outputs": [
    {
     "data": {
      "image/png": "[encoded data removed]",
      "text/plain": [
       "<Figure size 864x432 with 1 Axes>"
      ]
     },
     "metadata": {
      "needs_background": "light"
     },
     "output_type": "display_data"
    }
   ],
   "source": [
    "plt.figure(figsize=(12,6))\n",
    "sns.distplot(x_test.charges_2, bins = 20, kde = True, color = 'g')\n",
    "plt.show()"
   ]
  },
  {
   "cell_type": "code",
   "execution_count": 108,
   "metadata": {},
   "outputs": [
    {
     "name": "stdout",
     "output_type": "stream",
     "text": [
      "10.0\n"
     ]
    },
    {
     "data": {
      "text/plain": [
       "9.979674796747968"
      ]
     },
     "execution_count": 108,
     "metadata": {},
     "output_type": "execute_result"
    }
   ],
   "source": [
    "print(x_test.charges_2.median())\n",
    "x_test.charges_2.mean()"
   ]
  },
  {
   "cell_type": "code",
   "execution_count": null,
   "metadata": {},
   "outputs": [],
   "source": []
  },
  {
   "cell_type": "code",
   "execution_count": 109,
   "metadata": {},
   "outputs": [
    {
     "data": {
      "image/png": "[encoded data removed]",
      "text/plain": [
       "<Figure size 864x432 with 1 Axes>"
      ]
     },
     "metadata": {
      "needs_background": "light"
     },
     "output_type": "display_data"
    }
   ],
   "source": [
    "plt.figure(figsize=(12,6))\n",
    "sns.distplot(x_test.minimum_price, bins = 20, kde = True, color = 'g')\n",
    "plt.show()"
   ]
  },
  {
   "cell_type": "code",
   "execution_count": 110,
   "metadata": {},
   "outputs": [
    {
     "name": "stdout",
     "output_type": "stream",
     "text": [
      "3221.0\n"
     ]
    },
    {
     "data": {
      "text/plain": [
       "3605.6861660079053"
      ]
     },
     "execution_count": 110,
     "metadata": {},
     "output_type": "execute_result"
    }
   ],
   "source": [
    "print(x_test.minimum_price.median())\n",
    "x_test.minimum_price.mean()"
   ]
  },
  {
   "cell_type": "code",
   "execution_count": null,
   "metadata": {},
   "outputs": [],
   "source": []
  },
  {
   "cell_type": "code",
   "execution_count": 111,
   "metadata": {},
   "outputs": [
    {
     "data": {
      "image/png": "[encoded data removed]",
      "text/plain": [
       "<Figure size 864x432 with 1 Axes>"
      ]
     },
     "metadata": {
      "needs_background": "light"
     },
     "output_type": "display_data"
    }
   ],
   "source": [
    "plt.figure(figsize=(12,6))\n",
    "sns.distplot(x_test.maximum_price, bins = 20, kde = True, color = 'g')\n",
    "plt.show()"
   ]
  },
  {
   "cell_type": "code",
   "execution_count": 112,
   "metadata": {},
   "outputs": [
    {
     "name": "stdout",
     "output_type": "stream",
     "text": [
      "6495.947540983607\n"
     ]
    },
    {
     "data": {
      "text/plain": [
       "5712.0"
      ]
     },
     "execution_count": 112,
     "metadata": {},
     "output_type": "execute_result"
    }
   ],
   "source": [
    "print(x_test.maximum_price.mean())\n",
    "x_test.maximum_price.median()"
   ]
  },
  {
   "cell_type": "code",
   "execution_count": 113,
   "metadata": {},
   "outputs": [],
   "source": [
    "# Imputing the missing values"
   ]
  },
  {
   "cell_type": "code",
   "execution_count": 114,
   "metadata": {},
   "outputs": [],
   "source": [
    "x_test.charges_1.fillna(value=x_test.charges_1.mean(), inplace=True)"
   ]
  },
  {
   "cell_type": "code",
   "execution_count": 115,
   "metadata": {},
   "outputs": [],
   "source": [
    "x_test.charges_2.fillna(value=x_test.charges_2.median(), inplace=True)"
   ]
  },
  {
   "cell_type": "code",
   "execution_count": 116,
   "metadata": {},
   "outputs": [],
   "source": [
    "x_test.minimum_price.fillna(value=x_test.minimum_price.mean(), inplace=True)"
   ]
  },
  {
   "cell_type": "code",
   "execution_count": 117,
   "metadata": {},
   "outputs": [],
   "source": [
    "x_test.maximum_price.fillna(value=x_test.maximum_price.mean(), inplace=True)"
   ]
  },
  {
   "cell_type": "code",
   "execution_count": null,
   "metadata": {},
   "outputs": [],
   "source": []
  },
  {
   "cell_type": "code",
   "execution_count": 118,
   "metadata": {},
   "outputs": [],
   "source": [
    "# Creating new feature average_price\n",
    "\n",
    "x_test['average_price'] = (x_test['minimum_price'] + x_test['maximum_price'])/2"
   ]
  },
  {
   "cell_type": "code",
   "execution_count": 119,
   "metadata": {},
   "outputs": [],
   "source": [
    "x_test['price_diff'] = (x_test['maximum_price'] - x_test['minimum_price'])"
   ]
  },
  {
   "cell_type": "code",
   "execution_count": 120,
   "metadata": {},
   "outputs": [],
   "source": [
    "x_test['price_ratio'] = (x_test['maximum_price']/x_test['minimum_price'])"
   ]
  },
  {
   "cell_type": "code",
   "execution_count": 121,
   "metadata": {},
   "outputs": [
    {
     "data": {
      "image/png": "[encoded data removed]",
      "text/plain": [
       "<Figure size 864x432 with 1 Axes>"
      ]
     },
     "metadata": {
      "needs_background": "light"
     },
     "output_type": "display_data"
    }
   ],
   "source": [
    "plt.figure(figsize=(12,6))\n",
    "sns.distplot(x_test.average_price, bins = 20, kde = True, color = 'g')\n",
    "plt.show()"
   ]
  },
  {
   "cell_type": "code",
   "execution_count": 122,
   "metadata": {},
   "outputs": [
    {
     "data": {
      "text/plain": [
       "3432    1.357342\n",
       "5386    1.416782\n",
       "1686    2.457739\n",
       "1576    1.995252\n",
       "4510    1.335606\n",
       "          ...   \n",
       "5724    1.567113\n",
       "6201    1.597092\n",
       "4750    1.772108\n",
       "3830    2.036411\n",
       "616     1.258934\n",
       "Name: price_ratio, Length: 1274, dtype: float64"
      ]
     },
     "execution_count": 122,
     "metadata": {},
     "output_type": "execute_result"
    }
   ],
   "source": [
    "x_test.price_ratio"
   ]
  },
  {
   "cell_type": "code",
   "execution_count": 123,
   "metadata": {},
   "outputs": [],
   "source": [
    "x_test.average_price = power.fit_transform(x_test.average_price.values.reshape(-1,1))"
   ]
  },
  {
   "cell_type": "code",
   "execution_count": 124,
   "metadata": {},
   "outputs": [],
   "source": [
    "x_test.price_diff = x_test.price_diff.abs()"
   ]
  },
  {
   "cell_type": "code",
   "execution_count": 125,
   "metadata": {},
   "outputs": [],
   "source": [
    "x_test.price_diff = power.fit_transform(x_test.price_diff.values.reshape(-1,1))"
   ]
  },
  {
   "cell_type": "code",
   "execution_count": 126,
   "metadata": {},
   "outputs": [],
   "source": [
    "x_test.maximum_price = x_test.maximum_price.apply(lambda x:np.round(x,2))"
   ]
  },
  {
   "cell_type": "code",
   "execution_count": 127,
   "metadata": {},
   "outputs": [],
   "source": [
    "x_test.average_price = x_test.average_price.apply(lambda x: np.round(x,2))"
   ]
  },
  {
   "cell_type": "code",
   "execution_count": 128,
   "metadata": {},
   "outputs": [],
   "source": [
    "x_test.drop(['minimum_price', 'maximum_price'], axis=1, inplace=True)"
   ]
  },
  {
   "cell_type": "code",
   "execution_count": null,
   "metadata": {},
   "outputs": [],
   "source": []
  },
  {
   "cell_type": "code",
   "execution_count": 129,
   "metadata": {},
   "outputs": [
    {
     "data": {
      "image/png": "[encoded data removed]",
      "text/plain": [
       "<Figure size 864x432 with 1 Axes>"
      ]
     },
     "metadata": {
      "needs_background": "light"
     },
     "output_type": "display_data"
    }
   ],
   "source": [
    "plt.figure(figsize=(12,6))\n",
    "sns.distplot(x_test.average_price, bins = 20, kde = True, color = 'g')\n",
    "plt.show()"
   ]
  },
  {
   "cell_type": "code",
   "execution_count": 130,
   "metadata": {},
   "outputs": [],
   "source": [
    "x_test_final = x_test[['discount_avail' ,'average_price' ,'price_diff','price_ratio' ]]"
   ]
  },
  {
   "cell_type": "code",
   "execution_count": 131,
   "metadata": {},
   "outputs": [
    {
     "data": {
      "text/html": [
       "<div>\n",
       "<style scoped>\n",
       "    .dataframe tbody tr th:only-of-type {\n",
       "        vertical-align: middle;\n",
       "    }\n",
       "\n",
       "    .dataframe tbody tr th {\n",
       "        vertical-align: top;\n",
       "    }\n",
       "\n",
       "    .dataframe thead th {\n",
       "        text-align: right;\n",
       "    }\n",
       "</style>\n",
       "<table border=\"1\" class=\"dataframe\">\n",
       "  <thead>\n",
       "    <tr style=\"text-align: right;\">\n",
       "      <th></th>\n",
       "      <th>discount_avail</th>\n",
       "      <th>average_price</th>\n",
       "      <th>price_diff</th>\n",
       "      <th>price_ratio</th>\n",
       "    </tr>\n",
       "  </thead>\n",
       "  <tbody>\n",
       "    <tr>\n",
       "      <th>3432</th>\n",
       "      <td>0.0</td>\n",
       "      <td>-0.35</td>\n",
       "      <td>-0.860091</td>\n",
       "      <td>1.357342</td>\n",
       "    </tr>\n",
       "    <tr>\n",
       "      <th>5386</th>\n",
       "      <td>0.0</td>\n",
       "      <td>0.35</td>\n",
       "      <td>-0.183973</td>\n",
       "      <td>1.416782</td>\n",
       "    </tr>\n",
       "    <tr>\n",
       "      <th>1686</th>\n",
       "      <td>0.0</td>\n",
       "      <td>-1.65</td>\n",
       "      <td>-0.669752</td>\n",
       "      <td>2.457739</td>\n",
       "    </tr>\n",
       "    <tr>\n",
       "      <th>1576</th>\n",
       "      <td>0.0</td>\n",
       "      <td>-1.00</td>\n",
       "      <td>-0.358545</td>\n",
       "      <td>1.995252</td>\n",
       "    </tr>\n",
       "    <tr>\n",
       "      <th>4510</th>\n",
       "      <td>0.0</td>\n",
       "      <td>-0.28</td>\n",
       "      <td>-0.882218</td>\n",
       "      <td>1.335606</td>\n",
       "    </tr>\n",
       "    <tr>\n",
       "      <th>...</th>\n",
       "      <td>...</td>\n",
       "      <td>...</td>\n",
       "      <td>...</td>\n",
       "      <td>...</td>\n",
       "    </tr>\n",
       "    <tr>\n",
       "      <th>5724</th>\n",
       "      <td>1.0</td>\n",
       "      <td>0.11</td>\n",
       "      <td>-0.020571</td>\n",
       "      <td>1.567113</td>\n",
       "    </tr>\n",
       "    <tr>\n",
       "      <th>6201</th>\n",
       "      <td>0.0</td>\n",
       "      <td>-1.69</td>\n",
       "      <td>-1.522988</td>\n",
       "      <td>1.597092</td>\n",
       "    </tr>\n",
       "    <tr>\n",
       "      <th>4750</th>\n",
       "      <td>0.0</td>\n",
       "      <td>-0.27</td>\n",
       "      <td>0.010109</td>\n",
       "      <td>1.772108</td>\n",
       "    </tr>\n",
       "    <tr>\n",
       "      <th>3830</th>\n",
       "      <td>0.0</td>\n",
       "      <td>0.83</td>\n",
       "      <td>1.050181</td>\n",
       "      <td>2.036411</td>\n",
       "    </tr>\n",
       "    <tr>\n",
       "      <th>616</th>\n",
       "      <td>0.0</td>\n",
       "      <td>1.61</td>\n",
       "      <td>0.045442</td>\n",
       "      <td>1.258934</td>\n",
       "    </tr>\n",
       "  </tbody>\n",
       "</table>\n",
       "<p>1274 rows × 4 columns</p>\n",
       "</div>"
      ],
      "text/plain": [
       "      discount_avail  average_price  price_diff  price_ratio\n",
       "3432             0.0          -0.35   -0.860091     1.357342\n",
       "5386             0.0           0.35   -0.183973     1.416782\n",
       "1686             0.0          -1.65   -0.669752     2.457739\n",
       "1576             0.0          -1.00   -0.358545     1.995252\n",
       "4510             0.0          -0.28   -0.882218     1.335606\n",
       "...              ...            ...         ...          ...\n",
       "5724             1.0           0.11   -0.020571     1.567113\n",
       "6201             0.0          -1.69   -1.522988     1.597092\n",
       "4750             0.0          -0.27    0.010109     1.772108\n",
       "3830             0.0           0.83    1.050181     2.036411\n",
       "616              0.0           1.61    0.045442     1.258934\n",
       "\n",
       "[1274 rows x 4 columns]"
      ]
     },
     "execution_count": 131,
     "metadata": {},
     "output_type": "execute_result"
    }
   ],
   "source": [
    "x_test_final"
   ]
  },
  {
   "cell_type": "code",
   "execution_count": null,
   "metadata": {},
   "outputs": [],
   "source": []
  },
  {
   "cell_type": "code",
   "execution_count": 134,
   "metadata": {},
   "outputs": [
    {
     "data": {
      "text/plain": [
       "4"
      ]
     },
     "execution_count": 134,
     "metadata": {},
     "output_type": "execute_result"
    }
   ],
   "source": [
    "y_test.selling_price.isnull().sum()"
   ]
  },
  {
   "cell_type": "code",
   "execution_count": 135,
   "metadata": {},
   "outputs": [
    {
     "name": "stdout",
     "output_type": "stream",
     "text": [
      "4276.8228\n"
     ]
    },
    {
     "data": {
      "text/plain": [
       "4643.377384815991"
      ]
     },
     "execution_count": 135,
     "metadata": {},
     "output_type": "execute_result"
    }
   ],
   "source": [
    "print(y_test.selling_price.median())\n",
    "y_test.selling_price.mean()"
   ]
  },
  {
   "cell_type": "code",
   "execution_count": 136,
   "metadata": {},
   "outputs": [
    {
     "data": {
      "image/png": "[encoded data removed]",
      "text/plain": [
       "<Figure size 864x432 with 1 Axes>"
      ]
     },
     "metadata": {
      "needs_background": "light"
     },
     "output_type": "display_data"
    }
   ],
   "source": [
    "plt.figure(figsize=(12,6))\n",
    "sns.distplot(y_test.selling_price, bins = 20, kde = True, color = 'g')\n",
    "plt.show()"
   ]
  },
  {
   "cell_type": "code",
   "execution_count": 137,
   "metadata": {},
   "outputs": [],
   "source": [
    "y_tstrl = y_test.copy()"
   ]
  },
  {
   "cell_type": "code",
   "execution_count": 138,
   "metadata": {},
   "outputs": [],
   "source": [
    "y_test.selling_price.fillna(value=y_test.selling_price.mean(), inplace=True)"
   ]
  },
  {
   "cell_type": "code",
   "execution_count": null,
   "metadata": {},
   "outputs": [],
   "source": []
  },
  {
   "cell_type": "markdown",
   "metadata": {},
   "source": [
    "# Training the model"
   ]
  },
  {
   "cell_type": "code",
   "execution_count": null,
   "metadata": {},
   "outputs": [],
   "source": [
    "dtr = DecisionTreeRegressor()\n",
    "n_splits = 5\n",
    "kf = KFold(n_splits=n_splits, shuffle = True)\n",
    "scoring = ('neg_mean_squared_error')\n",
    "cv_results = cross_validate(dtr,x_train_final, y_train, cv = kf, scoring=scoring, return_train_score=False)\n",
    "cv_results['test_score'].mean()"
   ]
  },
  {
   "cell_type": "code",
   "execution_count": null,
   "metadata": {},
   "outputs": [],
   "source": [
    "x_train_final"
   ]
  },
  {
   "cell_type": "code",
   "execution_count": null,
   "metadata": {},
   "outputs": [],
   "source": [
    "dtrfit = dtr.fit(x_train, y_train)\n",
    "y_pred_dtr = dtrfit.predict(x_test)"
   ]
  },
  {
   "cell_type": "code",
   "execution_count": null,
   "metadata": {},
   "outputs": [],
   "source": [
    "score = np.sqrt(mean_squared_log_error(y_test, y_pred_dtr))"
   ]
  },
  {
   "cell_type": "code",
   "execution_count": null,
   "metadata": {},
   "outputs": [],
   "source": [
    "score"
   ]
  },
  {
   "cell_type": "code",
   "execution_count": 144,
   "metadata": {},
   "outputs": [],
   "source": [
    "rfr = RandomForestRegressor(n_estimators=300,min_samples_split=3,min_samples_leaf=2,\n",
    "                            max_features='auto',max_depth=5,bootstrap=True,n_jobs=-1, random_state=1)\n",
    "rfr.fit(x_train_final, y_train.values.ravel())\n",
    "y_predrfr = rfr.predict(x_test_final)\n"
   ]
  },
  {
   "cell_type": "code",
   "execution_count": 145,
   "metadata": {},
   "outputs": [
    {
     "data": {
      "text/plain": [
       "array([ 3799.03101001,  5691.85383851,  1906.83293115, ...,\n",
       "        3950.21236325,  7045.19260258, 10121.81920887])"
      ]
     },
     "execution_count": 145,
     "metadata": {},
     "output_type": "execute_result"
    }
   ],
   "source": [
    "y_predrfr\n"
   ]
  },
  {
   "cell_type": "code",
   "execution_count": 146,
   "metadata": {},
   "outputs": [],
   "source": [
    "score = np.sqrt(mean_squared_log_error(y_test, y_predrfr))"
   ]
  },
  {
   "cell_type": "code",
   "execution_count": 147,
   "metadata": {},
   "outputs": [],
   "source": [
    "score_final = max(0,100 - score)"
   ]
  },
  {
   "cell_type": "code",
   "execution_count": 148,
   "metadata": {},
   "outputs": [
    {
     "data": {
      "text/plain": [
       "99.86541312244894"
      ]
     },
     "execution_count": 148,
     "metadata": {},
     "output_type": "execute_result"
    }
   ],
   "source": [
    "score_final"
   ]
  },
  {
   "cell_type": "code",
   "execution_count": null,
   "metadata": {},
   "outputs": [],
   "source": [
    "print(asa"
   ]
  },
  {
   "cell_type": "code",
   "execution_count": null,
   "metadata": {},
   "outputs": [],
   "source": [
    "param_grid = {'n_estimators': [200,700], 'max_features': ['auto', 'sqrt', 'log2'], \n",
    "              'min_samples_split': [2,5,10], 'min_samples_leaf': [1,2,3,4,5],\n",
    "              'bootstrap':[True, False], 'max_depth':[int(x) for x in np.linspace(10,110, num = 11)]\n",
    "               }"
   ]
  },
  {
   "cell_type": "code",
   "execution_count": null,
   "metadata": {},
   "outputs": [],
   "source": [
    "rf_random = RandomizedSearchCV(estimator=RandomForestRegressor(), param_distributions=param_grid,n_iter=100,\n",
    "                              n_jobs=-1, cv=2, random_state=1)\n",
    "\n",
    "rf_random.fit(x_train_final, y_train.values.ravel())"
   ]
  },
  {
   "cell_type": "code",
   "execution_count": null,
   "metadata": {},
   "outputs": [],
   "source": [
    "rf_random.best_params_"
   ]
  },
  {
   "cell_type": "code",
   "execution_count": null,
   "metadata": {},
   "outputs": [],
   "source": [
    "estimator"
   ]
  },
  {
   "cell_type": "code",
   "execution_count": null,
   "metadata": {},
   "outputs": [],
   "source": []
  },
  {
   "cell_type": "code",
   "execution_count": null,
   "metadata": {},
   "outputs": [],
   "source": [
    "# score 99.862365 - with four features excluding demand\n",
    "# score 99.8623733 - with n_estimators as 650 and same four features\n",
    "# score 99.8766 - with the best params from the RandomizedCVSearch"
   ]
  },
  {
   "cell_type": "code",
   "execution_count": null,
   "metadata": {},
   "outputs": [],
   "source": []
  },
  {
   "cell_type": "code",
   "execution_count": null,
   "metadata": {},
   "outputs": [],
   "source": [
    "# bagging regressor\n",
    "\n",
    "bagreg = BaggingRegressor(base_estimator=RandomForestRegressor(n_estimators=100, random_state=1),n_jobs=-1 ,n_estimators = 100, random_state = 1)\n",
    "bagreg.fit(x_train_final, y_train.values.ravel())\n",
    "y_predbag = bagreg.predict(x_test)"
   ]
  },
  {
   "cell_type": "code",
   "execution_count": null,
   "metadata": {},
   "outputs": [],
   "source": [
    "y_predbag = bagreg.predict(x_test)"
   ]
  },
  {
   "cell_type": "code",
   "execution_count": null,
   "metadata": {},
   "outputs": [],
   "source": [
    "score_bagreg = np.sqrt(mean_squared_log_error(y_test, y_predbag))"
   ]
  },
  {
   "cell_type": "code",
   "execution_count": null,
   "metadata": {},
   "outputs": [],
   "source": [
    "scorebagreg_final = max(0,100 - score_bagreg)"
   ]
  },
  {
   "cell_type": "code",
   "execution_count": null,
   "metadata": {},
   "outputs": [],
   "source": [
    "scorebagreg_final"
   ]
  },
  {
   "cell_type": "code",
   "execution_count": null,
   "metadata": {},
   "outputs": [],
   "source": [
    "#y_pred_final = pd.DataFrame(y_predrfr)"
   ]
  },
  {
   "cell_type": "code",
   "execution_count": null,
   "metadata": {},
   "outputs": [],
   "source": [
    "#y_pred_final.rename(columns = {0:'selling_price'}, inplace=True)"
   ]
  },
  {
   "cell_type": "code",
   "execution_count": null,
   "metadata": {},
   "outputs": [],
   "source": [
    "#y_pred_final['product_id'] = df['Product_id']"
   ]
  },
  {
   "cell_type": "code",
   "execution_count": null,
   "metadata": {},
   "outputs": [],
   "source": [
    "#y_pred_final.columns[-1:]"
   ]
  },
  {
   "cell_type": "code",
   "execution_count": null,
   "metadata": {},
   "outputs": [],
   "source": [
    "#cols = y_pred_final.columns.to_list()"
   ]
  },
  {
   "cell_type": "code",
   "execution_count": null,
   "metadata": {},
   "outputs": [],
   "source": [
    "#cols = cols[-1:] + cols [:-1]"
   ]
  },
  {
   "cell_type": "code",
   "execution_count": null,
   "metadata": {},
   "outputs": [],
   "source": [
    "#y_pred_final = y_pred_final[cols]"
   ]
  },
  {
   "cell_type": "code",
   "execution_count": null,
   "metadata": {},
   "outputs": [],
   "source": [
    "# Stacking model\n",
    "\n",
    "estimators =[('ExtraTreeReg', ExtraTreesRegressor()), ('AdaBoost', AdaBoostRegressor())]\n",
    "\n",
    "stack_reg = StackingRegressor(estimators=estimators, final_estimator=RandomForestRegressor(n_estimators=150,min_samples_split=5,\n",
    "                                                                                           min_samples_leaf=4, max_features='auto',n_jobs=-1,))"
   ]
  },
  {
   "cell_type": "code",
   "execution_count": null,
   "metadata": {},
   "outputs": [],
   "source": [
    "sreg_fit = stack_reg.fit(x_train_final, y_train.values.ravel())"
   ]
  },
  {
   "cell_type": "code",
   "execution_count": null,
   "metadata": {},
   "outputs": [],
   "source": [
    "y_predstack = sreg_fit.predict(x_test_final)"
   ]
  },
  {
   "cell_type": "code",
   "execution_count": null,
   "metadata": {},
   "outputs": [],
   "source": [
    "score_stack = np.sqrt(mean_squared_log_error(y_test, y_predstack))"
   ]
  },
  {
   "cell_type": "code",
   "execution_count": null,
   "metadata": {},
   "outputs": [],
   "source": [
    "scorestack_final = max(0,100 - score_stack)"
   ]
  },
  {
   "cell_type": "code",
   "execution_count": null,
   "metadata": {},
   "outputs": [],
   "source": [
    "scorestack_final"
   ]
  },
  {
   "cell_type": "code",
   "execution_count": null,
   "metadata": {},
   "outputs": [],
   "source": []
  },
  {
   "cell_type": "markdown",
   "metadata": {},
   "source": [
    "# Real_Test_Data"
   ]
  },
  {
   "cell_type": "code",
   "execution_count": 194,
   "metadata": {},
   "outputs": [],
   "source": [
    "test = pd.read_csv(r'C:\\Users\\sanke\\OneDrive\\Desktop\\Projects\\Machine Hack\\Hack 2\\test.csv')"
   ]
  },
  {
   "cell_type": "code",
   "execution_count": 195,
   "metadata": {},
   "outputs": [],
   "source": [
    "test1 = test.copy()"
   ]
  },
  {
   "cell_type": "code",
   "execution_count": 150,
   "metadata": {},
   "outputs": [
    {
     "data": {
      "text/plain": [
       "0       SCHE4YSTDVPVZVXW\n",
       "1       ACCEGCATKHNRXUHW\n",
       "2       NKCE6GJ5XVJDXNNZ\n",
       "3       NKCEB8BK3ZXDHDHM\n",
       "4       TOPEFDXSAHRNPF94\n",
       "              ...       \n",
       "3425    BBAE9K7BXFUTDNBK\n",
       "3426    RTRDYPA4PJHCJCGF\n",
       "3427    TUNE8FWQBS7TVVT7\n",
       "3428    NKCEGMUABCRGUZPE\n",
       "3429    RNGE7M92KAQWUBCS\n",
       "Name: Product_id, Length: 3430, dtype: object"
      ]
     },
     "execution_count": 150,
     "metadata": {},
     "output_type": "execute_result"
    }
   ],
   "source": [
    "test.Product_id"
   ]
  },
  {
   "cell_type": "code",
   "execution_count": 151,
   "metadata": {},
   "outputs": [],
   "source": [
    "test.columns = test.columns.str.lower()"
   ]
  },
  {
   "cell_type": "code",
   "execution_count": 152,
   "metadata": {},
   "outputs": [],
   "source": [
    "test.loyalty_customer = le.fit_transform(test.loyalty_customer)"
   ]
  },
  {
   "cell_type": "code",
   "execution_count": 153,
   "metadata": {},
   "outputs": [],
   "source": [
    "ohe_test = pd.get_dummies(test.product_category, prefix = 'prod', prefix_sep='_', dtype = float )"
   ]
  },
  {
   "cell_type": "code",
   "execution_count": 154,
   "metadata": {},
   "outputs": [],
   "source": [
    "test = pd.concat([test,ohe_test], axis = 1, join = 'outer')"
   ]
  },
  {
   "cell_type": "code",
   "execution_count": 155,
   "metadata": {},
   "outputs": [],
   "source": [
    "test.rename(columns={'charges_2 (%)': 'charges_2'}, inplace=True)"
   ]
  },
  {
   "cell_type": "code",
   "execution_count": 156,
   "metadata": {},
   "outputs": [],
   "source": [
    "test.drop(['product_id', 'customer_name', 'instock_date', 'product_category'], axis = 1, inplace=True)"
   ]
  },
  {
   "cell_type": "code",
   "execution_count": null,
   "metadata": {},
   "outputs": [],
   "source": []
  },
  {
   "cell_type": "code",
   "execution_count": 157,
   "metadata": {},
   "outputs": [
    {
     "data": {
      "text/plain": [
       "1"
      ]
     },
     "execution_count": 157,
     "metadata": {},
     "output_type": "execute_result"
    }
   ],
   "source": [
    "test.stall_no.isnull().sum()"
   ]
  },
  {
   "cell_type": "code",
   "execution_count": 158,
   "metadata": {},
   "outputs": [],
   "source": [
    "test.stall_no.fillna(value=0, inplace = True)"
   ]
  },
  {
   "cell_type": "code",
   "execution_count": null,
   "metadata": {},
   "outputs": [],
   "source": []
  },
  {
   "cell_type": "code",
   "execution_count": 159,
   "metadata": {},
   "outputs": [
    {
     "data": {
      "text/plain": [
       "36"
      ]
     },
     "execution_count": 159,
     "metadata": {},
     "output_type": "execute_result"
    }
   ],
   "source": [
    "test.charges_1.isnull().sum()"
   ]
  },
  {
   "cell_type": "code",
   "execution_count": 160,
   "metadata": {},
   "outputs": [
    {
     "data": {
      "image/png": "[encoded data removed]",
      "text/plain": [
       "<Figure size 864x432 with 1 Axes>"
      ]
     },
     "metadata": {
      "needs_background": "light"
     },
     "output_type": "display_data"
    }
   ],
   "source": [
    "plt.figure(figsize=(12,6))\n",
    "sns.distplot(test.charges_1, bins = 20, kde = True, color = 'g')\n",
    "plt.show()"
   ]
  },
  {
   "cell_type": "code",
   "execution_count": 161,
   "metadata": {},
   "outputs": [
    {
     "name": "stdout",
     "output_type": "stream",
     "text": [
      "252.0\n"
     ]
    },
    {
     "data": {
      "text/plain": [
       "265.4849734826164"
      ]
     },
     "execution_count": 161,
     "metadata": {},
     "output_type": "execute_result"
    }
   ],
   "source": [
    "print(test.charges_1.median())\n",
    "test.charges_1.mean()"
   ]
  },
  {
   "cell_type": "code",
   "execution_count": 162,
   "metadata": {},
   "outputs": [],
   "source": [
    "test.charges_1.fillna(value=test.charges_1.mean(), inplace=True)"
   ]
  },
  {
   "cell_type": "code",
   "execution_count": null,
   "metadata": {},
   "outputs": [],
   "source": []
  },
  {
   "cell_type": "code",
   "execution_count": 163,
   "metadata": {},
   "outputs": [],
   "source": [
    "test.discount_avail = test.discount_avail.astype(float)"
   ]
  },
  {
   "cell_type": "code",
   "execution_count": null,
   "metadata": {},
   "outputs": [],
   "source": []
  },
  {
   "cell_type": "code",
   "execution_count": 164,
   "metadata": {},
   "outputs": [
    {
     "data": {
      "text/plain": [
       "14"
      ]
     },
     "execution_count": 164,
     "metadata": {},
     "output_type": "execute_result"
    }
   ],
   "source": [
    "test.minimum_price.isnull().sum()"
   ]
  },
  {
   "cell_type": "code",
   "execution_count": 165,
   "metadata": {},
   "outputs": [
    {
     "data": {
      "image/png": "[encoded data removed]",
      "text/plain": [
       "<Figure size 864x432 with 1 Axes>"
      ]
     },
     "metadata": {
      "needs_background": "light"
     },
     "output_type": "display_data"
    }
   ],
   "source": [
    "plt.figure(figsize=(12,6))\n",
    "sns.distplot(test.minimum_price, bins = 20, kde = True, color = 'g')\n",
    "plt.show()"
   ]
  },
  {
   "cell_type": "code",
   "execution_count": 166,
   "metadata": {},
   "outputs": [
    {
     "name": "stdout",
     "output_type": "stream",
     "text": [
      "3444.2060889929744\n"
     ]
    },
    {
     "data": {
      "text/plain": [
       "3060.5"
      ]
     },
     "execution_count": 166,
     "metadata": {},
     "output_type": "execute_result"
    }
   ],
   "source": [
    "print(test.minimum_price.mean())\n",
    "test.minimum_price.median()"
   ]
  },
  {
   "cell_type": "code",
   "execution_count": 167,
   "metadata": {},
   "outputs": [],
   "source": [
    "test.minimum_price.fillna(value=test.minimum_price.mean(), inplace=True)"
   ]
  },
  {
   "cell_type": "code",
   "execution_count": null,
   "metadata": {},
   "outputs": [],
   "source": []
  },
  {
   "cell_type": "code",
   "execution_count": 168,
   "metadata": {},
   "outputs": [
    {
     "data": {
      "text/plain": [
       "0"
      ]
     },
     "execution_count": 168,
     "metadata": {},
     "output_type": "execute_result"
    }
   ],
   "source": [
    "test.maximum_price.isnull().sum()"
   ]
  },
  {
   "cell_type": "code",
   "execution_count": 169,
   "metadata": {},
   "outputs": [],
   "source": [
    "test['average_price'] = (test['minimum_price'] + test['maximum_price'])/2"
   ]
  },
  {
   "cell_type": "code",
   "execution_count": 170,
   "metadata": {},
   "outputs": [],
   "source": [
    "test['price_diff'] = (test['maximum_price'] - test['minimum_price'])"
   ]
  },
  {
   "cell_type": "code",
   "execution_count": 171,
   "metadata": {},
   "outputs": [],
   "source": [
    "test['price_ratio'] = (test['maximum_price']/test['minimum_price'])"
   ]
  },
  {
   "cell_type": "code",
   "execution_count": 172,
   "metadata": {},
   "outputs": [
    {
     "data": {
      "text/plain": [
       "5"
      ]
     },
     "execution_count": 172,
     "metadata": {},
     "output_type": "execute_result"
    }
   ],
   "source": [
    "test.charges_2.isnull().sum()"
   ]
  },
  {
   "cell_type": "code",
   "execution_count": 173,
   "metadata": {},
   "outputs": [
    {
     "data": {
      "image/png": "[encoded data removed]",
      "text/plain": [
       "<Figure size 864x432 with 1 Axes>"
      ]
     },
     "metadata": {
      "needs_background": "light"
     },
     "output_type": "display_data"
    }
   ],
   "source": [
    "plt.figure(figsize=(12,6))\n",
    "sns.distplot(test.charges_2, bins = 20, kde = True, color = 'g')\n",
    "plt.show()"
   ]
  },
  {
   "cell_type": "code",
   "execution_count": 174,
   "metadata": {},
   "outputs": [
    {
     "name": "stdout",
     "output_type": "stream",
     "text": [
      "10.436204379562044\n"
     ]
    },
    {
     "data": {
      "text/plain": [
       "11.0"
      ]
     },
     "execution_count": 174,
     "metadata": {},
     "output_type": "execute_result"
    }
   ],
   "source": [
    "print(test.charges_2.mean())\n",
    "test.charges_2.median()"
   ]
  },
  {
   "cell_type": "code",
   "execution_count": 175,
   "metadata": {},
   "outputs": [],
   "source": [
    "test.charges_2.fillna(test.charges_2.median(), inplace=True)"
   ]
  },
  {
   "cell_type": "code",
   "execution_count": null,
   "metadata": {},
   "outputs": [],
   "source": []
  },
  {
   "cell_type": "code",
   "execution_count": 176,
   "metadata": {},
   "outputs": [
    {
     "data": {
      "image/png": "[encoded data removed]",
      "text/plain": [
       "<Figure size 864x432 with 1 Axes>"
      ]
     },
     "metadata": {
      "needs_background": "light"
     },
     "output_type": "display_data"
    }
   ],
   "source": [
    "plt.figure(figsize=(12,6))\n",
    "sns.distplot(test.average_price, bins = 20, kde = True, color = 'g')\n",
    "plt.show()"
   ]
  },
  {
   "cell_type": "code",
   "execution_count": 177,
   "metadata": {},
   "outputs": [],
   "source": [
    "test.average_price = power.fit_transform(test.average_price.values.reshape(-1,1))"
   ]
  },
  {
   "cell_type": "code",
   "execution_count": 178,
   "metadata": {},
   "outputs": [],
   "source": [
    "test.price_diff = test.price_diff.abs()"
   ]
  },
  {
   "cell_type": "code",
   "execution_count": 179,
   "metadata": {},
   "outputs": [],
   "source": [
    "test.price_diff = power.fit_transform(test.price_diff.values.reshape(-1,1))"
   ]
  },
  {
   "cell_type": "code",
   "execution_count": 180,
   "metadata": {},
   "outputs": [
    {
     "data": {
      "image/png": "[encoded data removed]",
      "text/plain": [
       "<Figure size 864x432 with 1 Axes>"
      ]
     },
     "metadata": {
      "needs_background": "light"
     },
     "output_type": "display_data"
    }
   ],
   "source": [
    "plt.figure(figsize=(12,6))\n",
    "sns.distplot(test.average_price, bins = 20, kde = True, color = 'g')\n",
    "plt.show()"
   ]
  },
  {
   "cell_type": "code",
   "execution_count": 181,
   "metadata": {},
   "outputs": [
    {
     "data": {
      "text/html": [
       "<div>\n",
       "<style scoped>\n",
       "    .dataframe tbody tr th:only-of-type {\n",
       "        vertical-align: middle;\n",
       "    }\n",
       "\n",
       "    .dataframe tbody tr th {\n",
       "        vertical-align: top;\n",
       "    }\n",
       "\n",
       "    .dataframe thead th {\n",
       "        text-align: right;\n",
       "    }\n",
       "</style>\n",
       "<table border=\"1\" class=\"dataframe\">\n",
       "  <thead>\n",
       "    <tr style=\"text-align: right;\">\n",
       "      <th></th>\n",
       "      <th>stall_no</th>\n",
       "      <th>market_category</th>\n",
       "      <th>loyalty_customer</th>\n",
       "      <th>grade</th>\n",
       "      <th>demand</th>\n",
       "      <th>discount_avail</th>\n",
       "      <th>charges_1</th>\n",
       "      <th>charges_2</th>\n",
       "      <th>minimum_price</th>\n",
       "      <th>maximum_price</th>\n",
       "      <th>...</th>\n",
       "      <th>prod_Fashion</th>\n",
       "      <th>prod_Home_decor</th>\n",
       "      <th>prod_Hospitality</th>\n",
       "      <th>prod_Organic</th>\n",
       "      <th>prod_Pet_care</th>\n",
       "      <th>prod_Repair</th>\n",
       "      <th>prod_Technology</th>\n",
       "      <th>average_price</th>\n",
       "      <th>price_diff</th>\n",
       "      <th>price_ratio</th>\n",
       "    </tr>\n",
       "  </thead>\n",
       "  <tbody>\n",
       "    <tr>\n",
       "      <th>0</th>\n",
       "      <td>39.0</td>\n",
       "      <td>205</td>\n",
       "      <td>0</td>\n",
       "      <td>0</td>\n",
       "      <td>90</td>\n",
       "      <td>0.0</td>\n",
       "      <td>380.0</td>\n",
       "      <td>16.0</td>\n",
       "      <td>2576.0</td>\n",
       "      <td>3340</td>\n",
       "      <td>...</td>\n",
       "      <td>1.0</td>\n",
       "      <td>0.0</td>\n",
       "      <td>0.0</td>\n",
       "      <td>0.0</td>\n",
       "      <td>0.0</td>\n",
       "      <td>0.0</td>\n",
       "      <td>0.0</td>\n",
       "      <td>-0.635659</td>\n",
       "      <td>-1.351639</td>\n",
       "      <td>1.296584</td>\n",
       "    </tr>\n",
       "    <tr>\n",
       "      <th>1</th>\n",
       "      <td>49.0</td>\n",
       "      <td>3</td>\n",
       "      <td>1</td>\n",
       "      <td>0</td>\n",
       "      <td>87</td>\n",
       "      <td>0.0</td>\n",
       "      <td>393.0</td>\n",
       "      <td>16.0</td>\n",
       "      <td>1202.0</td>\n",
       "      <td>1955</td>\n",
       "      <td>...</td>\n",
       "      <td>1.0</td>\n",
       "      <td>0.0</td>\n",
       "      <td>0.0</td>\n",
       "      <td>0.0</td>\n",
       "      <td>0.0</td>\n",
       "      <td>0.0</td>\n",
       "      <td>0.0</td>\n",
       "      <td>-1.488121</td>\n",
       "      <td>-1.370983</td>\n",
       "      <td>1.626456</td>\n",
       "    </tr>\n",
       "    <tr>\n",
       "      <th>2</th>\n",
       "      <td>1.0</td>\n",
       "      <td>183</td>\n",
       "      <td>0</td>\n",
       "      <td>2</td>\n",
       "      <td>55</td>\n",
       "      <td>0.0</td>\n",
       "      <td>493.0</td>\n",
       "      <td>9.0</td>\n",
       "      <td>7175.0</td>\n",
       "      <td>15715</td>\n",
       "      <td>...</td>\n",
       "      <td>0.0</td>\n",
       "      <td>0.0</td>\n",
       "      <td>0.0</td>\n",
       "      <td>0.0</td>\n",
       "      <td>0.0</td>\n",
       "      <td>0.0</td>\n",
       "      <td>1.0</td>\n",
       "      <td>1.995820</td>\n",
       "      <td>1.878853</td>\n",
       "      <td>2.190244</td>\n",
       "    </tr>\n",
       "    <tr>\n",
       "      <th>3</th>\n",
       "      <td>8.0</td>\n",
       "      <td>358</td>\n",
       "      <td>1</td>\n",
       "      <td>3</td>\n",
       "      <td>86</td>\n",
       "      <td>0.0</td>\n",
       "      <td>303.0</td>\n",
       "      <td>16.0</td>\n",
       "      <td>5404.0</td>\n",
       "      <td>13078</td>\n",
       "      <td>...</td>\n",
       "      <td>0.0</td>\n",
       "      <td>0.0</td>\n",
       "      <td>0.0</td>\n",
       "      <td>0.0</td>\n",
       "      <td>0.0</td>\n",
       "      <td>0.0</td>\n",
       "      <td>0.0</td>\n",
       "      <td>1.491200</td>\n",
       "      <td>1.735311</td>\n",
       "      <td>2.420059</td>\n",
       "    </tr>\n",
       "    <tr>\n",
       "      <th>4</th>\n",
       "      <td>33.0</td>\n",
       "      <td>167</td>\n",
       "      <td>0</td>\n",
       "      <td>0</td>\n",
       "      <td>27</td>\n",
       "      <td>0.0</td>\n",
       "      <td>567.0</td>\n",
       "      <td>16.0</td>\n",
       "      <td>4069.0</td>\n",
       "      <td>6244</td>\n",
       "      <td>...</td>\n",
       "      <td>0.0</td>\n",
       "      <td>0.0</td>\n",
       "      <td>0.0</td>\n",
       "      <td>0.0</td>\n",
       "      <td>0.0</td>\n",
       "      <td>0.0</td>\n",
       "      <td>1.0</td>\n",
       "      <td>0.294908</td>\n",
       "      <td>0.045860</td>\n",
       "      <td>1.534529</td>\n",
       "    </tr>\n",
       "    <tr>\n",
       "      <th>...</th>\n",
       "      <td>...</td>\n",
       "      <td>...</td>\n",
       "      <td>...</td>\n",
       "      <td>...</td>\n",
       "      <td>...</td>\n",
       "      <td>...</td>\n",
       "      <td>...</td>\n",
       "      <td>...</td>\n",
       "      <td>...</td>\n",
       "      <td>...</td>\n",
       "      <td>...</td>\n",
       "      <td>...</td>\n",
       "      <td>...</td>\n",
       "      <td>...</td>\n",
       "      <td>...</td>\n",
       "      <td>...</td>\n",
       "      <td>...</td>\n",
       "      <td>...</td>\n",
       "      <td>...</td>\n",
       "      <td>...</td>\n",
       "      <td>...</td>\n",
       "    </tr>\n",
       "    <tr>\n",
       "      <th>3425</th>\n",
       "      <td>9.0</td>\n",
       "      <td>58</td>\n",
       "      <td>1</td>\n",
       "      <td>0</td>\n",
       "      <td>39</td>\n",
       "      <td>0.0</td>\n",
       "      <td>117.0</td>\n",
       "      <td>5.0</td>\n",
       "      <td>3094.0</td>\n",
       "      <td>4674</td>\n",
       "      <td>...</td>\n",
       "      <td>0.0</td>\n",
       "      <td>0.0</td>\n",
       "      <td>0.0</td>\n",
       "      <td>0.0</td>\n",
       "      <td>1.0</td>\n",
       "      <td>0.0</td>\n",
       "      <td>0.0</td>\n",
       "      <td>-0.202556</td>\n",
       "      <td>-0.381478</td>\n",
       "      <td>1.510666</td>\n",
       "    </tr>\n",
       "    <tr>\n",
       "      <th>3426</th>\n",
       "      <td>30.0</td>\n",
       "      <td>358</td>\n",
       "      <td>1</td>\n",
       "      <td>3</td>\n",
       "      <td>17</td>\n",
       "      <td>0.0</td>\n",
       "      <td>509.0</td>\n",
       "      <td>6.0</td>\n",
       "      <td>3384.0</td>\n",
       "      <td>14105</td>\n",
       "      <td>...</td>\n",
       "      <td>0.0</td>\n",
       "      <td>0.0</td>\n",
       "      <td>0.0</td>\n",
       "      <td>0.0</td>\n",
       "      <td>0.0</td>\n",
       "      <td>0.0</td>\n",
       "      <td>1.0</td>\n",
       "      <td>1.367031</td>\n",
       "      <td>2.184329</td>\n",
       "      <td>4.168144</td>\n",
       "    </tr>\n",
       "    <tr>\n",
       "      <th>3427</th>\n",
       "      <td>14.0</td>\n",
       "      <td>106</td>\n",
       "      <td>1</td>\n",
       "      <td>0</td>\n",
       "      <td>36</td>\n",
       "      <td>0.0</td>\n",
       "      <td>150.0</td>\n",
       "      <td>17.0</td>\n",
       "      <td>710.0</td>\n",
       "      <td>10894</td>\n",
       "      <td>...</td>\n",
       "      <td>0.0</td>\n",
       "      <td>0.0</td>\n",
       "      <td>0.0</td>\n",
       "      <td>0.0</td>\n",
       "      <td>0.0</td>\n",
       "      <td>0.0</td>\n",
       "      <td>0.0</td>\n",
       "      <td>0.517177</td>\n",
       "      <td>2.115296</td>\n",
       "      <td>15.343662</td>\n",
       "    </tr>\n",
       "    <tr>\n",
       "      <th>3428</th>\n",
       "      <td>1.0</td>\n",
       "      <td>104</td>\n",
       "      <td>1</td>\n",
       "      <td>0</td>\n",
       "      <td>63</td>\n",
       "      <td>0.0</td>\n",
       "      <td>325.0</td>\n",
       "      <td>15.0</td>\n",
       "      <td>1477.0</td>\n",
       "      <td>5165</td>\n",
       "      <td>...</td>\n",
       "      <td>0.0</td>\n",
       "      <td>0.0</td>\n",
       "      <td>0.0</td>\n",
       "      <td>0.0</td>\n",
       "      <td>0.0</td>\n",
       "      <td>0.0</td>\n",
       "      <td>0.0</td>\n",
       "      <td>-0.456696</td>\n",
       "      <td>0.752734</td>\n",
       "      <td>3.496953</td>\n",
       "    </tr>\n",
       "    <tr>\n",
       "      <th>3429</th>\n",
       "      <td>3.0</td>\n",
       "      <td>165</td>\n",
       "      <td>0</td>\n",
       "      <td>0</td>\n",
       "      <td>92</td>\n",
       "      <td>1.0</td>\n",
       "      <td>228.0</td>\n",
       "      <td>9.0</td>\n",
       "      <td>5538.0</td>\n",
       "      <td>7506</td>\n",
       "      <td>...</td>\n",
       "      <td>0.0</td>\n",
       "      <td>0.0</td>\n",
       "      <td>0.0</td>\n",
       "      <td>0.0</td>\n",
       "      <td>0.0</td>\n",
       "      <td>1.0</td>\n",
       "      <td>0.0</td>\n",
       "      <td>0.747025</td>\n",
       "      <td>-0.087903</td>\n",
       "      <td>1.355363</td>\n",
       "    </tr>\n",
       "  </tbody>\n",
       "</table>\n",
       "<p>3430 rows × 23 columns</p>\n",
       "</div>"
      ],
      "text/plain": [
       "      stall_no  market_category  loyalty_customer  grade  demand  \\\n",
       "0         39.0              205                 0      0      90   \n",
       "1         49.0                3                 1      0      87   \n",
       "2          1.0              183                 0      2      55   \n",
       "3          8.0              358                 1      3      86   \n",
       "4         33.0              167                 0      0      27   \n",
       "...        ...              ...               ...    ...     ...   \n",
       "3425       9.0               58                 1      0      39   \n",
       "3426      30.0              358                 1      3      17   \n",
       "3427      14.0              106                 1      0      36   \n",
       "3428       1.0              104                 1      0      63   \n",
       "3429       3.0              165                 0      0      92   \n",
       "\n",
       "      discount_avail  charges_1  charges_2  minimum_price  maximum_price  ...  \\\n",
       "0                0.0      380.0       16.0         2576.0           3340  ...   \n",
       "1                0.0      393.0       16.0         1202.0           1955  ...   \n",
       "2                0.0      493.0        9.0         7175.0          15715  ...   \n",
       "3                0.0      303.0       16.0         5404.0          13078  ...   \n",
       "4                0.0      567.0       16.0         4069.0           6244  ...   \n",
       "...              ...        ...        ...            ...            ...  ...   \n",
       "3425             0.0      117.0        5.0         3094.0           4674  ...   \n",
       "3426             0.0      509.0        6.0         3384.0          14105  ...   \n",
       "3427             0.0      150.0       17.0          710.0          10894  ...   \n",
       "3428             0.0      325.0       15.0         1477.0           5165  ...   \n",
       "3429             1.0      228.0        9.0         5538.0           7506  ...   \n",
       "\n",
       "      prod_Fashion  prod_Home_decor  prod_Hospitality  prod_Organic  \\\n",
       "0              1.0              0.0               0.0           0.0   \n",
       "1              1.0              0.0               0.0           0.0   \n",
       "2              0.0              0.0               0.0           0.0   \n",
       "3              0.0              0.0               0.0           0.0   \n",
       "4              0.0              0.0               0.0           0.0   \n",
       "...            ...              ...               ...           ...   \n",
       "3425           0.0              0.0               0.0           0.0   \n",
       "3426           0.0              0.0               0.0           0.0   \n",
       "3427           0.0              0.0               0.0           0.0   \n",
       "3428           0.0              0.0               0.0           0.0   \n",
       "3429           0.0              0.0               0.0           0.0   \n",
       "\n",
       "      prod_Pet_care  prod_Repair  prod_Technology  average_price  price_diff  \\\n",
       "0               0.0          0.0              0.0      -0.635659   -1.351639   \n",
       "1               0.0          0.0              0.0      -1.488121   -1.370983   \n",
       "2               0.0          0.0              1.0       1.995820    1.878853   \n",
       "3               0.0          0.0              0.0       1.491200    1.735311   \n",
       "4               0.0          0.0              1.0       0.294908    0.045860   \n",
       "...             ...          ...              ...            ...         ...   \n",
       "3425            1.0          0.0              0.0      -0.202556   -0.381478   \n",
       "3426            0.0          0.0              1.0       1.367031    2.184329   \n",
       "3427            0.0          0.0              0.0       0.517177    2.115296   \n",
       "3428            0.0          0.0              0.0      -0.456696    0.752734   \n",
       "3429            0.0          1.0              0.0       0.747025   -0.087903   \n",
       "\n",
       "      price_ratio  \n",
       "0        1.296584  \n",
       "1        1.626456  \n",
       "2        2.190244  \n",
       "3        2.420059  \n",
       "4        1.534529  \n",
       "...           ...  \n",
       "3425     1.510666  \n",
       "3426     4.168144  \n",
       "3427    15.343662  \n",
       "3428     3.496953  \n",
       "3429     1.355363  \n",
       "\n",
       "[3430 rows x 23 columns]"
      ]
     },
     "execution_count": 181,
     "metadata": {},
     "output_type": "execute_result"
    }
   ],
   "source": [
    "test"
   ]
  },
  {
   "cell_type": "code",
   "execution_count": 182,
   "metadata": {},
   "outputs": [],
   "source": [
    "#'stall_no', 'average_price', 'charges_1', 'discount_avail', 'demand' \n",
    "# Could be added - 'market_category', 'charges_2' , 'day', 'month' , 'grade'"
   ]
  },
  {
   "cell_type": "code",
   "execution_count": 183,
   "metadata": {},
   "outputs": [],
   "source": [
    "test.average_price = test.average_price.apply(lambda x : np.round(x,2))"
   ]
  },
  {
   "cell_type": "code",
   "execution_count": 184,
   "metadata": {},
   "outputs": [],
   "source": [
    "test.charges_1 = test.charges_1.apply(lambda x : np.round(x,2))"
   ]
  },
  {
   "cell_type": "code",
   "execution_count": 185,
   "metadata": {},
   "outputs": [],
   "source": [
    "test.drop(['minimum_price', 'maximum_price'], axis = 1, inplace=True)"
   ]
  },
  {
   "cell_type": "code",
   "execution_count": 186,
   "metadata": {},
   "outputs": [
    {
     "data": {
      "text/plain": [
       "23"
      ]
     },
     "execution_count": 186,
     "metadata": {},
     "output_type": "execute_result"
    }
   ],
   "source": [
    "len(x_test.columns)"
   ]
  },
  {
   "cell_type": "code",
   "execution_count": 190,
   "metadata": {},
   "outputs": [
    {
     "data": {
      "text/html": [
       "<div>\n",
       "<style scoped>\n",
       "    .dataframe tbody tr th:only-of-type {\n",
       "        vertical-align: middle;\n",
       "    }\n",
       "\n",
       "    .dataframe tbody tr th {\n",
       "        vertical-align: top;\n",
       "    }\n",
       "\n",
       "    .dataframe thead th {\n",
       "        text-align: right;\n",
       "    }\n",
       "</style>\n",
       "<table border=\"1\" class=\"dataframe\">\n",
       "  <thead>\n",
       "    <tr style=\"text-align: right;\">\n",
       "      <th></th>\n",
       "      <th>discount_avail</th>\n",
       "      <th>average_price</th>\n",
       "      <th>price_diff</th>\n",
       "      <th>price_ratio</th>\n",
       "    </tr>\n",
       "  </thead>\n",
       "  <tbody>\n",
       "    <tr>\n",
       "      <th>0</th>\n",
       "      <td>0.0</td>\n",
       "      <td>-0.64</td>\n",
       "      <td>-1.351639</td>\n",
       "      <td>1.296584</td>\n",
       "    </tr>\n",
       "    <tr>\n",
       "      <th>1</th>\n",
       "      <td>0.0</td>\n",
       "      <td>-1.49</td>\n",
       "      <td>-1.370983</td>\n",
       "      <td>1.626456</td>\n",
       "    </tr>\n",
       "    <tr>\n",
       "      <th>2</th>\n",
       "      <td>0.0</td>\n",
       "      <td>2.00</td>\n",
       "      <td>1.878853</td>\n",
       "      <td>2.190244</td>\n",
       "    </tr>\n",
       "    <tr>\n",
       "      <th>3</th>\n",
       "      <td>0.0</td>\n",
       "      <td>1.49</td>\n",
       "      <td>1.735311</td>\n",
       "      <td>2.420059</td>\n",
       "    </tr>\n",
       "    <tr>\n",
       "      <th>4</th>\n",
       "      <td>0.0</td>\n",
       "      <td>0.29</td>\n",
       "      <td>0.045860</td>\n",
       "      <td>1.534529</td>\n",
       "    </tr>\n",
       "    <tr>\n",
       "      <th>...</th>\n",
       "      <td>...</td>\n",
       "      <td>...</td>\n",
       "      <td>...</td>\n",
       "      <td>...</td>\n",
       "    </tr>\n",
       "    <tr>\n",
       "      <th>3425</th>\n",
       "      <td>0.0</td>\n",
       "      <td>-0.20</td>\n",
       "      <td>-0.381478</td>\n",
       "      <td>1.510666</td>\n",
       "    </tr>\n",
       "    <tr>\n",
       "      <th>3426</th>\n",
       "      <td>0.0</td>\n",
       "      <td>1.37</td>\n",
       "      <td>2.184329</td>\n",
       "      <td>4.168144</td>\n",
       "    </tr>\n",
       "    <tr>\n",
       "      <th>3427</th>\n",
       "      <td>0.0</td>\n",
       "      <td>0.52</td>\n",
       "      <td>2.115296</td>\n",
       "      <td>15.343662</td>\n",
       "    </tr>\n",
       "    <tr>\n",
       "      <th>3428</th>\n",
       "      <td>0.0</td>\n",
       "      <td>-0.46</td>\n",
       "      <td>0.752734</td>\n",
       "      <td>3.496953</td>\n",
       "    </tr>\n",
       "    <tr>\n",
       "      <th>3429</th>\n",
       "      <td>1.0</td>\n",
       "      <td>0.75</td>\n",
       "      <td>-0.087903</td>\n",
       "      <td>1.355363</td>\n",
       "    </tr>\n",
       "  </tbody>\n",
       "</table>\n",
       "<p>3430 rows × 4 columns</p>\n",
       "</div>"
      ],
      "text/plain": [
       "      discount_avail  average_price  price_diff  price_ratio\n",
       "0                0.0          -0.64   -1.351639     1.296584\n",
       "1                0.0          -1.49   -1.370983     1.626456\n",
       "2                0.0           2.00    1.878853     2.190244\n",
       "3                0.0           1.49    1.735311     2.420059\n",
       "4                0.0           0.29    0.045860     1.534529\n",
       "...              ...            ...         ...          ...\n",
       "3425             0.0          -0.20   -0.381478     1.510666\n",
       "3426             0.0           1.37    2.184329     4.168144\n",
       "3427             0.0           0.52    2.115296    15.343662\n",
       "3428             0.0          -0.46    0.752734     3.496953\n",
       "3429             1.0           0.75   -0.087903     1.355363\n",
       "\n",
       "[3430 rows x 4 columns]"
      ]
     },
     "execution_count": 190,
     "metadata": {},
     "output_type": "execute_result"
    }
   ],
   "source": [
    "test_final"
   ]
  },
  {
   "cell_type": "code",
   "execution_count": 188,
   "metadata": {},
   "outputs": [],
   "source": [
    "test_final = test[['discount_avail' ,'average_price' ,'price_diff','price_ratio' ]]"
   ]
  },
  {
   "cell_type": "code",
   "execution_count": 191,
   "metadata": {},
   "outputs": [],
   "source": [
    "y_pred_test = rfr.predict(test_final)"
   ]
  },
  {
   "cell_type": "code",
   "execution_count": 192,
   "metadata": {},
   "outputs": [
    {
     "data": {
      "text/plain": [
       "array([ 3350.59175734,  2147.48664285, 11880.7672373 , ...,\n",
       "        6249.55565526,  3538.52608732,  1050.78465702])"
      ]
     },
     "execution_count": 192,
     "metadata": {},
     "output_type": "execute_result"
    }
   ],
   "source": [
    "y_pred_test"
   ]
  },
  {
   "cell_type": "code",
   "execution_count": 193,
   "metadata": {},
   "outputs": [],
   "source": [
    "y_pred_test = pd.DataFrame(y_pred_test)"
   ]
  },
  {
   "cell_type": "code",
   "execution_count": 196,
   "metadata": {},
   "outputs": [],
   "source": [
    "y_pred_test['Product_id'] = test1['Product_id']"
   ]
  },
  {
   "cell_type": "code",
   "execution_count": 197,
   "metadata": {},
   "outputs": [
    {
     "data": {
      "text/html": [
       "<div>\n",
       "<style scoped>\n",
       "    .dataframe tbody tr th:only-of-type {\n",
       "        vertical-align: middle;\n",
       "    }\n",
       "\n",
       "    .dataframe tbody tr th {\n",
       "        vertical-align: top;\n",
       "    }\n",
       "\n",
       "    .dataframe thead th {\n",
       "        text-align: right;\n",
       "    }\n",
       "</style>\n",
       "<table border=\"1\" class=\"dataframe\">\n",
       "  <thead>\n",
       "    <tr style=\"text-align: right;\">\n",
       "      <th></th>\n",
       "      <th>0</th>\n",
       "      <th>Product_id</th>\n",
       "    </tr>\n",
       "  </thead>\n",
       "  <tbody>\n",
       "    <tr>\n",
       "      <th>0</th>\n",
       "      <td>3350.591757</td>\n",
       "      <td>SCHE4YSTDVPVZVXW</td>\n",
       "    </tr>\n",
       "    <tr>\n",
       "      <th>1</th>\n",
       "      <td>2147.486643</td>\n",
       "      <td>ACCEGCATKHNRXUHW</td>\n",
       "    </tr>\n",
       "    <tr>\n",
       "      <th>2</th>\n",
       "      <td>11880.767237</td>\n",
       "      <td>NKCE6GJ5XVJDXNNZ</td>\n",
       "    </tr>\n",
       "    <tr>\n",
       "      <th>3</th>\n",
       "      <td>9271.666608</td>\n",
       "      <td>NKCEB8BK3ZXDHDHM</td>\n",
       "    </tr>\n",
       "    <tr>\n",
       "      <th>4</th>\n",
       "      <td>5580.223766</td>\n",
       "      <td>TOPEFDXSAHRNPF94</td>\n",
       "    </tr>\n",
       "    <tr>\n",
       "      <th>...</th>\n",
       "      <td>...</td>\n",
       "      <td>...</td>\n",
       "    </tr>\n",
       "    <tr>\n",
       "      <th>3425</th>\n",
       "      <td>4115.647140</td>\n",
       "      <td>BBAE9K7BXFUTDNBK</td>\n",
       "    </tr>\n",
       "    <tr>\n",
       "      <th>3426</th>\n",
       "      <td>8747.495936</td>\n",
       "      <td>RTRDYPA4PJHCJCGF</td>\n",
       "    </tr>\n",
       "    <tr>\n",
       "      <th>3427</th>\n",
       "      <td>6249.555655</td>\n",
       "      <td>TUNE8FWQBS7TVVT7</td>\n",
       "    </tr>\n",
       "    <tr>\n",
       "      <th>3428</th>\n",
       "      <td>3538.526087</td>\n",
       "      <td>NKCEGMUABCRGUZPE</td>\n",
       "    </tr>\n",
       "    <tr>\n",
       "      <th>3429</th>\n",
       "      <td>1050.784657</td>\n",
       "      <td>RNGE7M92KAQWUBCS</td>\n",
       "    </tr>\n",
       "  </tbody>\n",
       "</table>\n",
       "<p>3430 rows × 2 columns</p>\n",
       "</div>"
      ],
      "text/plain": [
       "                 0        Product_id\n",
       "0      3350.591757  SCHE4YSTDVPVZVXW\n",
       "1      2147.486643  ACCEGCATKHNRXUHW\n",
       "2     11880.767237  NKCE6GJ5XVJDXNNZ\n",
       "3      9271.666608  NKCEB8BK3ZXDHDHM\n",
       "4      5580.223766  TOPEFDXSAHRNPF94\n",
       "...            ...               ...\n",
       "3425   4115.647140  BBAE9K7BXFUTDNBK\n",
       "3426   8747.495936  RTRDYPA4PJHCJCGF\n",
       "3427   6249.555655  TUNE8FWQBS7TVVT7\n",
       "3428   3538.526087  NKCEGMUABCRGUZPE\n",
       "3429   1050.784657  RNGE7M92KAQWUBCS\n",
       "\n",
       "[3430 rows x 2 columns]"
      ]
     },
     "execution_count": 197,
     "metadata": {},
     "output_type": "execute_result"
    }
   ],
   "source": [
    "y_pred_test"
   ]
  },
  {
   "cell_type": "code",
   "execution_count": 198,
   "metadata": {},
   "outputs": [],
   "source": [
    "#y_pred_test.drop('product', axis = 1, inplace = True)"
   ]
  },
  {
   "cell_type": "code",
   "execution_count": 199,
   "metadata": {},
   "outputs": [],
   "source": [
    "y_pred_test.rename(columns={0: 'Selling_Price'}, inplace=True)"
   ]
  },
  {
   "cell_type": "code",
   "execution_count": 202,
   "metadata": {},
   "outputs": [],
   "source": [
    "cols2 = y_pred_test.columns.to_list() "
   ]
  },
  {
   "cell_type": "code",
   "execution_count": 203,
   "metadata": {},
   "outputs": [],
   "source": [
    "cols2 = cols2[-1:] + cols2[:-1]"
   ]
  },
  {
   "cell_type": "code",
   "execution_count": 204,
   "metadata": {},
   "outputs": [],
   "source": [
    "y_pred_test = y_pred_test[cols2]"
   ]
  },
  {
   "cell_type": "code",
   "execution_count": 205,
   "metadata": {},
   "outputs": [],
   "source": [
    "y_pred_test.to_csv('C:\\\\Users\\\\sanke\\\\OneDrive\\\\Desktop\\\\Projects\\\\Machine Hack\\\\Hack 2\\\\sub_2.csv', encoding='utf-8', index=False)"
   ]
  },
  {
   "cell_type": "code",
   "execution_count": null,
   "metadata": {},
   "outputs": [],
   "source": [
    "#y_tstdtr = dtr.predict(test_final)"
   ]
  },
  {
   "cell_type": "code",
   "execution_count": null,
   "metadata": {},
   "outputs": [],
   "source": [
    "y_predbag = bagreg.predict(test_final)"
   ]
  },
  {
   "cell_type": "code",
   "execution_count": null,
   "metadata": {},
   "outputs": [],
   "source": [
    "y_predbag = pd.DataFrame(y_predbag)\n",
    "y_predbag.rename(columns = {0: 'Selling_Price'}, inplace = True)\n",
    "y_predbag['Product_id'] = test['Product_id']\n"
   ]
  },
  {
   "cell_type": "code",
   "execution_count": null,
   "metadata": {},
   "outputs": [],
   "source": [
    "colsbag = y_predbag.columns.to_list()\n",
    "colsbag = colsbag[-1:] + colsbag[:-1]\n",
    "y_predbag = y_predbag[colsbag]"
   ]
  },
  {
   "cell_type": "code",
   "execution_count": null,
   "metadata": {},
   "outputs": [],
   "source": [
    "y_predbag.Selling_Price = y_predbag.Selling_Price.apply(lambda x : np.round(x,2))"
   ]
  },
  {
   "cell_type": "code",
   "execution_count": null,
   "metadata": {},
   "outputs": [],
   "source": [
    "y_predbag.to_csv(r'C:\\Users\\sanke\\OneDrive\\Desktop\\Projects\\Machine Hack\\Hack 2\\sub_3.csv', index = False)"
   ]
  },
  {
   "cell_type": "code",
   "execution_count": null,
   "metadata": {},
   "outputs": [],
   "source": []
  },
  {
   "cell_type": "code",
   "execution_count": null,
   "metadata": {},
   "outputs": [],
   "source": [
    "# Stackregressor predictions\n",
    "\n",
    "y_tststack = stack_reg.predict(test_final)"
   ]
  },
  {
   "cell_type": "code",
   "execution_count": null,
   "metadata": {},
   "outputs": [],
   "source": [
    "y_tststack = pd.DataFrame(y_tststack)\n",
    "y_tststack.rename(columns = {0: 'Selling_Price'}, inplace = True)\n",
    "y_tststack['Product_id'] = test['Product_id']"
   ]
  },
  {
   "cell_type": "code",
   "execution_count": null,
   "metadata": {},
   "outputs": [],
   "source": [
    "colsbag = y_tststack.columns.to_list()\n",
    "colsbag = colsbag[-1:] + colsbag[:-1]\n",
    "y_tststack = y_tststack[colsbag]"
   ]
  },
  {
   "cell_type": "code",
   "execution_count": null,
   "metadata": {},
   "outputs": [],
   "source": [
    "y_tststack"
   ]
  },
  {
   "cell_type": "code",
   "execution_count": null,
   "metadata": {},
   "outputs": [],
   "source": []
  }
 ],
 "metadata": {
  "kernelspec": {
   "display_name": "Python 3",
   "language": "python",
   "name": "python3"
  },
  "language_info": {
   "codemirror_mode": {
    "name": "ipython",
    "version": 3
   },
   "file_extension": ".py",
   "mimetype": "text/x-python",
   "name": "python",
   "nbconvert_exporter": "python",
   "pygments_lexer": "ipython3",
   "version": "3.8.3"
  }
 },
 "nbformat": 4,
 "nbformat_minor": 4
}
